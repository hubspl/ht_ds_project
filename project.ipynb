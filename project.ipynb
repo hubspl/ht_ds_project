{
 "cells": [
  {
   "cell_type": "markdown",
   "id": "41b707e2-fc6a-4ce2-9381-d6633490f6fd",
   "metadata": {},
   "source": [
    "# Import wymaganych bibliotek"
   ]
  },
  {
   "cell_type": "code",
   "execution_count": 5,
   "id": "52be82b3-9b14-4875-aec1-43eea0a64c26",
   "metadata": {},
   "outputs": [],
   "source": [
    "import pandas as pd\n",
    "import numpy as np\n",
    "import ollama\n",
    "import optuna\n",
    "import dspy\n",
    "from dspy.evaluate import Evaluate\n",
    "from typing import Literal\n",
    "from sklearn.preprocessing import LabelEncoder\n",
    "from sklearn.model_selection import cross_val_score\n",
    "from sklearn.model_selection import train_test_split\n",
    "from sklearn.linear_model import LogisticRegression\n",
    "from sklearn.metrics import accuracy_score\n",
    "from sklearn.ensemble import RandomForestClassifier\n",
    "from sklearn.metrics import classification_report\n",
    "from sklearn.neural_network import MLPClassifier\n",
    "from sklearn.metrics import confusion_matrix, ConfusionMatrixDisplay\n",
    "import matplotlib.pyplot as plt\n",
    "import seaborn as sns"
   ]
  },
  {
   "cell_type": "markdown",
   "id": "b749d9b0-8b1b-4c81-a69e-0d38c0169a84",
   "metadata": {},
   "source": [
    "# Import danych"
   ]
  },
  {
   "cell_type": "code",
   "execution_count": 6,
   "id": "8464e980-f306-4953-8a02-0efd43bc7fc7",
   "metadata": {
    "scrolled": true
   },
   "outputs": [
    {
     "name": "stdout",
     "output_type": "stream",
     "text": [
      "<class 'pandas.core.frame.DataFrame'>\n",
      "Index: 6000 entries, 0 to 5999\n",
      "Data columns (total 2 columns):\n",
      " #   Column    Non-Null Count  Dtype \n",
      "---  ------    --------------  ----- \n",
      " 0   sentence  6000 non-null   object\n",
      " 1   category  6000 non-null   object\n",
      "dtypes: object(2)\n",
      "memory usage: 140.6+ KB\n"
     ]
    }
   ],
   "source": [
    "df = pd.read_excel('data_new.xlsx', index_col=0)\n",
    "df = df[['sentence','category']].copy()\n",
    "df.info()"
   ]
  },
  {
   "cell_type": "code",
   "execution_count": 27,
   "id": "f81c1360-609a-4526-964d-17cb33cba464",
   "metadata": {},
   "outputs": [
    {
     "data": {
      "text/plain": [
       "sentence         6000\n",
       "category            3\n",
       "sentence_size     110\n",
       "dtype: int64"
      ]
     },
     "execution_count": 27,
     "metadata": {},
     "output_type": "execute_result"
    }
   ],
   "source": [
    "df.nunique()"
   ]
  },
  {
   "cell_type": "markdown",
   "id": "4357ca7d-9dfe-4436-8189-f764fa60364c",
   "metadata": {},
   "source": [
    "## Przygotowanie danych"
   ]
  },
  {
   "cell_type": "markdown",
   "id": "b3d24e61-291c-4cd8-ab4c-7fd0a4f9dcd3",
   "metadata": {},
   "source": [
    "### Wylosowanie po 1000 rekordów z każdej kategorii (dla wygody)"
   ]
  },
  {
   "cell_type": "code",
   "execution_count": 17,
   "id": "40465471-4796-4742-ba72-dc73ae7c708d",
   "metadata": {},
   "outputs": [],
   "source": [
    "sampled_df = df.groupby('category').sample(n=1000, random_state=42)"
   ]
  },
  {
   "cell_type": "markdown",
   "id": "261fcb61-7703-46eb-9bc0-0fa1a71ccb22",
   "metadata": {},
   "source": [
    "#### Stworzenie embbedingów przy użyciu LLM"
   ]
  },
  {
   "cell_type": "markdown",
   "id": "dc85546a-7219-4721-8065-b5a4b85896bf",
   "metadata": {},
   "source": [
    "##### Należy zaciągnąć model w terminalu przy użyciu `ollama pull nomic-embed-text`"
   ]
  },
  {
   "cell_type": "code",
   "execution_count": 18,
   "id": "74a85370-3fe1-4831-a2c0-27f71e90869a",
   "metadata": {},
   "outputs": [],
   "source": [
    "model = 'nomic-embed-text'"
   ]
  },
  {
   "cell_type": "markdown",
   "id": "bb3c8aca-dade-4778-8e6c-02286e67328a",
   "metadata": {},
   "source": [
    "##### Zdefiniowanie funkcji embbedującej oraz zastosowanie dla danych"
   ]
  },
  {
   "cell_type": "code",
   "execution_count": 19,
   "id": "ab30d95e-7b2d-43c7-b46c-d34e17888069",
   "metadata": {
    "scrolled": true
   },
   "outputs": [
    {
     "data": {
      "text/html": [
       "<div>\n",
       "<style scoped>\n",
       "    .dataframe tbody tr th:only-of-type {\n",
       "        vertical-align: middle;\n",
       "    }\n",
       "\n",
       "    .dataframe tbody tr th {\n",
       "        vertical-align: top;\n",
       "    }\n",
       "\n",
       "    .dataframe thead th {\n",
       "        text-align: right;\n",
       "    }\n",
       "</style>\n",
       "<table border=\"1\" class=\"dataframe\">\n",
       "  <thead>\n",
       "    <tr style=\"text-align: right;\">\n",
       "      <th></th>\n",
       "      <th>sentence</th>\n",
       "      <th>category</th>\n",
       "      <th>embedding</th>\n",
       "    </tr>\n",
       "  </thead>\n",
       "  <tbody>\n",
       "    <tr>\n",
       "      <th>1860</th>\n",
       "      <td>Szumowska i Englert o filmie \"All Inclusive\". ...</td>\n",
       "      <td>kultura</td>\n",
       "      <td>[0.26709282398223877, 0.21229374408721924, -2....</td>\n",
       "    </tr>\n",
       "    <tr>\n",
       "      <th>353</th>\n",
       "      <td>Raper Diddy już drugi raz w ciągu tygodnia zos...</td>\n",
       "      <td>kultura</td>\n",
       "      <td>[0.4855307340621948, -0.5319522619247437, -2.7...</td>\n",
       "    </tr>\n",
       "    <tr>\n",
       "      <th>1333</th>\n",
       "      <td>W Kulcie przez niemal cztery dekady, stał za \"...</td>\n",
       "      <td>kultura</td>\n",
       "      <td>[-0.1430807262659073, 0.11266040802001953, -2....</td>\n",
       "    </tr>\n",
       "    <tr>\n",
       "      <th>905</th>\n",
       "      <td>Intelektualna gra Szczepana Twardocha. Recenzj...</td>\n",
       "      <td>kultura</td>\n",
       "      <td>[-0.11897006630897522, -0.03549329563975334, -...</td>\n",
       "    </tr>\n",
       "    <tr>\n",
       "      <th>1289</th>\n",
       "      <td>\"Życie pisze niesamowite scenariusze\". Ostatni...</td>\n",
       "      <td>kultura</td>\n",
       "      <td>[0.05582632124423981, 0.6725738048553467, -2.8...</td>\n",
       "    </tr>\n",
       "    <tr>\n",
       "      <th>...</th>\n",
       "      <td>...</td>\n",
       "      <td>...</td>\n",
       "      <td>...</td>\n",
       "    </tr>\n",
       "    <tr>\n",
       "      <th>5814</th>\n",
       "      <td>\"Zagadkowe wynurzenia\" Trumpa</td>\n",
       "      <td>swiat</td>\n",
       "      <td>[-0.11321592330932617, 0.08005428314208984, -3...</td>\n",
       "    </tr>\n",
       "    <tr>\n",
       "      <th>4074</th>\n",
       "      <td>\"Piekło\". Mieszkańcy zadają pytania o to, co s...</td>\n",
       "      <td>swiat</td>\n",
       "      <td>[0.10850955545902252, 0.4187011122703552, -2.3...</td>\n",
       "    </tr>\n",
       "    <tr>\n",
       "      <th>5298</th>\n",
       "      <td>Zasypało drogi i miasta. \"Staram się nie myśle...</td>\n",
       "      <td>swiat</td>\n",
       "      <td>[-0.0164395272731781, -0.1607702523469925, -2....</td>\n",
       "    </tr>\n",
       "    <tr>\n",
       "      <th>5573</th>\n",
       "      <td>Było tak zimno, że aligatory zamarzły</td>\n",
       "      <td>swiat</td>\n",
       "      <td>[0.936455488204956, 0.11185779422521591, -2.67...</td>\n",
       "    </tr>\n",
       "    <tr>\n",
       "      <th>4721</th>\n",
       "      <td>Ostrzeżenie przed powtórką z historii. \"Wiemy,...</td>\n",
       "      <td>swiat</td>\n",
       "      <td>[0.8391313552856445, 0.24961312115192413, -2.8...</td>\n",
       "    </tr>\n",
       "  </tbody>\n",
       "</table>\n",
       "<p>3000 rows × 3 columns</p>\n",
       "</div>"
      ],
      "text/plain": [
       "                                               sentence category  \\\n",
       "1860  Szumowska i Englert o filmie \"All Inclusive\". ...  kultura   \n",
       "353   Raper Diddy już drugi raz w ciągu tygodnia zos...  kultura   \n",
       "1333  W Kulcie przez niemal cztery dekady, stał za \"...  kultura   \n",
       "905   Intelektualna gra Szczepana Twardocha. Recenzj...  kultura   \n",
       "1289  \"Życie pisze niesamowite scenariusze\". Ostatni...  kultura   \n",
       "...                                                 ...      ...   \n",
       "5814                     \"Zagadkowe wynurzenia\" Trumpa     swiat   \n",
       "4074  \"Piekło\". Mieszkańcy zadają pytania o to, co s...    swiat   \n",
       "5298  Zasypało drogi i miasta. \"Staram się nie myśle...    swiat   \n",
       "5573              Było tak zimno, że aligatory zamarzły    swiat   \n",
       "4721  Ostrzeżenie przed powtórką z historii. \"Wiemy,...    swiat   \n",
       "\n",
       "                                              embedding  \n",
       "1860  [0.26709282398223877, 0.21229374408721924, -2....  \n",
       "353   [0.4855307340621948, -0.5319522619247437, -2.7...  \n",
       "1333  [-0.1430807262659073, 0.11266040802001953, -2....  \n",
       "905   [-0.11897006630897522, -0.03549329563975334, -...  \n",
       "1289  [0.05582632124423981, 0.6725738048553467, -2.8...  \n",
       "...                                                 ...  \n",
       "5814  [-0.11321592330932617, 0.08005428314208984, -3...  \n",
       "4074  [0.10850955545902252, 0.4187011122703552, -2.3...  \n",
       "5298  [-0.0164395272731781, -0.1607702523469925, -2....  \n",
       "5573  [0.936455488204956, 0.11185779422521591, -2.67...  \n",
       "4721  [0.8391313552856445, 0.24961312115192413, -2.8...  \n",
       "\n",
       "[3000 rows x 3 columns]"
      ]
     },
     "execution_count": 19,
     "metadata": {},
     "output_type": "execute_result"
    }
   ],
   "source": [
    "def get_embedding(text):\n",
    "    response = ollama.embeddings(model=model, prompt=text)\n",
    "    return response['embedding']\n",
    "\n",
    "sampled_df['embedding'] = sampled_df['sentence'].apply(get_embedding)\n",
    "sampled_df"
   ]
  },
  {
   "cell_type": "markdown",
   "id": "b746bd99-c74f-461c-9f2a-703d159e3913",
   "metadata": {},
   "source": [
    "## Eksploracja danych"
   ]
  },
  {
   "cell_type": "code",
   "execution_count": 29,
   "id": "be023587-b86f-4583-abb2-85c15284e299",
   "metadata": {},
   "outputs": [
    {
     "data": {
      "text/plain": [
       "count    3000.000000\n",
       "mean       69.982000\n",
       "std        19.003001\n",
       "min        19.000000\n",
       "25%        56.000000\n",
       "50%        70.000000\n",
       "75%        84.000000\n",
       "max       137.000000\n",
       "Name: sentence_size, dtype: float64"
      ]
     },
     "execution_count": 29,
     "metadata": {},
     "output_type": "execute_result"
    }
   ],
   "source": [
    "sampled_df['sentence_size'] = sampled_df['sentence'].apply(lambda x: len(x))\n",
    "sampled_df['sentence_size'].describe()"
   ]
  },
  {
   "cell_type": "code",
   "execution_count": 30,
   "id": "1d86099f-df92-4453-9575-26e065b30d90",
   "metadata": {},
   "outputs": [
    {
     "data": {
      "image/png": "[encoded data removed]",
      "text/plain": [
       "<Figure size 500x500 with 1 Axes>"
      ]
     },
     "metadata": {},
     "output_type": "display_data"
    }
   ],
   "source": [
    "hist = sns.displot(sampled_df.sentence_size, kde=True)\n",
    "hist.set(xlabel='Value', ylabel='Frequency', title='Sentence Size Distribution')\n",
    "sns.despine()"
   ]
  },
  {
   "cell_type": "code",
   "execution_count": 32,
   "id": "3d405951-eed1-4bdd-be1c-ccc18c4e3f67",
   "metadata": {},
   "outputs": [
    {
     "data": {
      "image/png": "[encoded data removed]",
      "text/plain": [
       "<Figure size 1500x500 with 3 Axes>"
      ]
     },
     "metadata": {},
     "output_type": "display_data"
    }
   ],
   "source": [
    "hist = sns.displot(\n",
    "    data=sampled_df,\n",
    "    x=\"sentence_size\",\n",
    "    col=\"category\",\n",
    "    kde=True,\n",
    "    facet_kws={'sharey': False, 'sharex': True}\n",
    ")\n",
    "\n",
    "hist.set_axis_labels(\"Sentence Size\", \"Frequency\")\n",
    "hist.fig.suptitle(\"Sentence Size Distribution by Category\", y=1.05)\n",
    "\n",
    "sns.despine()"
   ]
  },
  {
   "cell_type": "markdown",
   "id": "2a03f4c2-4598-40df-8296-cb9e89ad6671",
   "metadata": {},
   "source": [
    "# Klasyfikacja"
   ]
  },
  {
   "cell_type": "markdown",
   "id": "4d3a435f-16de-435e-89eb-0f7391a32b17",
   "metadata": {},
   "source": [
    "## Przygotowanie danych"
   ]
  },
  {
   "cell_type": "markdown",
   "id": "0224cd27-b3d2-495f-bf14-41f3b3ced795",
   "metadata": {},
   "source": [
    "### Przekształcenie embbedingów"
   ]
  },
  {
   "cell_type": "code",
   "execution_count": null,
   "id": "8624f2c2-2d3b-4855-8895-4f65caafb80b",
   "metadata": {},
   "outputs": [],
   "source": [
    "X = np.array(sampled_df['embedding'].tolist())\n",
    "X"
   ]
  },
  {
   "cell_type": "markdown",
   "id": "c6835c47-f81f-4ae3-bbda-10332d35069e",
   "metadata": {},
   "source": [
    "### Labelowanie kategorii"
   ]
  },
  {
   "cell_type": "code",
   "execution_count": null,
   "id": "65f133bd-a426-42af-a8b6-cd4f2bdaff4d",
   "metadata": {},
   "outputs": [],
   "source": [
    "label_encoder = LabelEncoder()\n",
    "y = label_encoder.fit_transform(sampled_df['category'])\n",
    "y"
   ]
  },
  {
   "cell_type": "markdown",
   "id": "157d252f-67df-43a6-b46a-efa84352a5fa",
   "metadata": {},
   "source": [
    "### Podział danych na treningowe i testowe"
   ]
  },
  {
   "cell_type": "code",
   "execution_count": null,
   "id": "f7a417c3-f2cc-4fe5-89c9-123c304ce31e",
   "metadata": {},
   "outputs": [],
   "source": [
    "X_train, X_test, y_train, y_test = train_test_split(\n",
    "    X, y, test_size=0.2, random_state=42, stratify=y\n",
    ")"
   ]
  },
  {
   "cell_type": "markdown",
   "id": "ee3a1238-8114-416b-be5a-800e3b20b821",
   "metadata": {},
   "source": [
    "## Regresja logistyczna"
   ]
  },
  {
   "cell_type": "markdown",
   "id": "5b3829e4-7424-4228-a8de-64ac68650ef9",
   "metadata": {},
   "source": [
    "### Zdefiniowanie eksperymentu w optuna"
   ]
  },
  {
   "cell_type": "code",
   "execution_count": 33,
   "id": "668ae641-357c-4abf-a359-c7f528ac02da",
   "metadata": {
    "scrolled": true
   },
   "outputs": [],
   "source": [
    "def objective_lr(trial):\n",
    "    C = trial.suggest_float('C', 1e-4, 10.0, log=True)\n",
    "    solver = trial.suggest_categorical('solver', ['lbfgs', 'saga'])\n",
    "\n",
    "    model = LogisticRegression(\n",
    "        C=C,\n",
    "        solver=solver,\n",
    "        max_iter=1000,\n",
    "        random_state=42\n",
    "    )\n",
    "\n",
    "    score = cross_val_score(model, X_train, y_train, cv=5, scoring='accuracy')\n",
    "    return score.mean()\n"
   ]
  },
  {
   "cell_type": "markdown",
   "id": "11895859-e58e-4cb4-a2fb-5669e755d82c",
   "metadata": {},
   "source": [
    "### Optymalizacja hiperparametrów w optuna"
   ]
  },
  {
   "cell_type": "code",
   "execution_count": 34,
   "id": "9af3307d-e97e-4e18-88d3-762c55cf9770",
   "metadata": {
    "scrolled": true
   },
   "outputs": [
    {
     "name": "stderr",
     "output_type": "stream",
     "text": [
      "[I 2025-06-22 14:58:10,898] A new study created in memory with name: no-name-1ad552fd-678a-4e7d-9e1f-239e13557cd0\n",
      "[I 2025-06-22 14:59:02,879] Trial 0 finished with value: 0.65625 and parameters: {'C': 0.013282064175833535, 'solver': 'saga'}. Best is trial 0 with value: 0.65625.\n",
      "[I 2025-06-22 14:59:07,021] Trial 1 finished with value: 0.62625 and parameters: {'C': 1.506115534982126, 'solver': 'lbfgs'}. Best is trial 0 with value: 0.65625.\n",
      "C:\\Users\\trawi\\anaconda3\\envs\\dspy\\lib\\site-packages\\sklearn\\linear_model\\_logistic.py:470: ConvergenceWarning: lbfgs failed to converge after 1000 iteration(s) (status=1):\n",
      "STOP: TOTAL NO. OF ITERATIONS REACHED LIMIT\n",
      "\n",
      "Increase the number of iterations to improve the convergence (max_iter=1000).\n",
      "You might also want to scale the data as shown in:\n",
      "    https://scikit-learn.org/stable/modules/preprocessing.html\n",
      "Please also refer to the documentation for alternative solver options:\n",
      "    https://scikit-learn.org/stable/modules/linear_model.html#logistic-regression\n",
      "  n_iter_i = _check_optimize_result(\n",
      "[I 2025-06-22 14:59:10,321] Trial 2 finished with value: 0.61375 and parameters: {'C': 7.573817519207921, 'solver': 'lbfgs'}. Best is trial 0 with value: 0.65625.\n",
      "C:\\Users\\trawi\\anaconda3\\envs\\dspy\\lib\\site-packages\\sklearn\\linear_model\\_logistic.py:470: ConvergenceWarning: lbfgs failed to converge after 1000 iteration(s) (status=1):\n",
      "STOP: TOTAL NO. OF ITERATIONS REACHED LIMIT\n",
      "\n",
      "Increase the number of iterations to improve the convergence (max_iter=1000).\n",
      "You might also want to scale the data as shown in:\n",
      "    https://scikit-learn.org/stable/modules/preprocessing.html\n",
      "Please also refer to the documentation for alternative solver options:\n",
      "    https://scikit-learn.org/stable/modules/linear_model.html#logistic-regression\n",
      "  n_iter_i = _check_optimize_result(\n",
      "[I 2025-06-22 14:59:14,069] Trial 3 finished with value: 0.6125 and parameters: {'C': 7.196160814103949, 'solver': 'lbfgs'}. Best is trial 0 with value: 0.65625.\n",
      "[I 2025-06-22 14:59:36,323] Trial 4 finished with value: 0.6641666666666667 and parameters: {'C': 0.0013390636361378242, 'solver': 'saga'}. Best is trial 4 with value: 0.6641666666666667.\n",
      "[I 2025-06-22 14:59:38,060] Trial 5 finished with value: 0.6470833333333333 and parameters: {'C': 0.09706322813082578, 'solver': 'lbfgs'}. Best is trial 4 with value: 0.6641666666666667.\n",
      "[I 2025-06-22 14:59:43,647] Trial 6 finished with value: 0.6420833333333333 and parameters: {'C': 0.00016973795570280538, 'solver': 'saga'}. Best is trial 4 with value: 0.6641666666666667.\n",
      "[I 2025-06-22 14:59:43,823] Trial 7 finished with value: 0.6441666666666667 and parameters: {'C': 0.0002075165674547522, 'solver': 'lbfgs'}. Best is trial 4 with value: 0.6641666666666667.\n",
      "[I 2025-06-22 14:59:44,534] Trial 8 finished with value: 0.6637500000000001 and parameters: {'C': 0.009312553019030794, 'solver': 'lbfgs'}. Best is trial 4 with value: 0.6641666666666667.\n",
      "[I 2025-06-22 14:59:48,184] Trial 9 finished with value: 0.615 and parameters: {'C': 5.124630701735154, 'solver': 'lbfgs'}. Best is trial 4 with value: 0.6641666666666667.\n",
      "[I 2025-06-22 15:00:14,152] Trial 10 finished with value: 0.6633333333333333 and parameters: {'C': 0.0017693579194447665, 'solver': 'saga'}. Best is trial 4 with value: 0.6641666666666667.\n",
      "[I 2025-06-22 15:00:58,383] Trial 11 finished with value: 0.6625000000000001 and parameters: {'C': 0.005494645763160902, 'solver': 'saga'}. Best is trial 4 with value: 0.6641666666666667.\n",
      "[I 2025-06-22 15:01:09,959] Trial 12 finished with value: 0.6508333333333333 and parameters: {'C': 0.08847442805066216, 'solver': 'saga'}. Best is trial 4 with value: 0.6641666666666667.\n",
      "[I 2025-06-22 15:01:43,980] Trial 13 finished with value: 0.6637500000000001 and parameters: {'C': 0.0028473538528201526, 'solver': 'saga'}. Best is trial 4 with value: 0.6641666666666667.\n",
      "[I 2025-06-22 15:01:44,203] Trial 14 finished with value: 0.6487499999999999 and parameters: {'C': 0.0004917613565437875, 'solver': 'lbfgs'}. Best is trial 4 with value: 0.6641666666666667.\n",
      "[I 2025-06-22 15:02:07,216] Trial 15 finished with value: 0.6537499999999999 and parameters: {'C': 0.04750027090629587, 'solver': 'saga'}. Best is trial 4 with value: 0.6641666666666667.\n",
      "[I 2025-06-22 15:02:09,757] Trial 16 finished with value: 0.6416666666666666 and parameters: {'C': 0.39616643945473506, 'solver': 'lbfgs'}. Best is trial 4 with value: 0.6641666666666667.\n",
      "[I 2025-06-22 15:02:31,829] Trial 17 finished with value: 0.6641666666666667 and parameters: {'C': 0.001310514671043963, 'solver': 'saga'}. Best is trial 4 with value: 0.6641666666666667.\n",
      "[I 2025-06-22 15:02:47,557] Trial 18 finished with value: 0.6525000000000001 and parameters: {'C': 0.0007613761245498815, 'solver': 'saga'}. Best is trial 4 with value: 0.6641666666666667.\n",
      "[I 2025-06-22 15:03:07,319] Trial 19 finished with value: 0.6587500000000001 and parameters: {'C': 0.0010910460630949963, 'solver': 'saga'}. Best is trial 4 with value: 0.6641666666666667.\n",
      "[I 2025-06-22 15:03:11,291] Trial 20 finished with value: 0.6416666666666666 and parameters: {'C': 0.00010271389694359893, 'solver': 'saga'}. Best is trial 4 with value: 0.6641666666666667.\n",
      "[I 2025-06-22 15:03:59,766] Trial 21 finished with value: 0.6633333333333333 and parameters: {'C': 0.007191810339856908, 'solver': 'saga'}. Best is trial 4 with value: 0.6641666666666667.\n",
      "[I 2025-06-22 15:04:44,521] Trial 22 finished with value: 0.65625 and parameters: {'C': 0.024530393515019237, 'solver': 'saga'}. Best is trial 4 with value: 0.6641666666666667.\n",
      "[I 2025-06-22 15:04:44,965] Trial 23 finished with value: 0.6641666666666667 and parameters: {'C': 0.0032755355496004164, 'solver': 'lbfgs'}. Best is trial 4 with value: 0.6641666666666667.\n",
      "[I 2025-06-22 15:05:16,734] Trial 24 finished with value: 0.6637500000000001 and parameters: {'C': 0.0024786222793716597, 'solver': 'saga'}. Best is trial 4 with value: 0.6641666666666667.\n",
      "[I 2025-06-22 15:05:27,545] Trial 25 finished with value: 0.6483333333333333 and parameters: {'C': 0.00042502440571466903, 'solver': 'saga'}. Best is trial 4 with value: 0.6641666666666667.\n",
      "[I 2025-06-22 15:05:27,927] Trial 26 finished with value: 0.6641666666666667 and parameters: {'C': 0.001980378779841016, 'solver': 'lbfgs'}. Best is trial 4 with value: 0.6641666666666667.\n",
      "[I 2025-06-22 15:06:09,101] Trial 27 finished with value: 0.6633333333333333 and parameters: {'C': 0.004570902861186405, 'solver': 'saga'}. Best is trial 4 with value: 0.6641666666666667.\n",
      "[I 2025-06-22 15:06:09,407] Trial 28 finished with value: 0.6583333333333334 and parameters: {'C': 0.000970862757666598, 'solver': 'lbfgs'}. Best is trial 4 with value: 0.6641666666666667.\n",
      "[I 2025-06-22 15:06:56,387] Trial 29 finished with value: 0.6558333333333334 and parameters: {'C': 0.022303916448999022, 'solver': 'saga'}. Best is trial 4 with value: 0.6641666666666667.\n"
     ]
    }
   ],
   "source": [
    "study_lr = optuna.create_study(direction='maximize')\n",
    "study_lr.optimize(objective_lr, n_trials=30)\n",
    "\n",
    "best_params_lr = study_lr.best_trial.params"
   ]
  },
  {
   "cell_type": "markdown",
   "id": "ab863602-aa3c-47e2-b023-e17ba883b53f",
   "metadata": {},
   "source": [
    "### Dopasowanie finalnego modelu"
   ]
  },
  {
   "cell_type": "code",
   "execution_count": 35,
   "id": "da1c554b-ef91-47d4-a385-101bd6b5b84c",
   "metadata": {},
   "outputs": [
    {
     "name": "stdout",
     "output_type": "stream",
     "text": [
      "Test accuracy: 0.705\n"
     ]
    }
   ],
   "source": [
    "final_model_lr = LogisticRegression(**best_params_lr, max_iter=1000, random_state=42)\n",
    "final_model_lr.fit(X_train, y_train)\n",
    "\n",
    "y_pred = final_model_lr.predict(X_test)\n",
    "test_acc_lr = accuracy_score(y_test, y_pred)\n",
    "print(\"Test accuracy:\", test_acc_lr)"
   ]
  },
  {
   "cell_type": "markdown",
   "id": "3d0bcd54-643e-4c9f-b9a5-425e47fe1a20",
   "metadata": {},
   "source": [
    "### Macierz pomyłek dla Regresji Logistycznej"
   ]
  },
  {
   "cell_type": "code",
   "execution_count": 36,
   "id": "53f46a79-044e-4678-96e3-22375b44fbdf",
   "metadata": {
    "scrolled": true
   },
   "outputs": [
    {
     "data": {
      "image/png": "[encoded data removed]",
      "text/plain": [
       "<Figure size 640x480 with 1 Axes>"
      ]
     },
     "metadata": {},
     "output_type": "display_data"
    }
   ],
   "source": [
    "cm = confusion_matrix(y_test, y_pred)\n",
    "\n",
    "disp = ConfusionMatrixDisplay(confusion_matrix=cm, display_labels=label_encoder.classes_)\n",
    "disp.plot(cmap='Blues', xticks_rotation=45, colorbar=False)\n",
    "plt.title(f\"Logistic Regression \\nAccuracy: {test_acc_lr:.2f}\")\n",
    "plt.show()"
   ]
  },
  {
   "cell_type": "markdown",
   "id": "7e121f46-41a5-4d0d-85bf-248fb911bb4a",
   "metadata": {},
   "source": [
    "## Las Losowy"
   ]
  },
  {
   "cell_type": "markdown",
   "id": "f798db98-1abf-4b35-a111-4ed413b71986",
   "metadata": {},
   "source": [
    "### Zdefiniowanie eksperymentu w optuna"
   ]
  },
  {
   "cell_type": "code",
   "execution_count": 37,
   "id": "6d985d8c-a6c6-44ee-bc38-9e2e06f13ff0",
   "metadata": {},
   "outputs": [],
   "source": [
    "def objective(trial):\n",
    "    n_estimators = trial.suggest_int('n_estimators', 50, 300)\n",
    "    max_depth = trial.suggest_int('max_depth', 2, 30)\n",
    "    min_samples_split = trial.suggest_int('min_samples_split', 2, 10)\n",
    "    min_samples_leaf = trial.suggest_int('min_samples_leaf', 1, 10)\n",
    "    max_features = trial.suggest_categorical('max_features', ['sqrt', 'log2'])\n",
    "\n",
    "    model = RandomForestClassifier(\n",
    "        n_estimators=n_estimators,\n",
    "        max_depth=max_depth,\n",
    "        min_samples_split=min_samples_split,\n",
    "        min_samples_leaf=min_samples_leaf,\n",
    "        max_features=max_features,\n",
    "        random_state=42,\n",
    "        n_jobs=-1\n",
    "    )\n",
    "\n",
    "    score = cross_val_score(model, X_train, y_train, cv=5, scoring='accuracy')\n",
    "    return score.mean()"
   ]
  },
  {
   "cell_type": "markdown",
   "id": "0060211e-e1c9-41c3-b0e6-5e1e8d491913",
   "metadata": {},
   "source": [
    "### Optymalizacja hiperparametrów w optuna"
   ]
  },
  {
   "cell_type": "code",
   "execution_count": 38,
   "id": "32a5abed-a765-4e6b-9453-2a4f94e3f90d",
   "metadata": {
    "scrolled": true
   },
   "outputs": [
    {
     "name": "stderr",
     "output_type": "stream",
     "text": [
      "[I 2025-06-22 15:07:02,082] A new study created in memory with name: no-name-c4af7880-51b2-4ae3-b215-93c8037e7623\n",
      "[I 2025-06-22 15:07:04,069] Trial 0 finished with value: 0.6166666666666667 and parameters: {'n_estimators': 231, 'max_depth': 3, 'min_samples_split': 5, 'min_samples_leaf': 7, 'max_features': 'log2'}. Best is trial 0 with value: 0.6166666666666667.\n",
      "[I 2025-06-22 15:07:05,027] Trial 1 finished with value: 0.6100000000000001 and parameters: {'n_estimators': 50, 'max_depth': 19, 'min_samples_split': 8, 'min_samples_leaf': 10, 'max_features': 'sqrt'}. Best is trial 0 with value: 0.6166666666666667.\n",
      "[I 2025-06-22 15:07:07,861] Trial 2 finished with value: 0.6391666666666667 and parameters: {'n_estimators': 203, 'max_depth': 7, 'min_samples_split': 5, 'min_samples_leaf': 4, 'max_features': 'sqrt'}. Best is trial 2 with value: 0.6391666666666667.\n",
      "[I 2025-06-22 15:07:12,493] Trial 3 finished with value: 0.64 and parameters: {'n_estimators': 290, 'max_depth': 20, 'min_samples_split': 10, 'min_samples_leaf': 4, 'max_features': 'sqrt'}. Best is trial 3 with value: 0.64.\n",
      "[I 2025-06-22 15:07:13,753] Trial 4 finished with value: 0.62 and parameters: {'n_estimators': 88, 'max_depth': 6, 'min_samples_split': 4, 'min_samples_leaf': 6, 'max_features': 'sqrt'}. Best is trial 3 with value: 0.64.\n",
      "[I 2025-06-22 15:07:17,268] Trial 5 finished with value: 0.6379166666666667 and parameters: {'n_estimators': 239, 'max_depth': 11, 'min_samples_split': 3, 'min_samples_leaf': 8, 'max_features': 'sqrt'}. Best is trial 3 with value: 0.64.\n",
      "[I 2025-06-22 15:07:18,853] Trial 6 finished with value: 0.6399999999999999 and parameters: {'n_estimators': 152, 'max_depth': 16, 'min_samples_split': 6, 'min_samples_leaf': 6, 'max_features': 'log2'}. Best is trial 3 with value: 0.64.\n",
      "[I 2025-06-22 15:07:23,391] Trial 7 finished with value: 0.6504166666666666 and parameters: {'n_estimators': 298, 'max_depth': 30, 'min_samples_split': 9, 'min_samples_leaf': 6, 'max_features': 'sqrt'}. Best is trial 7 with value: 0.6504166666666666.\n",
      "[I 2025-06-22 15:07:24,230] Trial 8 finished with value: 0.5929166666666666 and parameters: {'n_estimators': 57, 'max_depth': 4, 'min_samples_split': 7, 'min_samples_leaf': 7, 'max_features': 'sqrt'}. Best is trial 7 with value: 0.6504166666666666.\n",
      "[I 2025-06-22 15:07:25,769] Trial 9 finished with value: 0.6041666666666666 and parameters: {'n_estimators': 104, 'max_depth': 4, 'min_samples_split': 9, 'min_samples_leaf': 9, 'max_features': 'sqrt'}. Best is trial 7 with value: 0.6504166666666666.\n",
      "[I 2025-06-22 15:07:28,783] Trial 10 finished with value: 0.6470833333333333 and parameters: {'n_estimators': 281, 'max_depth': 30, 'min_samples_split': 10, 'min_samples_leaf': 1, 'max_features': 'log2'}. Best is trial 7 with value: 0.6504166666666666.\n",
      "[I 2025-06-22 15:07:31,954] Trial 11 finished with value: 0.6466666666666667 and parameters: {'n_estimators': 291, 'max_depth': 30, 'min_samples_split': 10, 'min_samples_leaf': 1, 'max_features': 'log2'}. Best is trial 7 with value: 0.6504166666666666.\n",
      "[I 2025-06-22 15:07:34,661] Trial 12 finished with value: 0.63875 and parameters: {'n_estimators': 260, 'max_depth': 30, 'min_samples_split': 8, 'min_samples_leaf': 2, 'max_features': 'log2'}. Best is trial 7 with value: 0.6504166666666666.\n",
      "[I 2025-06-22 15:07:37,713] Trial 13 finished with value: 0.6558333333333333 and parameters: {'n_estimators': 299, 'max_depth': 24, 'min_samples_split': 10, 'min_samples_leaf': 4, 'max_features': 'log2'}. Best is trial 13 with value: 0.6558333333333333.\n",
      "[I 2025-06-22 15:07:39,488] Trial 14 finished with value: 0.635 and parameters: {'n_estimators': 169, 'max_depth': 25, 'min_samples_split': 8, 'min_samples_leaf': 4, 'max_features': 'log2'}. Best is trial 13 with value: 0.6558333333333333.\n",
      "[I 2025-06-22 15:07:41,694] Trial 15 finished with value: 0.6454166666666666 and parameters: {'n_estimators': 208, 'max_depth': 25, 'min_samples_split': 9, 'min_samples_leaf': 3, 'max_features': 'log2'}. Best is trial 13 with value: 0.6558333333333333.\n",
      "[I 2025-06-22 15:07:45,740] Trial 16 finished with value: 0.6362500000000001 and parameters: {'n_estimators': 250, 'max_depth': 25, 'min_samples_split': 7, 'min_samples_leaf': 5, 'max_features': 'sqrt'}. Best is trial 13 with value: 0.6558333333333333.\n",
      "[I 2025-06-22 15:07:48,794] Trial 17 finished with value: 0.6520833333333333 and parameters: {'n_estimators': 300, 'max_depth': 22, 'min_samples_split': 2, 'min_samples_leaf': 5, 'max_features': 'log2'}. Best is trial 13 with value: 0.6558333333333333.\n",
      "[I 2025-06-22 15:07:50,344] Trial 18 finished with value: 0.64125 and parameters: {'n_estimators': 143, 'max_depth': 22, 'min_samples_split': 2, 'min_samples_leaf': 3, 'max_features': 'log2'}. Best is trial 13 with value: 0.6558333333333333.\n",
      "[I 2025-06-22 15:07:52,495] Trial 19 finished with value: 0.6404166666666666 and parameters: {'n_estimators': 210, 'max_depth': 15, 'min_samples_split': 2, 'min_samples_leaf': 5, 'max_features': 'log2'}. Best is trial 13 with value: 0.6558333333333333.\n",
      "[I 2025-06-22 15:07:55,304] Trial 20 finished with value: 0.6570833333333334 and parameters: {'n_estimators': 268, 'max_depth': 22, 'min_samples_split': 4, 'min_samples_leaf': 3, 'max_features': 'log2'}. Best is trial 20 with value: 0.6570833333333334.\n",
      "[I 2025-06-22 15:07:58,110] Trial 21 finished with value: 0.6570833333333334 and parameters: {'n_estimators': 268, 'max_depth': 22, 'min_samples_split': 3, 'min_samples_leaf': 3, 'max_features': 'log2'}. Best is trial 20 with value: 0.6570833333333334.\n",
      "[I 2025-06-22 15:08:00,932] Trial 22 finished with value: 0.6616666666666667 and parameters: {'n_estimators': 268, 'max_depth': 19, 'min_samples_split': 4, 'min_samples_leaf': 3, 'max_features': 'log2'}. Best is trial 22 with value: 0.6616666666666667.\n",
      "[I 2025-06-22 15:08:03,768] Trial 23 finished with value: 0.6383333333333333 and parameters: {'n_estimators': 267, 'max_depth': 14, 'min_samples_split': 4, 'min_samples_leaf': 2, 'max_features': 'log2'}. Best is trial 22 with value: 0.6616666666666667.\n",
      "[I 2025-06-22 15:08:06,171] Trial 24 finished with value: 0.64625 and parameters: {'n_estimators': 227, 'max_depth': 20, 'min_samples_split': 3, 'min_samples_leaf': 2, 'max_features': 'log2'}. Best is trial 22 with value: 0.6616666666666667.\n",
      "[I 2025-06-22 15:08:09,019] Trial 25 finished with value: 0.6649999999999999 and parameters: {'n_estimators': 274, 'max_depth': 18, 'min_samples_split': 4, 'min_samples_leaf': 3, 'max_features': 'log2'}. Best is trial 25 with value: 0.6649999999999999.\n",
      "[I 2025-06-22 15:08:11,527] Trial 26 finished with value: 0.64625 and parameters: {'n_estimators': 248, 'max_depth': 12, 'min_samples_split': 5, 'min_samples_leaf': 3, 'max_features': 'log2'}. Best is trial 25 with value: 0.6649999999999999.\n",
      "[I 2025-06-22 15:08:13,587] Trial 27 finished with value: 0.6458333333333334 and parameters: {'n_estimators': 188, 'max_depth': 18, 'min_samples_split': 4, 'min_samples_leaf': 2, 'max_features': 'log2'}. Best is trial 25 with value: 0.6649999999999999.\n",
      "[I 2025-06-22 15:08:16,354] Trial 28 finished with value: 0.6508333333333334 and parameters: {'n_estimators': 271, 'max_depth': 11, 'min_samples_split': 6, 'min_samples_leaf': 1, 'max_features': 'log2'}. Best is trial 25 with value: 0.6649999999999999.\n",
      "[I 2025-06-22 15:08:18,727] Trial 29 finished with value: 0.6441666666666668 and parameters: {'n_estimators': 228, 'max_depth': 17, 'min_samples_split': 5, 'min_samples_leaf': 3, 'max_features': 'log2'}. Best is trial 25 with value: 0.6649999999999999.\n",
      "[I 2025-06-22 15:08:21,184] Trial 30 finished with value: 0.6425 and parameters: {'n_estimators': 237, 'max_depth': 13, 'min_samples_split': 4, 'min_samples_leaf': 4, 'max_features': 'log2'}. Best is trial 25 with value: 0.6649999999999999.\n",
      "[I 2025-06-22 15:08:23,994] Trial 31 finished with value: 0.6591666666666667 and parameters: {'n_estimators': 277, 'max_depth': 22, 'min_samples_split': 3, 'min_samples_leaf': 3, 'max_features': 'log2'}. Best is trial 25 with value: 0.6649999999999999.\n",
      "[I 2025-06-22 15:08:26,918] Trial 32 finished with value: 0.6479166666666666 and parameters: {'n_estimators': 277, 'max_depth': 19, 'min_samples_split': 3, 'min_samples_leaf': 2, 'max_features': 'log2'}. Best is trial 25 with value: 0.6649999999999999.\n",
      "[I 2025-06-22 15:08:29,547] Trial 33 finished with value: 0.6516666666666667 and parameters: {'n_estimators': 256, 'max_depth': 27, 'min_samples_split': 4, 'min_samples_leaf': 3, 'max_features': 'log2'}. Best is trial 25 with value: 0.6649999999999999.\n",
      "[I 2025-06-22 15:08:32,381] Trial 34 finished with value: 0.6479166666666667 and parameters: {'n_estimators': 278, 'max_depth': 21, 'min_samples_split': 5, 'min_samples_leaf': 4, 'max_features': 'log2'}. Best is trial 25 with value: 0.6649999999999999.\n",
      "[I 2025-06-22 15:08:34,649] Trial 35 finished with value: 0.6454166666666666 and parameters: {'n_estimators': 222, 'max_depth': 27, 'min_samples_split': 3, 'min_samples_leaf': 5, 'max_features': 'log2'}. Best is trial 25 with value: 0.6649999999999999.\n",
      "[I 2025-06-22 15:08:36,766] Trial 36 finished with value: 0.6375 and parameters: {'n_estimators': 188, 'max_depth': 17, 'min_samples_split': 5, 'min_samples_leaf': 1, 'max_features': 'log2'}. Best is trial 25 with value: 0.6649999999999999.\n",
      "[I 2025-06-22 15:08:39,630] Trial 37 finished with value: 0.6491666666666667 and parameters: {'n_estimators': 284, 'max_depth': 9, 'min_samples_split': 4, 'min_samples_leaf': 2, 'max_features': 'log2'}. Best is trial 25 with value: 0.6649999999999999.\n",
      "[I 2025-06-22 15:08:42,084] Trial 38 finished with value: 0.6487499999999999 and parameters: {'n_estimators': 242, 'max_depth': 19, 'min_samples_split': 6, 'min_samples_leaf': 4, 'max_features': 'log2'}. Best is trial 25 with value: 0.6649999999999999.\n",
      "[I 2025-06-22 15:08:45,987] Trial 39 finished with value: 0.6404166666666666 and parameters: {'n_estimators': 263, 'max_depth': 16, 'min_samples_split': 3, 'min_samples_leaf': 7, 'max_features': 'sqrt'}. Best is trial 25 with value: 0.6649999999999999.\n",
      "[I 2025-06-22 15:08:47,263] Trial 40 finished with value: 0.6354166666666666 and parameters: {'n_estimators': 124, 'max_depth': 24, 'min_samples_split': 2, 'min_samples_leaf': 10, 'max_features': 'log2'}. Best is trial 25 with value: 0.6649999999999999.\n",
      "[I 2025-06-22 15:08:50,087] Trial 41 finished with value: 0.6570833333333334 and parameters: {'n_estimators': 268, 'max_depth': 22, 'min_samples_split': 3, 'min_samples_leaf': 3, 'max_features': 'log2'}. Best is trial 25 with value: 0.6649999999999999.\n",
      "[I 2025-06-22 15:08:53,110] Trial 42 finished with value: 0.6595833333333333 and parameters: {'n_estimators': 287, 'max_depth': 20, 'min_samples_split': 3, 'min_samples_leaf': 3, 'max_features': 'log2'}. Best is trial 25 with value: 0.6649999999999999.\n",
      "[I 2025-06-22 15:08:56,318] Trial 43 finished with value: 0.6591666666666666 and parameters: {'n_estimators': 289, 'max_depth': 20, 'min_samples_split': 4, 'min_samples_leaf': 3, 'max_features': 'log2'}. Best is trial 25 with value: 0.6649999999999999.\n",
      "[I 2025-06-22 15:09:00,923] Trial 44 finished with value: 0.65 and parameters: {'n_estimators': 288, 'max_depth': 20, 'min_samples_split': 4, 'min_samples_leaf': 4, 'max_features': 'sqrt'}. Best is trial 25 with value: 0.6649999999999999.\n",
      "[I 2025-06-22 15:09:04,000] Trial 45 finished with value: 0.6495833333333334 and parameters: {'n_estimators': 290, 'max_depth': 18, 'min_samples_split': 3, 'min_samples_leaf': 2, 'max_features': 'log2'}. Best is trial 25 with value: 0.6649999999999999.\n",
      "[I 2025-06-22 15:09:06,582] Trial 46 finished with value: 0.6449999999999999 and parameters: {'n_estimators': 255, 'max_depth': 20, 'min_samples_split': 5, 'min_samples_leaf': 4, 'max_features': 'log2'}. Best is trial 25 with value: 0.6649999999999999.\n",
      "[I 2025-06-22 15:09:09,641] Trial 47 finished with value: 0.6537499999999999 and parameters: {'n_estimators': 285, 'max_depth': 16, 'min_samples_split': 2, 'min_samples_leaf': 1, 'max_features': 'log2'}. Best is trial 25 with value: 0.6649999999999999.\n",
      "[I 2025-06-22 15:09:14,518] Trial 48 finished with value: 0.6575 and parameters: {'n_estimators': 297, 'max_depth': 18, 'min_samples_split': 4, 'min_samples_leaf': 3, 'max_features': 'sqrt'}. Best is trial 25 with value: 0.6649999999999999.\n",
      "[I 2025-06-22 15:09:16,898] Trial 49 finished with value: 0.6383333333333333 and parameters: {'n_estimators': 246, 'max_depth': 24, 'min_samples_split': 3, 'min_samples_leaf': 9, 'max_features': 'log2'}. Best is trial 25 with value: 0.6649999999999999.\n",
      "[I 2025-06-22 15:09:17,907] Trial 50 finished with value: 0.6137499999999999 and parameters: {'n_estimators': 83, 'max_depth': 27, 'min_samples_split': 5, 'min_samples_leaf': 6, 'max_features': 'log2'}. Best is trial 25 with value: 0.6649999999999999.\n",
      "[I 2025-06-22 15:09:22,710] Trial 51 finished with value: 0.6545833333333333 and parameters: {'n_estimators': 293, 'max_depth': 18, 'min_samples_split': 4, 'min_samples_leaf': 3, 'max_features': 'sqrt'}. Best is trial 25 with value: 0.6649999999999999.\n",
      "[I 2025-06-22 15:09:27,877] Trial 52 finished with value: 0.6570833333333332 and parameters: {'n_estimators': 299, 'max_depth': 21, 'min_samples_split': 4, 'min_samples_leaf': 2, 'max_features': 'sqrt'}. Best is trial 25 with value: 0.6649999999999999.\n",
      "[I 2025-06-22 15:09:32,304] Trial 53 finished with value: 0.6483333333333333 and parameters: {'n_estimators': 275, 'max_depth': 15, 'min_samples_split': 3, 'min_samples_leaf': 3, 'max_features': 'sqrt'}. Best is trial 25 with value: 0.6649999999999999.\n",
      "[I 2025-06-22 15:09:36,825] Trial 54 finished with value: 0.6441666666666667 and parameters: {'n_estimators': 282, 'max_depth': 23, 'min_samples_split': 2, 'min_samples_leaf': 4, 'max_features': 'sqrt'}. Best is trial 25 with value: 0.6649999999999999.\n",
      "[I 2025-06-22 15:09:40,986] Trial 55 finished with value: 0.6383333333333334 and parameters: {'n_estimators': 261, 'max_depth': 17, 'min_samples_split': 6, 'min_samples_leaf': 5, 'max_features': 'sqrt'}. Best is trial 25 with value: 0.6649999999999999.\n",
      "[I 2025-06-22 15:09:45,735] Trial 56 finished with value: 0.6554166666666668 and parameters: {'n_estimators': 290, 'max_depth': 19, 'min_samples_split': 4, 'min_samples_leaf': 3, 'max_features': 'sqrt'}. Best is trial 25 with value: 0.6649999999999999.\n",
      "[I 2025-06-22 15:09:48,873] Trial 57 finished with value: 0.6516666666666666 and parameters: {'n_estimators': 299, 'max_depth': 21, 'min_samples_split': 5, 'min_samples_leaf': 2, 'max_features': 'log2'}. Best is trial 25 with value: 0.6649999999999999.\n",
      "[I 2025-06-22 15:09:51,022] Trial 58 finished with value: 0.6025 and parameters: {'n_estimators': 254, 'max_depth': 2, 'min_samples_split': 7, 'min_samples_leaf': 4, 'max_features': 'log2'}. Best is trial 25 with value: 0.6649999999999999.\n",
      "[I 2025-06-22 15:09:55,596] Trial 59 finished with value: 0.6483333333333334 and parameters: {'n_estimators': 276, 'max_depth': 15, 'min_samples_split': 3, 'min_samples_leaf': 3, 'max_features': 'sqrt'}. Best is trial 25 with value: 0.6649999999999999.\n",
      "[I 2025-06-22 15:09:57,914] Trial 60 finished with value: 0.6408333333333334 and parameters: {'n_estimators': 215, 'max_depth': 23, 'min_samples_split': 4, 'min_samples_leaf': 2, 'max_features': 'log2'}. Best is trial 25 with value: 0.6649999999999999.\n",
      "[I 2025-06-22 15:10:00,700] Trial 61 finished with value: 0.6595833333333333 and parameters: {'n_estimators': 267, 'max_depth': 20, 'min_samples_split': 4, 'min_samples_leaf': 3, 'max_features': 'log2'}. Best is trial 25 with value: 0.6649999999999999.\n",
      "[I 2025-06-22 15:10:03,141] Trial 62 finished with value: 0.6529166666666668 and parameters: {'n_estimators': 235, 'max_depth': 20, 'min_samples_split': 4, 'min_samples_leaf': 3, 'max_features': 'log2'}. Best is trial 25 with value: 0.6649999999999999.\n",
      "[I 2025-06-22 15:10:05,941] Trial 63 finished with value: 0.6495833333333334 and parameters: {'n_estimators': 280, 'max_depth': 18, 'min_samples_split': 3, 'min_samples_leaf': 4, 'max_features': 'log2'}. Best is trial 25 with value: 0.6649999999999999.\n",
      "[I 2025-06-22 15:10:08,611] Trial 64 finished with value: 0.6575 and parameters: {'n_estimators': 262, 'max_depth': 21, 'min_samples_split': 5, 'min_samples_leaf': 3, 'max_features': 'log2'}. Best is trial 25 with value: 0.6649999999999999.\n",
      "[I 2025-06-22 15:10:11,679] Trial 65 finished with value: 0.6479166666666666 and parameters: {'n_estimators': 292, 'max_depth': 17, 'min_samples_split': 4, 'min_samples_leaf': 2, 'max_features': 'log2'}. Best is trial 25 with value: 0.6649999999999999.\n",
      "[I 2025-06-22 15:10:14,276] Trial 66 finished with value: 0.6512500000000001 and parameters: {'n_estimators': 269, 'max_depth': 19, 'min_samples_split': 2, 'min_samples_leaf': 8, 'max_features': 'log2'}. Best is trial 25 with value: 0.6649999999999999.\n",
      "[I 2025-06-22 15:10:17,076] Trial 67 finished with value: 0.6541666666666667 and parameters: {'n_estimators': 275, 'max_depth': 14, 'min_samples_split': 4, 'min_samples_leaf': 3, 'max_features': 'log2'}. Best is trial 25 with value: 0.6649999999999999.\n",
      "[I 2025-06-22 15:10:19,517] Trial 68 finished with value: 0.6475 and parameters: {'n_estimators': 243, 'max_depth': 23, 'min_samples_split': 3, 'min_samples_leaf': 5, 'max_features': 'log2'}. Best is trial 25 with value: 0.6649999999999999.\n",
      "[I 2025-06-22 15:10:22,160] Trial 69 finished with value: 0.6487499999999999 and parameters: {'n_estimators': 253, 'max_depth': 26, 'min_samples_split': 4, 'min_samples_leaf': 1, 'max_features': 'log2'}. Best is trial 25 with value: 0.6649999999999999.\n",
      "[I 2025-06-22 15:10:23,776] Trial 70 finished with value: 0.6404166666666666 and parameters: {'n_estimators': 149, 'max_depth': 19, 'min_samples_split': 5, 'min_samples_leaf': 3, 'max_features': 'log2'}. Best is trial 25 with value: 0.6649999999999999.\n",
      "[I 2025-06-22 15:10:26,479] Trial 71 finished with value: 0.6558333333333334 and parameters: {'n_estimators': 260, 'max_depth': 21, 'min_samples_split': 5, 'min_samples_leaf': 3, 'max_features': 'log2'}. Best is trial 25 with value: 0.6649999999999999.\n",
      "[I 2025-06-22 15:10:29,411] Trial 72 finished with value: 0.6604166666666667 and parameters: {'n_estimators': 282, 'max_depth': 21, 'min_samples_split': 4, 'min_samples_leaf': 3, 'max_features': 'log2'}. Best is trial 25 with value: 0.6649999999999999.\n",
      "[I 2025-06-22 15:10:32,275] Trial 73 finished with value: 0.6445833333333333 and parameters: {'n_estimators': 283, 'max_depth': 20, 'min_samples_split': 4, 'min_samples_leaf': 4, 'max_features': 'log2'}. Best is trial 25 with value: 0.6649999999999999.\n",
      "[I 2025-06-22 15:10:35,168] Trial 74 finished with value: 0.6541666666666667 and parameters: {'n_estimators': 272, 'max_depth': 18, 'min_samples_split': 3, 'min_samples_leaf': 2, 'max_features': 'log2'}. Best is trial 25 with value: 0.6649999999999999.\n",
      "[I 2025-06-22 15:10:38,420] Trial 75 finished with value: 0.6579166666666667 and parameters: {'n_estimators': 295, 'max_depth': 22, 'min_samples_split': 4, 'min_samples_leaf': 3, 'max_features': 'log2'}. Best is trial 25 with value: 0.6649999999999999.\n",
      "[I 2025-06-22 15:10:41,297] Trial 76 finished with value: 0.6483333333333333 and parameters: {'n_estimators': 286, 'max_depth': 21, 'min_samples_split': 3, 'min_samples_leaf': 4, 'max_features': 'log2'}. Best is trial 25 with value: 0.6649999999999999.\n",
      "[I 2025-06-22 15:10:44,184] Trial 77 finished with value: 0.6474999999999999 and parameters: {'n_estimators': 266, 'max_depth': 25, 'min_samples_split': 4, 'min_samples_leaf': 2, 'max_features': 'log2'}. Best is trial 25 with value: 0.6649999999999999.\n",
      "[I 2025-06-22 15:10:45,911] Trial 78 finished with value: 0.6408333333333334 and parameters: {'n_estimators': 164, 'max_depth': 22, 'min_samples_split': 2, 'min_samples_leaf': 3, 'max_features': 'log2'}. Best is trial 25 with value: 0.6649999999999999.\n",
      "[I 2025-06-22 15:10:48,940] Trial 79 finished with value: 0.6479166666666667 and parameters: {'n_estimators': 295, 'max_depth': 24, 'min_samples_split': 3, 'min_samples_leaf': 4, 'max_features': 'log2'}. Best is trial 25 with value: 0.6649999999999999.\n",
      "[I 2025-06-22 15:10:51,777] Trial 80 finished with value: 0.6595833333333334 and parameters: {'n_estimators': 279, 'max_depth': 23, 'min_samples_split': 5, 'min_samples_leaf': 3, 'max_features': 'log2'}. Best is trial 25 with value: 0.6649999999999999.\n",
      "[I 2025-06-22 15:10:54,627] Trial 81 finished with value: 0.66 and parameters: {'n_estimators': 278, 'max_depth': 23, 'min_samples_split': 5, 'min_samples_leaf': 3, 'max_features': 'log2'}. Best is trial 25 with value: 0.6649999999999999.\n",
      "[I 2025-06-22 15:10:57,489] Trial 82 finished with value: 0.6595833333333334 and parameters: {'n_estimators': 279, 'max_depth': 23, 'min_samples_split': 5, 'min_samples_leaf': 3, 'max_features': 'log2'}. Best is trial 25 with value: 0.6649999999999999.\n",
      "[I 2025-06-22 15:11:00,361] Trial 83 finished with value: 0.6604166666666667 and parameters: {'n_estimators': 271, 'max_depth': 23, 'min_samples_split': 6, 'min_samples_leaf': 3, 'max_features': 'log2'}. Best is trial 25 with value: 0.6649999999999999.\n",
      "[I 2025-06-22 15:11:03,126] Trial 84 finished with value: 0.6479166666666666 and parameters: {'n_estimators': 271, 'max_depth': 23, 'min_samples_split': 6, 'min_samples_leaf': 4, 'max_features': 'log2'}. Best is trial 25 with value: 0.6649999999999999.\n",
      "[I 2025-06-22 15:11:05,733] Trial 85 finished with value: 0.6512499999999999 and parameters: {'n_estimators': 249, 'max_depth': 26, 'min_samples_split': 7, 'min_samples_leaf': 2, 'max_features': 'log2'}. Best is trial 25 with value: 0.6649999999999999.\n",
      "[I 2025-06-22 15:11:08,347] Trial 86 finished with value: 0.6566666666666666 and parameters: {'n_estimators': 260, 'max_depth': 24, 'min_samples_split': 6, 'min_samples_leaf': 3, 'max_features': 'log2'}. Best is trial 25 with value: 0.6649999999999999.\n",
      "[I 2025-06-22 15:11:11,242] Trial 87 finished with value: 0.6587500000000001 and parameters: {'n_estimators': 279, 'max_depth': 26, 'min_samples_split': 5, 'min_samples_leaf': 3, 'max_features': 'log2'}. Best is trial 25 with value: 0.6649999999999999.\n",
      "[I 2025-06-22 15:11:13,618] Trial 88 finished with value: 0.6391666666666667 and parameters: {'n_estimators': 266, 'max_depth': 6, 'min_samples_split': 6, 'min_samples_leaf': 4, 'max_features': 'log2'}. Best is trial 25 with value: 0.6649999999999999.\n",
      "[I 2025-06-22 15:11:16,647] Trial 89 finished with value: 0.6599999999999999 and parameters: {'n_estimators': 285, 'max_depth': 23, 'min_samples_split': 7, 'min_samples_leaf': 2, 'max_features': 'log2'}. Best is trial 25 with value: 0.6649999999999999.\n",
      "[I 2025-06-22 15:11:19,663] Trial 90 finished with value: 0.6441666666666668 and parameters: {'n_estimators': 286, 'max_depth': 23, 'min_samples_split': 7, 'min_samples_leaf': 1, 'max_features': 'log2'}. Best is trial 25 with value: 0.6649999999999999.\n",
      "[I 2025-06-22 15:11:22,494] Trial 91 finished with value: 0.6383333333333334 and parameters: {'n_estimators': 273, 'max_depth': 23, 'min_samples_split': 8, 'min_samples_leaf': 2, 'max_features': 'log2'}. Best is trial 25 with value: 0.6649999999999999.\n",
      "[I 2025-06-22 15:11:25,437] Trial 92 finished with value: 0.6579166666666667 and parameters: {'n_estimators': 281, 'max_depth': 25, 'min_samples_split': 6, 'min_samples_leaf': 3, 'max_features': 'log2'}. Best is trial 25 with value: 0.6649999999999999.\n",
      "[I 2025-06-22 15:11:27,549] Trial 93 finished with value: 0.6408333333333334 and parameters: {'n_estimators': 194, 'max_depth': 28, 'min_samples_split': 5, 'min_samples_leaf': 2, 'max_features': 'log2'}. Best is trial 25 with value: 0.6649999999999999.\n",
      "[I 2025-06-22 15:11:30,201] Trial 94 finished with value: 0.6466666666666667 and parameters: {'n_estimators': 258, 'max_depth': 22, 'min_samples_split': 9, 'min_samples_leaf': 3, 'max_features': 'log2'}. Best is trial 25 with value: 0.6649999999999999.\n",
      "[I 2025-06-22 15:11:31,643] Trial 95 finished with value: 0.6341666666666667 and parameters: {'n_estimators': 127, 'max_depth': 21, 'min_samples_split': 6, 'min_samples_leaf': 3, 'max_features': 'log2'}. Best is trial 25 with value: 0.6649999999999999.\n",
      "[I 2025-06-22 15:11:32,514] Trial 96 finished with value: 0.6125 and parameters: {'n_estimators': 64, 'max_depth': 24, 'min_samples_split': 7, 'min_samples_leaf': 2, 'max_features': 'log2'}. Best is trial 25 with value: 0.6649999999999999.\n",
      "[I 2025-06-22 15:11:35,183] Trial 97 finished with value: 0.6454166666666666 and parameters: {'n_estimators': 265, 'max_depth': 20, 'min_samples_split': 5, 'min_samples_leaf': 4, 'max_features': 'log2'}. Best is trial 25 with value: 0.6649999999999999.\n",
      "[I 2025-06-22 15:11:38,113] Trial 98 finished with value: 0.65125 and parameters: {'n_estimators': 289, 'max_depth': 19, 'min_samples_split': 8, 'min_samples_leaf': 3, 'max_features': 'log2'}. Best is trial 25 with value: 0.6649999999999999.\n",
      "[I 2025-06-22 15:11:41,060] Trial 99 finished with value: 0.6525 and parameters: {'n_estimators': 279, 'max_depth': 22, 'min_samples_split': 5, 'min_samples_leaf': 2, 'max_features': 'log2'}. Best is trial 25 with value: 0.6649999999999999.\n"
     ]
    }
   ],
   "source": [
    "study_rfc = optuna.create_study(direction='maximize')\n",
    "study_rfc.optimize(objective, n_trials=100)\n",
    "\n",
    "best_params_rfc = study_rfc.best_trial.params"
   ]
  },
  {
   "cell_type": "markdown",
   "id": "053bde7a-13f9-4a7a-85f2-385089efc4e5",
   "metadata": {},
   "source": [
    "### Dopasowanie finalnego modelu"
   ]
  },
  {
   "cell_type": "code",
   "execution_count": 39,
   "id": "14e792d1-18e5-4eec-955e-5c7bffbf64ad",
   "metadata": {},
   "outputs": [
    {
     "name": "stdout",
     "output_type": "stream",
     "text": [
      "Test accuracy: 0.665\n"
     ]
    }
   ],
   "source": [
    "final_model_rfc = RandomForestClassifier(**best_params_rfc, random_state=42)\n",
    "final_model_rfc.fit(X_train, y_train)\n",
    "\n",
    "y_pred = final_model_rfc.predict(X_test)\n",
    "test_acc_rfc = accuracy_score(y_test, y_pred)\n",
    "print(\"Test accuracy:\", test_acc_rfc)"
   ]
  },
  {
   "cell_type": "markdown",
   "id": "2653f841-1291-4b5f-8cc8-64feed72ac20",
   "metadata": {},
   "source": [
    "### Macierz pomyłek dla Lasu Losowego"
   ]
  },
  {
   "cell_type": "code",
   "execution_count": 40,
   "id": "f4a1a8b4-ed83-49e8-8f71-a0c83c18e342",
   "metadata": {
    "scrolled": true
   },
   "outputs": [
    {
     "data": {
      "image/png": "[encoded data removed]",
      "text/plain": [
       "<Figure size 640x480 with 1 Axes>"
      ]
     },
     "metadata": {},
     "output_type": "display_data"
    }
   ],
   "source": [
    "cm = confusion_matrix(y_test, y_pred)\n",
    "\n",
    "disp = ConfusionMatrixDisplay(confusion_matrix=cm, display_labels=label_encoder.classes_)\n",
    "disp.plot(cmap='Blues', xticks_rotation=45, colorbar=False)\n",
    "plt.title(f\"Random Forest Classifier \\nAccuracy: {test_acc_rfc:.2f}\")\n",
    "plt.show()"
   ]
  },
  {
   "cell_type": "markdown",
   "id": "47fb5276-ac45-42b2-b090-f1643fbed95c",
   "metadata": {},
   "source": [
    "## MLP Classifier"
   ]
  },
  {
   "cell_type": "markdown",
   "id": "a6ffc35a-f032-46c9-be9b-082007194450",
   "metadata": {},
   "source": [
    "### Zdefiniowanie eksperymentu w optuna"
   ]
  },
  {
   "cell_type": "code",
   "execution_count": 64,
   "id": "7969e6c5-36aa-4ef4-a19b-a0eb5d2e6e92",
   "metadata": {},
   "outputs": [],
   "source": [
    "def objective_mlp(trial):\n",
    "    n_layers = trial.suggest_int('n_layers', 1, 3)\n",
    "    hidden_layer_sizes = []\n",
    "    for i in range(n_layers):\n",
    "        n_units = trial.suggest_int(f'n_units_l{i}', 32, 256)\n",
    "        hidden_layer_sizes.append(n_units)\n",
    "    hidden_layer_sizes = tuple(hidden_layer_sizes)\n",
    "    activation = trial.suggest_categorical('activation', ['relu', 'tanh'])\n",
    "    alpha = trial.suggest_float('alpha', 1e-5, 1e-1, log=True)\n",
    "    learning_rate_init = trial.suggest_float('learning_rate_init', 1e-4, 1e-1, log=True)\n",
    "    solver = trial.suggest_categorical('solver', ['adam', 'sgd'])\n",
    "\n",
    "    model = MLPClassifier(\n",
    "        hidden_layer_sizes=hidden_layer_sizes,\n",
    "        activation=activation,\n",
    "        alpha=alpha,\n",
    "        learning_rate_init=learning_rate_init,\n",
    "        solver=solver,\n",
    "        max_iter=1000,\n",
    "        random_state=42,\n",
    "        early_stopping=True\n",
    "    )\n",
    "\n",
    "    score = cross_val_score(model, X_train, y_train, cv=5, scoring='accuracy')\n",
    "    return score.mean()"
   ]
  },
  {
   "cell_type": "markdown",
   "id": "ffaafbfa-47d4-4234-b59e-47f2ffe966f9",
   "metadata": {},
   "source": [
    "### Optymalizacja hiperparametrów w optuna"
   ]
  },
  {
   "cell_type": "code",
   "execution_count": null,
   "id": "b8982387-cd8d-4b98-b996-9ebdd4492805",
   "metadata": {
    "scrolled": true
   },
   "outputs": [
    {
     "name": "stderr",
     "output_type": "stream",
     "text": [
      "C:\\Users\\trawi\\anaconda3\\envs\\dspy\\lib\\site-packages\\sklearn\\neural_network\\_multilayer_perceptron.py:787: UserWarning: Training interrupted by user.\n",
      "  warnings.warn(\"Training interrupted by user.\")\n",
      "C:\\Users\\trawi\\anaconda3\\envs\\dspy\\lib\\site-packages\\sklearn\\neural_network\\_multilayer_perceptron.py:787: UserWarning: Training interrupted by user.\n",
      "  warnings.warn(\"Training interrupted by user.\")\n",
      "C:\\Users\\trawi\\anaconda3\\envs\\dspy\\lib\\site-packages\\sklearn\\neural_network\\_multilayer_perceptron.py:787: UserWarning: Training interrupted by user.\n",
      "  warnings.warn(\"Training interrupted by user.\")\n",
      "C:\\Users\\trawi\\anaconda3\\envs\\dspy\\lib\\site-packages\\sklearn\\neural_network\\_multilayer_perceptron.py:787: UserWarning: Training interrupted by user.\n",
      "  warnings.warn(\"Training interrupted by user.\")\n",
      "C:\\Users\\trawi\\anaconda3\\envs\\dspy\\lib\\site-packages\\sklearn\\neural_network\\_multilayer_perceptron.py:787: UserWarning: Training interrupted by user.\n",
      "  warnings.warn(\"Training interrupted by user.\")\n",
      "C:\\Users\\trawi\\anaconda3\\envs\\dspy\\lib\\site-packages\\sklearn\\neural_network\\_multilayer_perceptron.py:787: UserWarning: Training interrupted by user.\n",
      "  warnings.warn(\"Training interrupted by user.\")\n",
      "C:\\Users\\trawi\\anaconda3\\envs\\dspy\\lib\\site-packages\\sklearn\\neural_network\\_multilayer_perceptron.py:787: UserWarning: Training interrupted by user.\n",
      "  warnings.warn(\"Training interrupted by user.\")\n"
     ]
    }
   ],
   "source": [
    "study_mlp = optuna.create_study(direction='maximize')\n",
    "study_mlp.optimize(objective_mlp, n_trials=100)\n",
    "\n",
    "best_params_mlp = study_mlp.best_trial.params"
   ]
  },
  {
   "cell_type": "markdown",
   "id": "9e6b2c8b-4eab-49ed-b33c-585a2d9cfd7c",
   "metadata": {},
   "source": [
    "### Dopasowanie finalnego modelu"
   ]
  },
  {
   "cell_type": "code",
   "execution_count": null,
   "id": "5478dfa6-255b-47a6-84ba-e77de373b24d",
   "metadata": {},
   "outputs": [],
   "source": [
    "final_model_mlp = MLPClassifier(\n",
    "    activation='relu',\n",
    "    alpha=0.004458550642884175,\n",
    "    learning_rate_init=0.00021239068986588354,\n",
    "    solver='adam',\n",
    "    max_iter=1000,\n",
    "    random_state=42\n",
    ")\n",
    "\n",
    "final_model_mlp.fit(X_train, y_train)\n",
    "\n",
    "y_pred = final_model_mlp.predict(X_test)\n",
    "test_acc_mlp = accuracy_score(y_test, y_pred)\n",
    "print(f\"Test accuracy: {test_acc_mlp:.2f}\")"
   ]
  },
  {
   "cell_type": "markdown",
   "id": "a5f2b324-e0fb-4ef6-9d18-1ab49048119e",
   "metadata": {},
   "source": [
    "### Macierz pomyłek dla MLP Classifier"
   ]
  },
  {
   "cell_type": "code",
   "execution_count": null,
   "id": "df58aef7-94d8-4143-b13f-6e774822eae4",
   "metadata": {},
   "outputs": [],
   "source": [
    "cm = confusion_matrix(y_test, y_pred)\n",
    "\n",
    "disp = ConfusionMatrixDisplay(confusion_matrix=cm, display_labels=label_encoder.classes_)\n",
    "disp.plot(cmap='Blues', xticks_rotation=45, colorbar=False)\n",
    "plt.title(f\"MLP Classifier \\nAccuracy: {test_acc_mlp:.2f}\")\n",
    "plt.show()"
   ]
  },
  {
   "cell_type": "markdown",
   "id": "63087bc8-dadd-4e6c-a130-7128c549b2f2",
   "metadata": {},
   "source": [
    "## Large Language Model"
   ]
  },
  {
   "cell_type": "markdown",
   "id": "ea1827a4-1fa3-44e9-8475-482ee2b276ca",
   "metadata": {},
   "source": [
    "### Wstępny prompt"
   ]
  },
  {
   "cell_type": "markdown",
   "id": "123eb529-8b9e-4bb3-85e1-dc7d112cdd55",
   "metadata": {},
   "source": [
    "#### Uruchomienie modelu"
   ]
  },
  {
   "cell_type": "markdown",
   "id": "9057117c-2efe-41d4-83f2-c1989fe7e672",
   "metadata": {},
   "source": [
    "##### Należy zaciągnąć model w terminalu przy użyciu `ollama pull llama3`"
   ]
  },
  {
   "cell_type": "code",
   "execution_count": 45,
   "id": "cdcec4fa-d4a9-4e6c-8d98-41b8e62fc066",
   "metadata": {},
   "outputs": [],
   "source": [
    "lm = dspy.LM('ollama_chat/llama3', api_base='http://localhost:11434', api_key='')\n",
    "dspy.configure(lm=lm)"
   ]
  },
  {
   "cell_type": "markdown",
   "id": "bf695391-f8b2-45d7-8661-25484b3dfe9a",
   "metadata": {},
   "source": [
    "#### Zdefinowanie Sygnatury w dspy"
   ]
  },
  {
   "cell_type": "code",
   "execution_count": 46,
   "id": "4b2eb892-b461-4fdc-88d3-75a2402c7c3b",
   "metadata": {},
   "outputs": [],
   "source": [
    "class ClassifyHeadline(dspy.Signature):\n",
    "    \"\"\"Przyporządkuj tekst do jednej z kategorii.\n",
    "    Dodatkowo wytłumacz dlaczego tak postanowiłeś w języku polskim.\n",
    "    Przy wyborze kategorii zwróć uwagę na to w jakim kraju miały miejsce wydażenia lub jakiej narodowości były wspomniane tam osoby.\n",
    "    Jeśli tekst dotyczy wydażeń w polsce wybierz kategorię polska. Jeśli tekst dotyczy wydarzenia z poza polski wybierz świat.\n",
    "    Jeśli tekst dotyczy wydarzenia kulturalnego wybierz kategorię kultura\"\"\"\n",
    "    sentence: str = dspy.InputField(desc=\"The news headline to classify\")\n",
    "    category: Literal[\n",
    "    \"kultura\",\n",
    "    \"polska\",\n",
    "    \"swiat\"\n",
    "    ] = dspy.OutputField(desc=\"The predicted category for the headline\")\n",
    "    reason: str = dspy.OutputField()\n"
   ]
  },
  {
   "cell_type": "markdown",
   "id": "58f41293-a12a-4134-99af-70a973424b75",
   "metadata": {},
   "source": [
    "#### Zdefinowanie Modułu w dspy"
   ]
  },
  {
   "cell_type": "code",
   "execution_count": 47,
   "id": "69f7637e-6160-4d77-943d-adfccb0710b5",
   "metadata": {},
   "outputs": [],
   "source": [
    "class HeadlineClassifier(dspy.Module):\n",
    "    def __init__(self):\n",
    "        super().__init__()\n",
    "        self.classifier = dspy.ChainOfThought(ClassifyHeadline)\n",
    "\n",
    "    def forward(self, sentence):\n",
    "        return self.classifier(sentence=sentence)\n",
    "\n",
    "module = HeadlineClassifier()"
   ]
  },
  {
   "cell_type": "markdown",
   "id": "aee0b6af-cbc7-4ca9-9f8c-ae1372a61507",
   "metadata": {},
   "source": [
    "#### Przygotowanie danych treningowych"
   ]
  },
  {
   "cell_type": "code",
   "execution_count": 48,
   "id": "32fbba35-1512-4dab-8e25-1fd1d9ba7f8c",
   "metadata": {},
   "outputs": [],
   "source": [
    "trainset_df = df.groupby('category').sample(n=100, random_state=42)\n",
    "\n",
    "trainset = [\n",
    "    dspy.Example(sentence=row['sentence'], category=row['category']).with_inputs('sentence')\n",
    "    for _, row in trainset_df.iterrows()\n",
    "]"
   ]
  },
  {
   "cell_type": "markdown",
   "id": "97fa6b2a-ab43-41b9-b231-bcb2522a6541",
   "metadata": {},
   "source": [
    "#### Zdefiniowanie ewaluatoraa"
   ]
  },
  {
   "cell_type": "code",
   "execution_count": 49,
   "id": "042c1382-f1d7-4e15-9bae-232f5064fd82",
   "metadata": {},
   "outputs": [],
   "source": [
    "def validate_category(example, prediction, trace=None):\n",
    "    return prediction.category == example.category"
   ]
  },
  {
   "cell_type": "markdown",
   "id": "fbf80303-1fa7-484b-b492-8663f65c1ec6",
   "metadata": {},
   "source": [
    "#### Ewaluacja na wstępnym prompcie"
   ]
  },
  {
   "cell_type": "code",
   "execution_count": 50,
   "id": "12b24137-b6ad-4b0b-8111-2ca9c4f4e935",
   "metadata": {
    "scrolled": true
   },
   "outputs": [
    {
     "name": "stdout",
     "output_type": "stream",
     "text": [
      "Average Metric: 197.00 / 300 (65.7%): 100%|██████████████████████████████████████████| 300/300 [16:12<00:00,  3.24s/it]"
     ]
    },
    {
     "name": "stderr",
     "output_type": "stream",
     "text": [
      "2025/06/22 15:35:26 INFO dspy.evaluate.evaluate: Average Metric: 197 / 300 (65.7%)\n"
     ]
    },
    {
     "name": "stdout",
     "output_type": "stream",
     "text": [
      "\n"
     ]
    },
    {
     "data": {
      "text/html": [
       "<div>\n",
       "<style scoped>\n",
       "    .dataframe tbody tr th:only-of-type {\n",
       "        vertical-align: middle;\n",
       "    }\n",
       "\n",
       "    .dataframe tbody tr th {\n",
       "        vertical-align: top;\n",
       "    }\n",
       "\n",
       "    .dataframe thead th {\n",
       "        text-align: right;\n",
       "    }\n",
       "</style>\n",
       "<table border=\"1\" class=\"dataframe\">\n",
       "  <thead>\n",
       "    <tr style=\"text-align: right;\">\n",
       "      <th></th>\n",
       "      <th>sentence</th>\n",
       "      <th>example_category</th>\n",
       "      <th>reasoning</th>\n",
       "      <th>pred_category</th>\n",
       "      <th>reason</th>\n",
       "      <th>validate_category</th>\n",
       "    </tr>\n",
       "  </thead>\n",
       "  <tbody>\n",
       "    <tr>\n",
       "      <th>0</th>\n",
       "      <td>Szumowska i Englert o filmie \"All Inclusive\". \"To było jak powrót ...</td>\n",
       "      <td>kultura</td>\n",
       "      <td>Tekst dotyczy filmu i jego recepcji, co sugeruje, że jest to wydar...</td>\n",
       "      <td>kultura</td>\n",
       "      <td>Wypowiedź Szumowskiej i Englerta o powrocie do korzeni filmu wskaz...</td>\n",
       "      <td>✔️ [True]</td>\n",
       "    </tr>\n",
       "    <tr>\n",
       "      <th>1</th>\n",
       "      <td>Raper Diddy już drugi raz w ciągu tygodnia został pozwany za napaś...</td>\n",
       "      <td>kultura</td>\n",
       "      <td>Tekst dotyczy wydarzenia związkanego z kulturą (rap), ale także ma...</td>\n",
       "      <td>swiat</td>\n",
       "      <td>Dlatego wybór kategorii \"świat\" jest uzasadniony, ponieważ wydarze...</td>\n",
       "      <td></td>\n",
       "    </tr>\n",
       "    <tr>\n",
       "      <th>2</th>\n",
       "      <td>W Kulcie przez niemal cztery dekady, stał za \"Arahją\". Nie żyje Ja...</td>\n",
       "      <td>kultura</td>\n",
       "      <td>Tekst opisuje życiorys i śmierć Janusza Grudzińskiego, który przez...</td>\n",
       "      <td>kultura</td>\n",
       "      <td>Janusz Grudziński był związany z Kulcie przez niemal cztery dekady...</td>\n",
       "      <td>✔️ [True]</td>\n",
       "    </tr>\n",
       "    <tr>\n",
       "      <th>3</th>\n",
       "      <td>Intelektualna gra Szczepana Twardocha. Recenzja nowej książki \"Pow...</td>\n",
       "      <td>kultura</td>\n",
       "      <td>Recenzja książki to typowy przykład wydarzenia kulturalnego, które...</td>\n",
       "      <td>kultura</td>\n",
       "      <td>Książka \"Powiedzmy, że Piontek\" jest recenzowaną przez autora Szcz...</td>\n",
       "      <td>✔️ [True]</td>\n",
       "    </tr>\n",
       "    <tr>\n",
       "      <th>4</th>\n",
       "      <td>\"Życie pisze niesamowite scenariusze\". Ostatni odcinek \"Bitwy o go...</td>\n",
       "      <td>kultura</td>\n",
       "      <td>Tekst jest tytułem odcinka serialu, który opowiada historię. Odcin...</td>\n",
       "      <td>polska</td>\n",
       "      <td>Wybór kategorii 'polska' wynika z tego, że serial jest polskim pro...</td>\n",
       "      <td></td>\n",
       "    </tr>\n",
       "    <tr>\n",
       "      <th>5</th>\n",
       "      <td>Co obejrzeć w Halloween? Dziesięć najlepszych filmów</td>\n",
       "      <td>kultura</td>\n",
       "      <td>Film \"Halloween\" jest klasycznym horrorów, a lista najlepszych fil...</td>\n",
       "      <td>kultura</td>\n",
       "      <td>Wybór kategorii \"kultura\" wynika z faktu, że tekst dotyczy filmów,...</td>\n",
       "      <td>✔️ [True]</td>\n",
       "    </tr>\n",
       "    <tr>\n",
       "      <th>6</th>\n",
       "      <td>Gwiazdor \"Miami Vice\" opowiedział o zmaganiach z rakiem. \"Było nap...</td>\n",
       "      <td>kultura</td>\n",
       "      <td>Gwiazdor \"Miami Vice\" opowiedział o swoich zmaganiach z rakiem, co...</td>\n",
       "      <td>kultura</td>\n",
       "      <td>Gwiazdor \"Miami Vice\" opowiedział o swoich zmaganiach z rakiem, co...</td>\n",
       "      <td>✔️ [True]</td>\n",
       "    </tr>\n",
       "    <tr>\n",
       "      <th>7</th>\n",
       "      <td>WOŚP na antenie TVN i TTV jeszcze przed Finałem</td>\n",
       "      <td>kultura</td>\n",
       "      <td>Tekst dotyczy wydarzenia kulturalnego, ponieważ WOŚP to organizacj...</td>\n",
       "      <td>kultura</td>\n",
       "      <td>Wybór kategorii kultura wynika z tego, że tekst dotyczy organizacj...</td>\n",
       "      <td>✔️ [True]</td>\n",
       "    </tr>\n",
       "    <tr>\n",
       "      <th>8</th>\n",
       "      <td>Oscary 2024. Wszystko, co warto wiedzieć o 96. gali wręczenia Nagr...</td>\n",
       "      <td>kultura</td>\n",
       "      <td>Tekst dotyczy wydarzenia kulturalnego, czyli wręczenia Nagród Akad...</td>\n",
       "      <td>kultura</td>\n",
       "      <td>Wybór kategorii \"kultura\" oparty jest na tym, że tekst dotyczy wyd...</td>\n",
       "      <td>✔️ [True]</td>\n",
       "    </tr>\n",
       "    <tr>\n",
       "      <th>9</th>\n",
       "      <td>\"Warto było zacisnąć zęby\". Marcin Dorociński u boku światowych sław</td>\n",
       "      <td>kultura</td>\n",
       "      <td>Tekst dotyczy wydarzenia kulturalnego, ponieważ wymieniony aktor M...</td>\n",
       "      <td>kultura</td>\n",
       "      <td>Warto było zacisnąć zęby - to tytuł artykułu, który sugeruje, że c...</td>\n",
       "      <td>✔️ [True]</td>\n",
       "    </tr>\n",
       "    <tr>\n",
       "      <th>10</th>\n",
       "      <td>Taylor Swift przekazała hojną darowiznę dla ofiar huraganów w USA</td>\n",
       "      <td>kultura</td>\n",
       "      <td>Taylor Swift jest amerykańską piosenkarką, a darowizna została prz...</td>\n",
       "      <td>swiat</td>\n",
       "      <td>Wybór kategorii \"świat\" wynika z tego, że wydarzenie dotyczy ofiar...</td>\n",
       "      <td></td>\n",
       "    </tr>\n",
       "    <tr>\n",
       "      <th>11</th>\n",
       "      <td>Nie żyje Terry Hall, wokalista The Specials. W latach 80. ich hity...</td>\n",
       "      <td>kultura</td>\n",
       "      <td>Terry Hall, wokalista The Specials, był ważną postacią w kulturze ...</td>\n",
       "      <td>kultura</td>\n",
       "      <td>Terry Hall's death is a significant cultural event, and his impact...</td>\n",
       "      <td>✔️ [True]</td>\n",
       "    </tr>\n",
       "    <tr>\n",
       "      <th>12</th>\n",
       "      <td>Zespół Bi-2 aresztowany w Tajlandii. Muzycy trzymani \"w potwornych...</td>\n",
       "      <td>kultura</td>\n",
       "      <td>Zespół Bi-2 jest polskim zespołem muzycznym, aresztowanie w Tajlan...</td>\n",
       "      <td>swiat</td>\n",
       "      <td>Wybór kategorii \"świat\" wynika z tego, że wydarzenie miało miejsce...</td>\n",
       "      <td></td>\n",
       "    </tr>\n",
       "    <tr>\n",
       "      <th>13</th>\n",
       "      <td>Gwizdy podczas występu reprezentantki Izraela. Protesty i zamiesza...</td>\n",
       "      <td>kultura</td>\n",
       "      <td>Tekst dotyczy wydarzenia kulturalnego, konkretnie finału Eurowizji...</td>\n",
       "      <td>kultura</td>\n",
       "      <td>Wybór kategorii kultura wynika z faktu, że tekst dotyczy wydarzeni...</td>\n",
       "      <td>✔️ [True]</td>\n",
       "    </tr>\n",
       "    <tr>\n",
       "      <th>14</th>\n",
       "      <td>Spice Girls znów razem. W pełnym składzie zaśpiewały swój wielki h...</td>\n",
       "      <td>kultura</td>\n",
       "      <td>Spice Girls to zespół muzyczny, który swoją popularność osiągnął w...</td>\n",
       "      <td>kultura</td>\n",
       "      <td>W tekście nie ma wzmianek o Polsce, a Spice Girls to brytyjski zes...</td>\n",
       "      <td>✔️ [True]</td>\n",
       "    </tr>\n",
       "    <tr>\n",
       "      <th>15</th>\n",
       "      <td>Gdzie i kiedy oglądać koronację Karola III i królowej Kamili? Prog...</td>\n",
       "      <td>kultura</td>\n",
       "      <td>Tekst dotyczy wydarzenia kulturalnego, czyli koronacji monarchów, ...</td>\n",
       "      <td>kultura</td>\n",
       "      <td>Koronaacja Karola III i królowej Kamilii jest wydarzeniem kultural...</td>\n",
       "      <td>✔️ [True]</td>\n",
       "    </tr>\n",
       "    <tr>\n",
       "      <th>16</th>\n",
       "      <td>\"Czas na Show. Drag Me Out\". Sześciu znanych mężczyzn przejdzie ni...</td>\n",
       "      <td>kultura</td>\n",
       "      <td>Tekst opisuje wydarzenie kulturalne, które dotyczy metamorfozy zna...</td>\n",
       "      <td>kultura</td>\n",
       "      <td>Wydarzenie opisane w tekście dotyczy przemiany mężczyzn, co sugeru...</td>\n",
       "      <td>✔️ [True]</td>\n",
       "    </tr>\n",
       "    <tr>\n",
       "      <th>17</th>\n",
       "      <td>Nie masz pomysłu na świąteczny prezent? Polecamy 10 książek, od kt...</td>\n",
       "      <td>kultura</td>\n",
       "      <td>Tekst sugeruje, że książki są ważnymi wydarzeniami kulturalnymi, k...</td>\n",
       "      <td>kultura</td>\n",
       "      <td>Książki są ważnymi wydarzeniami kulturalnymi, które mogą być trudn...</td>\n",
       "      <td>✔️ [True]</td>\n",
       "    </tr>\n",
       "    <tr>\n",
       "      <th>18</th>\n",
       "      <td>Leszek Szaruga nie żyje</td>\n",
       "      <td>kultura</td>\n",
       "      <td>Leszek Szaruga był polskim aktorem, więc jego śmierć jest związana...</td>\n",
       "      <td>polska</td>\n",
       "      <td>W wyborze kategorii brano pod uwagę narodowość osoby, której śmier...</td>\n",
       "      <td></td>\n",
       "    </tr>\n",
       "    <tr>\n",
       "      <th>19</th>\n",
       "      <td>\"Mam wrażenie, że tata jest gdzieś z boku\". Poruszające słowa rodz...</td>\n",
       "      <td>kultura</td>\n",
       "      <td>Tekst ten jest powiązany z wydarzeniem kulturalnym, ponieważ dotyc...</td>\n",
       "      <td>kultura</td>\n",
       "      <td>Wybór kategorii \"kultura\" oparty jest na tym, że tekst dotyczy rod...</td>\n",
       "      <td>✔️ [True]</td>\n",
       "    </tr>\n",
       "    <tr>\n",
       "      <th>20</th>\n",
       "      <td>Byłe tancerki pozywają Lizzo. Zarzucają jej molestowanie i dyskrym...</td>\n",
       "      <td>kultura</td>\n",
       "      <td>Tekst dotyczy wydarzenia kulturalnego, w którym byłe tancerki oska...</td>\n",
       "      <td>kultura</td>\n",
       "      <td>Wynika stąd, że wybór kategorii kultura jest logiczny, ponieważ te...</td>\n",
       "      <td>✔️ [True]</td>\n",
       "    </tr>\n",
       "    <tr>\n",
       "      <th>21</th>\n",
       "      <td>Gwiazdy \"Seksu w wielkim mieście\" uczciły 25 lat hitowej produkcji...</td>\n",
       "      <td>kultura</td>\n",
       "      <td>Produkcja \"Seksu w wielkim mieście\" to klasyczny polski film, a gw...</td>\n",
       "      <td>polska</td>\n",
       "      <td>W produkcji tej nie ma żadnych odniesień do wydarzeń w krajuach po...</td>\n",
       "      <td></td>\n",
       "    </tr>\n",
       "    <tr>\n",
       "      <th>22</th>\n",
       "      <td>Alwida Antonina Bajor nie żyje</td>\n",
       "      <td>kultura</td>\n",
       "      <td>Alwida Antonina Bajor była polską aktorką, dlatego tekst dotyczy w...</td>\n",
       "      <td>polska</td>\n",
       "      <td>Wybór kategorii \"polska\" wynikał z faktu, że Alwida Antonina Bajor...</td>\n",
       "      <td></td>\n",
       "    </tr>\n",
       "    <tr>\n",
       "      <th>23</th>\n",
       "      <td>Agnieszka Holland: haniebna i kłamliwa kampania nienawiści, która ...</td>\n",
       "      <td>kultura</td>\n",
       "      <td>Agnieszka Holland to polska reżyserka, a kampania nienawiści jest ...</td>\n",
       "      <td>polska</td>\n",
       "      <td>Kampania nienawiści to temat, który jest bliski polskiej kulturze ...</td>\n",
       "      <td></td>\n",
       "    </tr>\n",
       "    <tr>\n",
       "      <th>24</th>\n",
       "      <td>Stworzą multimedialną operę o fenomenie odbudowy Warszawy. \"Nikt d...</td>\n",
       "      <td>kultura</td>\n",
       "      <td>Tekst dotyczy tworzenia nowej formy sztuki, opery, która będzie op...</td>\n",
       "      <td>kultura</td>\n",
       "      <td>Wybór kategorii \"kultura\" wynika z faktu, że tekst dotyczy tworzen...</td>\n",
       "      <td>✔️ [True]</td>\n",
       "    </tr>\n",
       "    <tr>\n",
       "      <th>25</th>\n",
       "      <td>Ozzy Osbourne o walce o zdrowie i szansach powrotu na scenę</td>\n",
       "      <td>kultura</td>\n",
       "      <td>Ozzy Osbourne, jeden z najbardziej znanych muzyków rockowych, walc...</td>\n",
       "      <td>kultura</td>\n",
       "      <td>Ozzy Osbourne to legenda rocka, a jego walka o zdrowie i szansę po...</td>\n",
       "      <td>✔️ [True]</td>\n",
       "    </tr>\n",
       "    <tr>\n",
       "      <th>26</th>\n",
       "      <td>Naomi Campbell po raz drugi została mamą. \"Nigdy nie jest za późno...</td>\n",
       "      <td>kultura</td>\n",
       "      <td>Naomi Campbell, znana modelka, po raz drugi staje się matką. Tekst...</td>\n",
       "      <td>swiat</td>\n",
       "      <td>Wybór kategorii \"świat\" oparty jest na tym, że Naomi Campbell jest...</td>\n",
       "      <td></td>\n",
       "    </tr>\n",
       "    <tr>\n",
       "      <th>27</th>\n",
       "      <td>\"Artyści tacy jak Jerzy Stuhr nigdy nie odchodzą\"</td>\n",
       "      <td>kultura</td>\n",
       "      <td>Tekst dotyczy artyści, którzy są związani z kulturą i sztuką. Jerz...</td>\n",
       "      <td>polska</td>\n",
       "      <td>Jerzy Stuhr to znany polski aktor, a tekst nie ma bezpośredniego z...</td>\n",
       "      <td></td>\n",
       "    </tr>\n",
       "    <tr>\n",
       "      <th>28</th>\n",
       "      <td>Pamela Anderson twierdzi, że Tim Allen się przed nią obnażył. Miał...</td>\n",
       "      <td>kultura</td>\n",
       "      <td>Pamela Anderson i Tim Allen to znani amerykańscy aktorzy, a ich ro...</td>\n",
       "      <td>swiat</td>\n",
       "      <td>Wynika to z faktu, że obaj aktorzy są znani z ról w filmach i seri...</td>\n",
       "      <td></td>\n",
       "    </tr>\n",
       "    <tr>\n",
       "      <th>29</th>\n",
       "      <td>Spielberg komplementuje Cruise'a: uratowałeś tyłek całemu Hollywood</td>\n",
       "      <td>kultura</td>\n",
       "      <td>Spielberg, znany reżyser filmowy, komplementuje Cruise'a, popularn...</td>\n",
       "      <td>kultura</td>\n",
       "      <td>Wybór kategorii kultura wynika z faktu, że tekst dotyczy relacji m...</td>\n",
       "      <td>✔️ [True]</td>\n",
       "    </tr>\n",
       "  </tbody>\n",
       "</table>\n",
       "</div>"
      ],
      "text/plain": [
       "                                                                 sentence  \\\n",
       "0   Szumowska i Englert o filmie \"All Inclusive\". \"To było jak powrót ...   \n",
       "1   Raper Diddy już drugi raz w ciągu tygodnia został pozwany za napaś...   \n",
       "2   W Kulcie przez niemal cztery dekady, stał za \"Arahją\". Nie żyje Ja...   \n",
       "3   Intelektualna gra Szczepana Twardocha. Recenzja nowej książki \"Pow...   \n",
       "4   \"Życie pisze niesamowite scenariusze\". Ostatni odcinek \"Bitwy o go...   \n",
       "5                 Co obejrzeć w Halloween? Dziesięć najlepszych filmów      \n",
       "6   Gwiazdor \"Miami Vice\" opowiedział o zmaganiach z rakiem. \"Było nap...   \n",
       "7                         WOŚP na antenie TVN i TTV jeszcze przed Finałem   \n",
       "8   Oscary 2024. Wszystko, co warto wiedzieć o 96. gali wręczenia Nagr...   \n",
       "9    \"Warto było zacisnąć zęby\". Marcin Dorociński u boku światowych sław   \n",
       "10      Taylor Swift przekazała hojną darowiznę dla ofiar huraganów w USA   \n",
       "11  Nie żyje Terry Hall, wokalista The Specials. W latach 80. ich hity...   \n",
       "12  Zespół Bi-2 aresztowany w Tajlandii. Muzycy trzymani \"w potwornych...   \n",
       "13  Gwizdy podczas występu reprezentantki Izraela. Protesty i zamiesza...   \n",
       "14  Spice Girls znów razem. W pełnym składzie zaśpiewały swój wielki h...   \n",
       "15  Gdzie i kiedy oglądać koronację Karola III i królowej Kamili? Prog...   \n",
       "16  \"Czas na Show. Drag Me Out\". Sześciu znanych mężczyzn przejdzie ni...   \n",
       "17  Nie masz pomysłu na świąteczny prezent? Polecamy 10 książek, od kt...   \n",
       "18                                                Leszek Szaruga nie żyje   \n",
       "19  \"Mam wrażenie, że tata jest gdzieś z boku\". Poruszające słowa rodz...   \n",
       "20  Byłe tancerki pozywają Lizzo. Zarzucają jej molestowanie i dyskrym...   \n",
       "21  Gwiazdy \"Seksu w wielkim mieście\" uczciły 25 lat hitowej produkcji...   \n",
       "22                                         Alwida Antonina Bajor nie żyje   \n",
       "23  Agnieszka Holland: haniebna i kłamliwa kampania nienawiści, która ...   \n",
       "24  Stworzą multimedialną operę o fenomenie odbudowy Warszawy. \"Nikt d...   \n",
       "25            Ozzy Osbourne o walce o zdrowie i szansach powrotu na scenę   \n",
       "26  Naomi Campbell po raz drugi została mamą. \"Nigdy nie jest za późno...   \n",
       "27                      \"Artyści tacy jak Jerzy Stuhr nigdy nie odchodzą\"   \n",
       "28  Pamela Anderson twierdzi, że Tim Allen się przed nią obnażył. Miał...   \n",
       "29    Spielberg komplementuje Cruise'a: uratowałeś tyłek całemu Hollywood   \n",
       "\n",
       "   example_category  \\\n",
       "0           kultura   \n",
       "1           kultura   \n",
       "2           kultura   \n",
       "3           kultura   \n",
       "4           kultura   \n",
       "5           kultura   \n",
       "6           kultura   \n",
       "7           kultura   \n",
       "8           kultura   \n",
       "9           kultura   \n",
       "10          kultura   \n",
       "11          kultura   \n",
       "12          kultura   \n",
       "13          kultura   \n",
       "14          kultura   \n",
       "15          kultura   \n",
       "16          kultura   \n",
       "17          kultura   \n",
       "18          kultura   \n",
       "19          kultura   \n",
       "20          kultura   \n",
       "21          kultura   \n",
       "22          kultura   \n",
       "23          kultura   \n",
       "24          kultura   \n",
       "25          kultura   \n",
       "26          kultura   \n",
       "27          kultura   \n",
       "28          kultura   \n",
       "29          kultura   \n",
       "\n",
       "                                                                reasoning  \\\n",
       "0   Tekst dotyczy filmu i jego recepcji, co sugeruje, że jest to wydar...   \n",
       "1   Tekst dotyczy wydarzenia związkanego z kulturą (rap), ale także ma...   \n",
       "2   Tekst opisuje życiorys i śmierć Janusza Grudzińskiego, który przez...   \n",
       "3   Recenzja książki to typowy przykład wydarzenia kulturalnego, które...   \n",
       "4   Tekst jest tytułem odcinka serialu, który opowiada historię. Odcin...   \n",
       "5   Film \"Halloween\" jest klasycznym horrorów, a lista najlepszych fil...   \n",
       "6   Gwiazdor \"Miami Vice\" opowiedział o swoich zmaganiach z rakiem, co...   \n",
       "7   Tekst dotyczy wydarzenia kulturalnego, ponieważ WOŚP to organizacj...   \n",
       "8   Tekst dotyczy wydarzenia kulturalnego, czyli wręczenia Nagród Akad...   \n",
       "9   Tekst dotyczy wydarzenia kulturalnego, ponieważ wymieniony aktor M...   \n",
       "10  Taylor Swift jest amerykańską piosenkarką, a darowizna została prz...   \n",
       "11  Terry Hall, wokalista The Specials, był ważną postacią w kulturze ...   \n",
       "12  Zespół Bi-2 jest polskim zespołem muzycznym, aresztowanie w Tajlan...   \n",
       "13  Tekst dotyczy wydarzenia kulturalnego, konkretnie finału Eurowizji...   \n",
       "14  Spice Girls to zespół muzyczny, który swoją popularność osiągnął w...   \n",
       "15  Tekst dotyczy wydarzenia kulturalnego, czyli koronacji monarchów, ...   \n",
       "16  Tekst opisuje wydarzenie kulturalne, które dotyczy metamorfozy zna...   \n",
       "17  Tekst sugeruje, że książki są ważnymi wydarzeniami kulturalnymi, k...   \n",
       "18  Leszek Szaruga był polskim aktorem, więc jego śmierć jest związana...   \n",
       "19  Tekst ten jest powiązany z wydarzeniem kulturalnym, ponieważ dotyc...   \n",
       "20  Tekst dotyczy wydarzenia kulturalnego, w którym byłe tancerki oska...   \n",
       "21  Produkcja \"Seksu w wielkim mieście\" to klasyczny polski film, a gw...   \n",
       "22  Alwida Antonina Bajor była polską aktorką, dlatego tekst dotyczy w...   \n",
       "23  Agnieszka Holland to polska reżyserka, a kampania nienawiści jest ...   \n",
       "24  Tekst dotyczy tworzenia nowej formy sztuki, opery, która będzie op...   \n",
       "25  Ozzy Osbourne, jeden z najbardziej znanych muzyków rockowych, walc...   \n",
       "26  Naomi Campbell, znana modelka, po raz drugi staje się matką. Tekst...   \n",
       "27  Tekst dotyczy artyści, którzy są związani z kulturą i sztuką. Jerz...   \n",
       "28  Pamela Anderson i Tim Allen to znani amerykańscy aktorzy, a ich ro...   \n",
       "29  Spielberg, znany reżyser filmowy, komplementuje Cruise'a, popularn...   \n",
       "\n",
       "   pred_category  \\\n",
       "0        kultura   \n",
       "1          swiat   \n",
       "2        kultura   \n",
       "3        kultura   \n",
       "4         polska   \n",
       "5        kultura   \n",
       "6        kultura   \n",
       "7        kultura   \n",
       "8        kultura   \n",
       "9        kultura   \n",
       "10         swiat   \n",
       "11       kultura   \n",
       "12         swiat   \n",
       "13       kultura   \n",
       "14       kultura   \n",
       "15       kultura   \n",
       "16       kultura   \n",
       "17       kultura   \n",
       "18        polska   \n",
       "19       kultura   \n",
       "20       kultura   \n",
       "21        polska   \n",
       "22        polska   \n",
       "23        polska   \n",
       "24       kultura   \n",
       "25       kultura   \n",
       "26         swiat   \n",
       "27        polska   \n",
       "28         swiat   \n",
       "29       kultura   \n",
       "\n",
       "                                                                   reason  \\\n",
       "0   Wypowiedź Szumowskiej i Englerta o powrocie do korzeni filmu wskaz...   \n",
       "1   Dlatego wybór kategorii \"świat\" jest uzasadniony, ponieważ wydarze...   \n",
       "2   Janusz Grudziński był związany z Kulcie przez niemal cztery dekady...   \n",
       "3   Książka \"Powiedzmy, że Piontek\" jest recenzowaną przez autora Szcz...   \n",
       "4   Wybór kategorii 'polska' wynika z tego, że serial jest polskim pro...   \n",
       "5   Wybór kategorii \"kultura\" wynika z faktu, że tekst dotyczy filmów,...   \n",
       "6   Gwiazdor \"Miami Vice\" opowiedział o swoich zmaganiach z rakiem, co...   \n",
       "7   Wybór kategorii kultura wynika z tego, że tekst dotyczy organizacj...   \n",
       "8   Wybór kategorii \"kultura\" oparty jest na tym, że tekst dotyczy wyd...   \n",
       "9   Warto było zacisnąć zęby - to tytuł artykułu, który sugeruje, że c...   \n",
       "10  Wybór kategorii \"świat\" wynika z tego, że wydarzenie dotyczy ofiar...   \n",
       "11  Terry Hall's death is a significant cultural event, and his impact...   \n",
       "12  Wybór kategorii \"świat\" wynika z tego, że wydarzenie miało miejsce...   \n",
       "13  Wybór kategorii kultura wynika z faktu, że tekst dotyczy wydarzeni...   \n",
       "14  W tekście nie ma wzmianek o Polsce, a Spice Girls to brytyjski zes...   \n",
       "15  Koronaacja Karola III i królowej Kamilii jest wydarzeniem kultural...   \n",
       "16  Wydarzenie opisane w tekście dotyczy przemiany mężczyzn, co sugeru...   \n",
       "17  Książki są ważnymi wydarzeniami kulturalnymi, które mogą być trudn...   \n",
       "18  W wyborze kategorii brano pod uwagę narodowość osoby, której śmier...   \n",
       "19  Wybór kategorii \"kultura\" oparty jest na tym, że tekst dotyczy rod...   \n",
       "20  Wynika stąd, że wybór kategorii kultura jest logiczny, ponieważ te...   \n",
       "21  W produkcji tej nie ma żadnych odniesień do wydarzeń w krajuach po...   \n",
       "22  Wybór kategorii \"polska\" wynikał z faktu, że Alwida Antonina Bajor...   \n",
       "23  Kampania nienawiści to temat, który jest bliski polskiej kulturze ...   \n",
       "24  Wybór kategorii \"kultura\" wynika z faktu, że tekst dotyczy tworzen...   \n",
       "25  Ozzy Osbourne to legenda rocka, a jego walka o zdrowie i szansę po...   \n",
       "26  Wybór kategorii \"świat\" oparty jest na tym, że Naomi Campbell jest...   \n",
       "27  Jerzy Stuhr to znany polski aktor, a tekst nie ma bezpośredniego z...   \n",
       "28  Wynika to z faktu, że obaj aktorzy są znani z ról w filmach i seri...   \n",
       "29  Wybór kategorii kultura wynika z faktu, że tekst dotyczy relacji m...   \n",
       "\n",
       "   validate_category  \n",
       "0          ✔️ [True]  \n",
       "1                     \n",
       "2          ✔️ [True]  \n",
       "3          ✔️ [True]  \n",
       "4                     \n",
       "5          ✔️ [True]  \n",
       "6          ✔️ [True]  \n",
       "7          ✔️ [True]  \n",
       "8          ✔️ [True]  \n",
       "9          ✔️ [True]  \n",
       "10                    \n",
       "11         ✔️ [True]  \n",
       "12                    \n",
       "13         ✔️ [True]  \n",
       "14         ✔️ [True]  \n",
       "15         ✔️ [True]  \n",
       "16         ✔️ [True]  \n",
       "17         ✔️ [True]  \n",
       "18                    \n",
       "19         ✔️ [True]  \n",
       "20         ✔️ [True]  \n",
       "21                    \n",
       "22                    \n",
       "23                    \n",
       "24         ✔️ [True]  \n",
       "25         ✔️ [True]  \n",
       "26                    \n",
       "27                    \n",
       "28                    \n",
       "29         ✔️ [True]  "
      ]
     },
     "metadata": {},
     "output_type": "display_data"
    },
    {
     "data": {
      "text/html": [
       "\n",
       "            <div style='\n",
       "                text-align: center;\n",
       "                font-size: 16px;\n",
       "                font-weight: bold;\n",
       "                color: #555;\n",
       "                margin: 10px 0;'>\n",
       "                ... 270 more rows not displayed ...\n",
       "            </div>\n",
       "            "
      ],
      "text/plain": [
       "<IPython.core.display.HTML object>"
      ]
     },
     "metadata": {},
     "output_type": "display_data"
    }
   ],
   "source": [
    "evaluator = Evaluate(\n",
    "    devset=trainset, \n",
    "    num_threads=1, \n",
    "    display_progress=True, \n",
    "    display_table=30, \n",
    "    provide_traceback=True\n",
    ")\n",
    "\n",
    "evaluated_data = evaluator(\n",
    "    module, \n",
    "    metric=validate_category, \n",
    "    return_outputs=True\n",
    ")"
   ]
  },
  {
   "cell_type": "markdown",
   "id": "b7799419-b939-45ee-9628-00774d2e4712",
   "metadata": {},
   "source": [
    "#### Macierz pomyłek dla wstępnego promtu"
   ]
  },
  {
   "cell_type": "code",
   "execution_count": 51,
   "id": "9ae18366-03e6-4cd7-8835-facd5c72f16a",
   "metadata": {},
   "outputs": [
    {
     "data": {
      "image/png": "[encoded data removed]",
      "text/plain": [
       "<Figure size 640x480 with 1 Axes>"
      ]
     },
     "metadata": {},
     "output_type": "display_data"
    }
   ],
   "source": [
    "accuracy_score, examples = evaluated_data\n",
    "\n",
    "y_true = [ex['category'] for ex, _, _ in examples]\n",
    "y_pred = [pred['category'] for _, pred, _ in examples]\n",
    "\n",
    "from sklearn.metrics import confusion_matrix, ConfusionMatrixDisplay\n",
    "import matplotlib.pyplot as plt\n",
    "\n",
    "labels = sorted(set(y_true + y_pred))\n",
    "cm = confusion_matrix(y_true, y_pred, labels=labels)\n",
    "\n",
    "disp = ConfusionMatrixDisplay(confusion_matrix=cm, display_labels=labels)\n",
    "disp.plot(cmap='Blues', xticks_rotation=45, colorbar=False)\n",
    "plt.title(f\"Large Language Model (initial) \\nAccuracy: {accuracy_score:.2f}%\")\n",
    "plt.show()"
   ]
  },
  {
   "cell_type": "markdown",
   "id": "93d9a2a1-e0d8-4544-80a5-16ca55d636c2",
   "metadata": {},
   "source": [
    "#### Optymalizacja promptu"
   ]
  },
  {
   "cell_type": "code",
   "execution_count": 52,
   "id": "6cafd459-4e01-4c2f-bb4f-fc96f9f13c9f",
   "metadata": {
    "scrolled": true
   },
   "outputs": [
    {
     "name": "stderr",
     "output_type": "stream",
     "text": [
      "2025/06/22 15:35:26 INFO dspy.teleprompt.mipro_optimizer_v2: \n",
      "RUNNING WITH THE FOLLOWING LIGHT AUTO RUN SETTINGS:\n",
      "num_trials: 7\n",
      "minibatch: True\n",
      "num_candidates: 5\n",
      "valset size: 100\n",
      "\n",
      "2025/06/22 15:35:26 INFO dspy.teleprompt.mipro_optimizer_v2: \n",
      "==> STEP 1: BOOTSTRAP FEWSHOT EXAMPLES <==\n",
      "2025/06/22 15:35:26 INFO dspy.teleprompt.mipro_optimizer_v2: These will be used as few-shot example candidates for our program and for creating instructions.\n",
      "\n",
      "2025/06/22 15:35:26 INFO dspy.teleprompt.mipro_optimizer_v2: Bootstrapping N=5 sets of demonstrations...\n"
     ]
    },
    {
     "name": "stdout",
     "output_type": "stream",
     "text": [
      "Bootstrapping set 1/5\n",
      "Bootstrapping set 2/5\n",
      "Bootstrapping set 3/5\n"
     ]
    },
    {
     "name": "stderr",
     "output_type": "stream",
     "text": [
      " 10%|████████▎                                                                          | 6/60 [00:12<01:56,  2.15s/it]\n"
     ]
    },
    {
     "name": "stdout",
     "output_type": "stream",
     "text": [
      "Bootstrapped 4 full traces after 6 examples for up to 1 rounds, amounting to 6 attempts.\n",
      "Bootstrapping set 4/5\n"
     ]
    },
    {
     "name": "stderr",
     "output_type": "stream",
     "text": [
      "  3%|██▊                                                                                | 2/60 [00:04<01:57,  2.03s/it]\n"
     ]
    },
    {
     "name": "stdout",
     "output_type": "stream",
     "text": [
      "Bootstrapped 2 full traces after 2 examples for up to 1 rounds, amounting to 2 attempts.\n",
      "Bootstrapping set 5/5\n"
     ]
    },
    {
     "name": "stderr",
     "output_type": "stream",
     "text": [
      " 12%|█████████▋                                                                         | 7/60 [00:18<02:17,  2.59s/it]\n",
      "2025/06/22 15:36:01 INFO dspy.teleprompt.mipro_optimizer_v2: \n",
      "==> STEP 2: PROPOSE INSTRUCTION CANDIDATES <==\n",
      "2025/06/22 15:36:01 INFO dspy.teleprompt.mipro_optimizer_v2: We will use the few-shot examples from the previous step, a generated dataset summary, a summary of the program code, and a randomly selected prompting tip to propose instructions.\n"
     ]
    },
    {
     "name": "stdout",
     "output_type": "stream",
     "text": [
      "Bootstrapped 4 full traces after 7 examples for up to 1 rounds, amounting to 7 attempts.\n"
     ]
    },
    {
     "name": "stderr",
     "output_type": "stream",
     "text": [
      "2025/06/22 15:36:05 INFO dspy.teleprompt.mipro_optimizer_v2: \n",
      "Proposing instructions...\n",
      "\n",
      "2025/06/22 15:37:58 INFO dspy.teleprompt.mipro_optimizer_v2: Proposed Instructions for Predictor 0:\n",
      "\n",
      "2025/06/22 15:37:58 INFO dspy.teleprompt.mipro_optimizer_v2: 0: Przyporządkuj tekst do jednej z kategorii.\n",
      "Dodatkowo wytłumacz dlaczego tak postanowiłeś w języku polskim.\n",
      "Przy wyborze kategorii zwróć uwagę na to w jakim kraju miały miejsce wydażenia lub jakiej narodowości były wspomniane tam osoby.\n",
      "Jeśli tekst dotyczy wydażeń w polsce wybierz kategorię polska. Jeśli tekst dotyczy wydarzenia z poza polski wybierz świat.\n",
      "Jeśli tekst dotyczy wydarzenia kulturalnego wybierz kategorię kultura\n",
      "\n",
      "2025/06/22 15:37:58 INFO dspy.teleprompt.mipro_optimizer_v2: 1: Analyze the given sentence and categorize it into one of three categories: \"kultura\" (culture), \"polska\" (Polish), or \"swiat\" (world). Provide a detailed reasoning in Polish explaining why you chose this category. When selecting a category, consider where the event took place or which nationality is mentioned in the text. If the sentence refers to an event that occurred in Poland, choose the \"polska\" category. If it's about an international event, choose the \"swiat\" category. If it's related to culture, choose the \"kultura\" category.\n",
      "\n",
      "2025/06/22 15:37:58 INFO dspy.teleprompt.mipro_optimizer_v2: 2: Wyobraź sobie, że jesteś szefem agencji wywiadu, który ma wykryć i zatrzymać agenta prz\n",
      "\n",
      "2025/06/22 15:37:58 INFO dspy.teleprompt.mipro_optimizer_v2: 3: Przyporządkuj tekst do jednej z kategorii kultura, polska lub świat. Wytłumacz, dlaczego tak postanowiłeś w języku polskim, biorąc pod uwagę kraj, w którym miały miejsce wydarzenia, lub narodowość osób wspomnianych w tekście.\n",
      "\n",
      "2025/06/22 15:37:58 INFO dspy.teleprompt.mipro_optimizer_v2: 4: Zastanów się, jakbyś był krytykiem kultury. Przyporządkuj tekst do jednej z kategorii: 'kultura', 'polska' lub 'swiat'. Dodatkowo wytłumacz dlaczego tak postanowiłeś w języku polskim, biorąc pod uwagę miejsce wydarzenia, narodowość osób wymienionych w tekście, a także jego znaczenie dla kultury.\n",
      "\n",
      "2025/06/22 15:37:58 INFO dspy.teleprompt.mipro_optimizer_v2: \n",
      "\n",
      "2025/06/22 15:37:58 INFO dspy.teleprompt.mipro_optimizer_v2: ==> STEP 3: FINDING OPTIMAL PROMPT PARAMETERS <==\n",
      "2025/06/22 15:37:58 INFO dspy.teleprompt.mipro_optimizer_v2: We will evaluate the program over a series of trials with different combinations of instructions and few-shot examples to find the optimal combination using Bayesian Optimization.\n",
      "\n",
      "2025/06/22 15:37:58 INFO dspy.teleprompt.mipro_optimizer_v2: == Trial 1 / 10 - Full Evaluation of Default Program ==\n"
     ]
    },
    {
     "name": "stdout",
     "output_type": "stream",
     "text": [
      "Average Metric: 68.00 / 100 (68.0%): 100%|█████████████████████████████████████████| 100/100 [00:00<00:00, 1150.78it/s]"
     ]
    },
    {
     "name": "stderr",
     "output_type": "stream",
     "text": [
      "2025/06/22 15:37:59 INFO dspy.evaluate.evaluate: Average Metric: 68 / 100 (68.0%)\n",
      "2025/06/22 15:37:59 INFO dspy.teleprompt.mipro_optimizer_v2: Default program score: 68.0\n",
      "\n",
      "C:\\Users\\trawi\\anaconda3\\envs\\dspy\\lib\\site-packages\\optuna\\_experimental.py:31: ExperimentalWarning: Argument ``multivariate`` is an experimental feature. The interface can change in the future.\n",
      "  warnings.warn(\n",
      "2025/06/22 15:37:59 INFO dspy.teleprompt.mipro_optimizer_v2: == Trial 2 / 10 - Minibatch ==\n"
     ]
    },
    {
     "name": "stdout",
     "output_type": "stream",
     "text": [
      "\n",
      "Average Metric: 25.00 / 35 (71.4%): 100%|██████████████████████████████████████████████| 35/35 [00:42<00:00,  1.21s/it]"
     ]
    },
    {
     "name": "stderr",
     "output_type": "stream",
     "text": [
      "2025/06/22 15:38:41 INFO dspy.evaluate.evaluate: Average Metric: 25 / 35 (71.4%)\n",
      "2025/06/22 15:38:41 INFO dspy.teleprompt.mipro_optimizer_v2: Score: 71.43 on minibatch of size 35 with parameters ['Predictor 0: Instruction 1', 'Predictor 0: Few-Shot Set 1'].\n",
      "2025/06/22 15:38:41 INFO dspy.teleprompt.mipro_optimizer_v2: Minibatch scores so far: [71.43]\n",
      "2025/06/22 15:38:41 INFO dspy.teleprompt.mipro_optimizer_v2: Full eval scores so far: [68.0]\n",
      "2025/06/22 15:38:41 INFO dspy.teleprompt.mipro_optimizer_v2: Best full score so far: 68.0\n",
      "2025/06/22 15:38:41 INFO dspy.teleprompt.mipro_optimizer_v2: =========================================\n",
      "\n",
      "\n",
      "2025/06/22 15:38:41 INFO dspy.teleprompt.mipro_optimizer_v2: == Trial 3 / 10 - Minibatch ==\n"
     ]
    },
    {
     "name": "stdout",
     "output_type": "stream",
     "text": [
      "\n",
      "Average Metric: 19.00 / 35 (54.3%): 100%|██████████████████████████████████████████████| 35/35 [00:22<00:00,  1.57it/s]"
     ]
    },
    {
     "name": "stderr",
     "output_type": "stream",
     "text": [
      "2025/06/22 15:39:03 INFO dspy.evaluate.evaluate: Average Metric: 19 / 35 (54.3%)\n",
      "2025/06/22 15:39:03 INFO dspy.teleprompt.mipro_optimizer_v2: Score: 54.29 on minibatch of size 35 with parameters ['Predictor 0: Instruction 2', 'Predictor 0: Few-Shot Set 1'].\n",
      "2025/06/22 15:39:03 INFO dspy.teleprompt.mipro_optimizer_v2: Minibatch scores so far: [71.43, 54.29]\n",
      "2025/06/22 15:39:03 INFO dspy.teleprompt.mipro_optimizer_v2: Full eval scores so far: [68.0]\n",
      "2025/06/22 15:39:03 INFO dspy.teleprompt.mipro_optimizer_v2: Best full score so far: 68.0\n",
      "2025/06/22 15:39:03 INFO dspy.teleprompt.mipro_optimizer_v2: =========================================\n",
      "\n",
      "\n",
      "2025/06/22 15:39:03 INFO dspy.teleprompt.mipro_optimizer_v2: == Trial 4 / 10 - Minibatch ==\n"
     ]
    },
    {
     "name": "stdout",
     "output_type": "stream",
     "text": [
      "\n",
      "Average Metric: 27.00 / 35 (77.1%): 100%|██████████████████████████████████████████████| 35/35 [00:31<00:00,  1.11it/s]"
     ]
    },
    {
     "name": "stderr",
     "output_type": "stream",
     "text": [
      "2025/06/22 15:39:35 INFO dspy.evaluate.evaluate: Average Metric: 27 / 35 (77.1%)\n",
      "2025/06/22 15:39:35 INFO dspy.teleprompt.mipro_optimizer_v2: Score: 77.14 on minibatch of size 35 with parameters ['Predictor 0: Instruction 4', 'Predictor 0: Few-Shot Set 1'].\n",
      "2025/06/22 15:39:35 INFO dspy.teleprompt.mipro_optimizer_v2: Minibatch scores so far: [71.43, 54.29, 77.14]\n",
      "2025/06/22 15:39:35 INFO dspy.teleprompt.mipro_optimizer_v2: Full eval scores so far: [68.0]\n",
      "2025/06/22 15:39:35 INFO dspy.teleprompt.mipro_optimizer_v2: Best full score so far: 68.0\n",
      "2025/06/22 15:39:35 INFO dspy.teleprompt.mipro_optimizer_v2: =========================================\n",
      "\n",
      "\n",
      "2025/06/22 15:39:35 INFO dspy.teleprompt.mipro_optimizer_v2: == Trial 5 / 10 - Minibatch ==\n"
     ]
    },
    {
     "name": "stdout",
     "output_type": "stream",
     "text": [
      "\n",
      "Average Metric: 20.00 / 35 (57.1%): 100%|██████████████████████████████████████████████| 35/35 [00:15<00:00,  2.26it/s]"
     ]
    },
    {
     "name": "stderr",
     "output_type": "stream",
     "text": [
      "2025/06/22 15:39:50 INFO dspy.evaluate.evaluate: Average Metric: 20 / 35 (57.1%)\n",
      "2025/06/22 15:39:50 INFO dspy.teleprompt.mipro_optimizer_v2: Score: 57.14 on minibatch of size 35 with parameters ['Predictor 0: Instruction 2', 'Predictor 0: Few-Shot Set 1'].\n",
      "2025/06/22 15:39:50 INFO dspy.teleprompt.mipro_optimizer_v2: Minibatch scores so far: [71.43, 54.29, 77.14, 57.14]\n",
      "2025/06/22 15:39:50 INFO dspy.teleprompt.mipro_optimizer_v2: Full eval scores so far: [68.0]\n",
      "2025/06/22 15:39:50 INFO dspy.teleprompt.mipro_optimizer_v2: Best full score so far: 68.0\n",
      "2025/06/22 15:39:50 INFO dspy.teleprompt.mipro_optimizer_v2: =========================================\n",
      "\n",
      "\n",
      "2025/06/22 15:39:50 INFO dspy.teleprompt.mipro_optimizer_v2: == Trial 6 / 10 - Minibatch ==\n"
     ]
    },
    {
     "name": "stdout",
     "output_type": "stream",
     "text": [
      "\n",
      "Average Metric: 23.00 / 35 (65.7%): 100%|██████████████████████████████████████████████| 35/35 [00:26<00:00,  1.32it/s]"
     ]
    },
    {
     "name": "stderr",
     "output_type": "stream",
     "text": [
      "2025/06/22 15:40:17 INFO dspy.evaluate.evaluate: Average Metric: 23 / 35 (65.7%)\n",
      "2025/06/22 15:40:17 INFO dspy.teleprompt.mipro_optimizer_v2: Score: 65.71 on minibatch of size 35 with parameters ['Predictor 0: Instruction 4', 'Predictor 0: Few-Shot Set 3'].\n",
      "2025/06/22 15:40:17 INFO dspy.teleprompt.mipro_optimizer_v2: Minibatch scores so far: [71.43, 54.29, 77.14, 57.14, 65.71]\n",
      "2025/06/22 15:40:17 INFO dspy.teleprompt.mipro_optimizer_v2: Full eval scores so far: [68.0]\n",
      "2025/06/22 15:40:17 INFO dspy.teleprompt.mipro_optimizer_v2: Best full score so far: 68.0\n",
      "2025/06/22 15:40:17 INFO dspy.teleprompt.mipro_optimizer_v2: =========================================\n",
      "\n",
      "\n",
      "2025/06/22 15:40:17 INFO dspy.teleprompt.mipro_optimizer_v2: ===== Trial 7 / 10 - Full Evaluation =====\n",
      "2025/06/22 15:40:17 INFO dspy.teleprompt.mipro_optimizer_v2: Doing full eval on next top averaging program (Avg Score: 77.14) from minibatch trials...\n"
     ]
    },
    {
     "name": "stdout",
     "output_type": "stream",
     "text": [
      "\n",
      "Average Metric: 65.00 / 100 (65.0%): 100%|███████████████████████████████████████████| 100/100 [00:56<00:00,  1.77it/s]"
     ]
    },
    {
     "name": "stderr",
     "output_type": "stream",
     "text": [
      "2025/06/22 15:41:13 INFO dspy.evaluate.evaluate: Average Metric: 65 / 100 (65.0%)\n",
      "2025/06/22 15:41:13 INFO dspy.teleprompt.mipro_optimizer_v2: Full eval scores so far: [68.0, 65.0]\n",
      "2025/06/22 15:41:13 INFO dspy.teleprompt.mipro_optimizer_v2: Best full score so far: 68.0\n",
      "2025/06/22 15:41:13 INFO dspy.teleprompt.mipro_optimizer_v2: =======================\n",
      "2025/06/22 15:41:13 INFO dspy.teleprompt.mipro_optimizer_v2: \n",
      "\n",
      "2025/06/22 15:41:13 INFO dspy.teleprompt.mipro_optimizer_v2: == Trial 8 / 10 - Minibatch ==\n"
     ]
    },
    {
     "name": "stdout",
     "output_type": "stream",
     "text": [
      "\n",
      "Average Metric: 27.00 / 35 (77.1%): 100%|██████████████████████████████████████████████| 35/35 [00:27<00:00,  1.29it/s]"
     ]
    },
    {
     "name": "stderr",
     "output_type": "stream",
     "text": [
      "2025/06/22 15:41:40 INFO dspy.evaluate.evaluate: Average Metric: 27 / 35 (77.1%)\n",
      "2025/06/22 15:41:40 INFO dspy.teleprompt.mipro_optimizer_v2: Score: 77.14 on minibatch of size 35 with parameters ['Predictor 0: Instruction 0', 'Predictor 0: Few-Shot Set 1'].\n",
      "2025/06/22 15:41:40 INFO dspy.teleprompt.mipro_optimizer_v2: Minibatch scores so far: [71.43, 54.29, 77.14, 57.14, 65.71, 77.14]\n",
      "2025/06/22 15:41:40 INFO dspy.teleprompt.mipro_optimizer_v2: Full eval scores so far: [68.0, 65.0]\n",
      "2025/06/22 15:41:40 INFO dspy.teleprompt.mipro_optimizer_v2: Best full score so far: 68.0\n",
      "2025/06/22 15:41:40 INFO dspy.teleprompt.mipro_optimizer_v2: =========================================\n",
      "\n",
      "\n",
      "2025/06/22 15:41:40 INFO dspy.teleprompt.mipro_optimizer_v2: == Trial 9 / 10 - Minibatch ==\n"
     ]
    },
    {
     "name": "stdout",
     "output_type": "stream",
     "text": [
      "\n",
      "Average Metric: 20.00 / 35 (57.1%): 100%|██████████████████████████████████████████████| 35/35 [00:37<00:00,  1.08s/it]"
     ]
    },
    {
     "name": "stderr",
     "output_type": "stream",
     "text": [
      "2025/06/22 15:42:18 INFO dspy.evaluate.evaluate: Average Metric: 20 / 35 (57.1%)\n",
      "2025/06/22 15:42:18 INFO dspy.teleprompt.mipro_optimizer_v2: Score: 57.14 on minibatch of size 35 with parameters ['Predictor 0: Instruction 4', 'Predictor 0: Few-Shot Set 4'].\n",
      "2025/06/22 15:42:18 INFO dspy.teleprompt.mipro_optimizer_v2: Minibatch scores so far: [71.43, 54.29, 77.14, 57.14, 65.71, 77.14, 57.14]\n",
      "2025/06/22 15:42:18 INFO dspy.teleprompt.mipro_optimizer_v2: Full eval scores so far: [68.0, 65.0]\n",
      "2025/06/22 15:42:18 INFO dspy.teleprompt.mipro_optimizer_v2: Best full score so far: 68.0\n",
      "2025/06/22 15:42:18 INFO dspy.teleprompt.mipro_optimizer_v2: =========================================\n",
      "\n",
      "\n",
      "2025/06/22 15:42:18 INFO dspy.teleprompt.mipro_optimizer_v2: ===== Trial 10 / 10 - Full Evaluation =====\n",
      "2025/06/22 15:42:18 INFO dspy.teleprompt.mipro_optimizer_v2: Doing full eval on next top averaging program (Avg Score: 77.14) from minibatch trials...\n"
     ]
    },
    {
     "name": "stdout",
     "output_type": "stream",
     "text": [
      "\n",
      "Average Metric: 73.00 / 100 (73.0%): 100%|███████████████████████████████████████████| 100/100 [00:46<00:00,  2.15it/s]"
     ]
    },
    {
     "name": "stderr",
     "output_type": "stream",
     "text": [
      "2025/06/22 15:43:05 INFO dspy.evaluate.evaluate: Average Metric: 73 / 100 (73.0%)\n",
      "2025/06/22 15:43:05 INFO dspy.teleprompt.mipro_optimizer_v2: \u001b[92mNew best full eval score!\u001b[0m Score: 73.0\n",
      "2025/06/22 15:43:05 INFO dspy.teleprompt.mipro_optimizer_v2: Full eval scores so far: [68.0, 65.0, 73.0]\n",
      "2025/06/22 15:43:05 INFO dspy.teleprompt.mipro_optimizer_v2: Best full score so far: 73.0\n",
      "2025/06/22 15:43:05 INFO dspy.teleprompt.mipro_optimizer_v2: =======================\n",
      "2025/06/22 15:43:05 INFO dspy.teleprompt.mipro_optimizer_v2: \n",
      "\n",
      "2025/06/22 15:43:05 INFO dspy.teleprompt.mipro_optimizer_v2: Returning best identified program with score 73.0!\n"
     ]
    },
    {
     "name": "stdout",
     "output_type": "stream",
     "text": [
      "\n"
     ]
    }
   ],
   "source": [
    "tp = dspy.MIPROv2(\n",
    "    metric=validate_category, \n",
    "    auto =\"light\"\n",
    ")\n",
    "optimized = tp.compile(\n",
    "    module, \n",
    "    trainset = trainset, \n",
    "    requires_permission_to_run = False\n",
    ")"
   ]
  },
  {
   "cell_type": "code",
   "execution_count": 53,
   "id": "4516a583-ca54-4f48-9089-34eb45fe5bb7",
   "metadata": {
    "scrolled": true
   },
   "outputs": [
    {
     "data": {
      "text/plain": [
       "classifier.predict = Predict(StringSignature(sentence -> reasoning, category, reason\n",
       "    instructions='Przyporządkuj tekst do jednej z kategorii.\\nDodatkowo wytłumacz dlaczego tak postanowiłeś w języku polskim.\\nPrzy wyborze kategorii zwróć uwagę na to w jakim kraju miały miejsce wydażenia lub jakiej narodowości były wspomniane tam osoby.\\nJeśli tekst dotyczy wydażeń w polsce wybierz kategorię polska. Jeśli tekst dotyczy wydarzenia z poza polski wybierz świat.\\nJeśli tekst dotyczy wydarzenia kulturalnego wybierz kategorię kultura'\n",
       "    sentence = Field(annotation=str required=True json_schema_extra={'desc': 'The news headline to classify', '__dspy_field_type': 'input', 'prefix': 'Sentence:'})\n",
       "    reasoning = Field(annotation=str required=True json_schema_extra={'prefix': \"Reasoning: Let's think step by step in order to\", 'desc': '${reasoning}', '__dspy_field_type': 'output'})\n",
       "    category = Field(annotation=Literal['kultura', 'polska', 'swiat'] required=True json_schema_extra={'desc': 'The predicted category for the headline', '__dspy_field_type': 'output', 'prefix': 'Category:'})\n",
       "    reason = Field(annotation=str required=True json_schema_extra={'__dspy_field_type': 'output', 'prefix': 'Reason:', 'desc': '${reason}'})\n",
       "))"
      ]
     },
     "execution_count": 53,
     "metadata": {},
     "output_type": "execute_result"
    }
   ],
   "source": [
    "optimized"
   ]
  },
  {
   "cell_type": "markdown",
   "id": "fcea5e9e-f11f-4a8a-a85a-1bc4991e951f",
   "metadata": {},
   "source": [
    "### Zoptymalizowany prompt"
   ]
  },
  {
   "cell_type": "markdown",
   "id": "f7e144ce-d5cd-4ced-8e6f-6f6b62cea379",
   "metadata": {},
   "source": [
    "#### Przygotowanie danych testowych"
   ]
  },
  {
   "cell_type": "code",
   "execution_count": 54,
   "id": "c03b4163-7d55-4f31-ac20-58981d19a2d6",
   "metadata": {},
   "outputs": [],
   "source": [
    "validset_df = df.groupby('category').sample(n=100, random_state=21)\n",
    "\n",
    "validset = [\n",
    "    dspy.Example(sentence=row['sentence'], category=row['category']).with_inputs('sentence')\n",
    "    for _, row in validset_df.iterrows()\n",
    "]"
   ]
  },
  {
   "cell_type": "markdown",
   "id": "427039a7-477a-4881-a6b1-15cd6a173482",
   "metadata": {},
   "source": [
    "#### Ewaluacja na zoptymalizowanym prompcie"
   ]
  },
  {
   "cell_type": "code",
   "execution_count": 55,
   "id": "75eac53e-8e99-45cf-b592-df1f0718f86d",
   "metadata": {},
   "outputs": [
    {
     "name": "stdout",
     "output_type": "stream",
     "text": [
      "Average Metric: 190.00 / 300 (63.3%): 100%|██████████████████████████████████████████| 300/300 [10:48<00:00,  2.16s/it]"
     ]
    },
    {
     "name": "stderr",
     "output_type": "stream",
     "text": [
      "2025/06/22 15:53:53 INFO dspy.evaluate.evaluate: Average Metric: 190 / 300 (63.3%)\n"
     ]
    },
    {
     "name": "stdout",
     "output_type": "stream",
     "text": [
      "\n"
     ]
    }
   ],
   "source": [
    "evaluator = Evaluate(\n",
    "    devset=validset, \n",
    "    num_threads=1, \n",
    "    display_progress=True\n",
    ")\n",
    "\n",
    "eval_results = evaluator(\n",
    "    optimized, \n",
    "    metric=validate_category, \n",
    "    return_outputs=True\n",
    ")"
   ]
  },
  {
   "cell_type": "markdown",
   "id": "8ccfacf8-d672-4518-bc79-6b2e3a5cf756",
   "metadata": {},
   "source": [
    "#### Macierz pomyłek dla zoptymalizowanego promptu"
   ]
  },
  {
   "cell_type": "code",
   "execution_count": 56,
   "id": "e476251a-f0d8-40c4-aa44-c6aabd0352fa",
   "metadata": {},
   "outputs": [
    {
     "data": {
      "image/png": "[encoded data removed]",
      "text/plain": [
       "<Figure size 640x480 with 1 Axes>"
      ]
     },
     "metadata": {},
     "output_type": "display_data"
    }
   ],
   "source": [
    "accuracy_score, examples = eval_results\n",
    "\n",
    "y_true = [ex['category'] for ex, _, _ in examples]\n",
    "y_pred = [pred['category'] for _, pred, _ in examples]\n",
    "\n",
    "from sklearn.metrics import confusion_matrix, ConfusionMatrixDisplay\n",
    "import matplotlib.pyplot as plt\n",
    "\n",
    "labels = sorted(set(y_true + y_pred))\n",
    "cm = confusion_matrix(y_true, y_pred, labels=labels)\n",
    "\n",
    "disp = ConfusionMatrixDisplay(confusion_matrix=cm, display_labels=labels)\n",
    "disp.plot(cmap='Blues', xticks_rotation=45, colorbar=False)\n",
    "plt.title(f\"Large Language Model (optimized) \\nAccuracy: {accuracy_score:.2f}%\")\n",
    "plt.show()"
   ]
  },
  {
   "cell_type": "markdown",
   "id": "7634ac3d-add9-4b4f-bab1-e8e0beadd00d",
   "metadata": {},
   "source": [
    "# Wyniki"
   ]
  },
  {
   "cell_type": "code",
   "execution_count": 57,
   "id": "92ea2e52-5eac-4512-9fb5-709eb30cf9ce",
   "metadata": {},
   "outputs": [],
   "source": [
    "all_rows = []\n",
    "\n",
    "models = {\n",
    "    \"Logistic Regression\": final_model_lr,\n",
    "    \"Random Forest\": final_model_rfc,\n",
    "    \"MLP Classifier\": final_model_mlp\n",
    "}\n",
    "\n",
    "for model_name, model in models.items():\n",
    "    y_pred = model.predict(X_test)\n",
    "    \n",
    "    report_dict = classification_report(\n",
    "        y_test, y_pred, target_names=label_encoder.classes_, output_dict=True\n",
    "    )\n",
    "    \n",
    "    for label, metrics in report_dict.items():\n",
    "        if label in ['accuracy', 'macro avg', 'weighted avg']:\n",
    "            continue\n",
    "        \n",
    "        row = {\n",
    "            'category': label,\n",
    "            'model': model_name,\n",
    "            **metrics\n",
    "        }\n",
    "        all_rows.append(row)\n",
    "\n",
    "comparison_df = pd.DataFrame(all_rows)\n",
    "comparison_df.set_index(['model', 'category'], inplace=True)\n",
    "comparison_df = comparison_df.round(3).sort_index()\n",
    "\n",
    "pd.set_option(\"display.max_columns\", None)"
   ]
  },
  {
   "cell_type": "code",
   "execution_count": 58,
   "id": "30d80766-385d-4337-a8e7-746b093aa27e",
   "metadata": {},
   "outputs": [],
   "source": [
    "accuracy_score, examples = evaluated_data\n",
    "\n",
    "y_true = [ex['category'] for ex, _, _ in examples]\n",
    "y_pred = [pred['category'] for _, pred, _ in examples]\n",
    "\n",
    "target_names = sorted(set(y_true + y_pred))\n",
    "\n",
    "report_dict = classification_report(y_true, y_pred, target_names=target_names, output_dict=True)\n",
    "\n",
    "df_llm_report = pd.DataFrame(report_dict).T"
   ]
  },
  {
   "cell_type": "code",
   "execution_count": 59,
   "id": "a119eb7c-ae0e-4fd1-a597-a21119b92907",
   "metadata": {},
   "outputs": [],
   "source": [
    "llm_rows = []\n",
    "\n",
    "for label, metrics in report_dict.items():\n",
    "    if label in ['accuracy', 'macro avg', 'weighted avg']:\n",
    "        continue\n",
    "\n",
    "    row = {\n",
    "        'model': 'LLM',\n",
    "        'category': label,\n",
    "        'precision': metrics['precision'],\n",
    "        'recall': metrics['recall'],\n",
    "        'f1-score': metrics['f1-score']\n",
    "    }\n",
    "    llm_rows.append(row)\n",
    "\n",
    "df_llm = pd.DataFrame(llm_rows)\n",
    "df_llm.set_index(['model', 'category'], inplace=True)\n",
    "df_llm = df_llm.round(3)\n",
    "\n",
    "comparison_df = pd.concat([comparison_df, df_llm]).sort_index()\n",
    "comparison_df = comparison_df.drop(columns='support')"
   ]
  },
  {
   "cell_type": "markdown",
   "id": "05534961-14b1-4023-a1c9-41a83c0b6752",
   "metadata": {},
   "source": [
    "## Wydajność modeli (zdefiniowana jako F1-score) w podziale na kategorie"
   ]
  },
  {
   "cell_type": "code",
   "execution_count": 60,
   "id": "ad5c0657-b1e5-4b74-9fea-5ebbedb9be39",
   "metadata": {},
   "outputs": [
    {
     "data": {
      "image/png": "[encoded data removed]",
      "text/plain": [
       "<Figure size 800x600 with 2 Axes>"
      ]
     },
     "metadata": {},
     "output_type": "display_data"
    }
   ],
   "source": [
    "heatmap_data = comparison_df['f1-score'].unstack(level='category')\n",
    "\n",
    "plt.figure(figsize=(8, 6))\n",
    "sns.heatmap(\n",
    "    heatmap_data,\n",
    "    annot=True,\n",
    "    fmt=\".2f\",\n",
    "    cmap=\"YlGnBu\",\n",
    "    linewidths=0.5,\n",
    "    cbar_kws={'label': 'F1-score'}\n",
    ")\n",
    "\n",
    "plt.title(\"Model Performance by Category (F1-score)\")\n",
    "plt.ylabel(\"Model\")\n",
    "plt.xlabel(\"Category\")\n",
    "plt.tight_layout()\n",
    "plt.show()"
   ]
  },
  {
   "cell_type": "markdown",
   "id": "e5f37df4-7df0-4d4f-bd1b-564a6742ed83",
   "metadata": {},
   "source": [
    "## Porównanie metryk"
   ]
  },
  {
   "cell_type": "code",
   "execution_count": 61,
   "id": "fb44d8d1-5d59-448f-ab54-7392aa9e71e6",
   "metadata": {},
   "outputs": [
    {
     "data": {
      "text/html": [
       "<div>\n",
       "<style scoped>\n",
       "    .dataframe tbody tr th:only-of-type {\n",
       "        vertical-align: middle;\n",
       "    }\n",
       "\n",
       "    .dataframe tbody tr th {\n",
       "        vertical-align: top;\n",
       "    }\n",
       "\n",
       "    .dataframe thead th {\n",
       "        text-align: right;\n",
       "    }\n",
       "</style>\n",
       "<table border=\"1\" class=\"dataframe\">\n",
       "  <thead>\n",
       "    <tr style=\"text-align: right;\">\n",
       "      <th></th>\n",
       "      <th></th>\n",
       "      <th>precision</th>\n",
       "      <th>recall</th>\n",
       "      <th>f1-score</th>\n",
       "    </tr>\n",
       "    <tr>\n",
       "      <th>model</th>\n",
       "      <th>category</th>\n",
       "      <th></th>\n",
       "      <th></th>\n",
       "      <th></th>\n",
       "    </tr>\n",
       "  </thead>\n",
       "  <tbody>\n",
       "    <tr>\n",
       "      <th rowspan=\"3\" valign=\"top\">LLM</th>\n",
       "      <th>kultura</th>\n",
       "      <td>0.655</td>\n",
       "      <td>0.760</td>\n",
       "      <td>0.704</td>\n",
       "    </tr>\n",
       "    <tr>\n",
       "      <th>polska</th>\n",
       "      <td>0.636</td>\n",
       "      <td>0.680</td>\n",
       "      <td>0.657</td>\n",
       "    </tr>\n",
       "    <tr>\n",
       "      <th>swiat</th>\n",
       "      <td>0.688</td>\n",
       "      <td>0.530</td>\n",
       "      <td>0.599</td>\n",
       "    </tr>\n",
       "    <tr>\n",
       "      <th rowspan=\"3\" valign=\"top\">Logistic Regression</th>\n",
       "      <th>kultura</th>\n",
       "      <td>0.839</td>\n",
       "      <td>0.780</td>\n",
       "      <td>0.808</td>\n",
       "    </tr>\n",
       "    <tr>\n",
       "      <th>polska</th>\n",
       "      <td>0.639</td>\n",
       "      <td>0.690</td>\n",
       "      <td>0.663</td>\n",
       "    </tr>\n",
       "    <tr>\n",
       "      <th>swiat</th>\n",
       "      <td>0.652</td>\n",
       "      <td>0.645</td>\n",
       "      <td>0.648</td>\n",
       "    </tr>\n",
       "    <tr>\n",
       "      <th rowspan=\"3\" valign=\"top\">MLP Classifier</th>\n",
       "      <th>kultura</th>\n",
       "      <td>0.785</td>\n",
       "      <td>0.805</td>\n",
       "      <td>0.795</td>\n",
       "    </tr>\n",
       "    <tr>\n",
       "      <th>polska</th>\n",
       "      <td>0.649</td>\n",
       "      <td>0.620</td>\n",
       "      <td>0.634</td>\n",
       "    </tr>\n",
       "    <tr>\n",
       "      <th>swiat</th>\n",
       "      <td>0.637</td>\n",
       "      <td>0.650</td>\n",
       "      <td>0.644</td>\n",
       "    </tr>\n",
       "    <tr>\n",
       "      <th rowspan=\"3\" valign=\"top\">Random Forest</th>\n",
       "      <th>kultura</th>\n",
       "      <td>0.812</td>\n",
       "      <td>0.780</td>\n",
       "      <td>0.796</td>\n",
       "    </tr>\n",
       "    <tr>\n",
       "      <th>polska</th>\n",
       "      <td>0.598</td>\n",
       "      <td>0.655</td>\n",
       "      <td>0.625</td>\n",
       "    </tr>\n",
       "    <tr>\n",
       "      <th>swiat</th>\n",
       "      <td>0.593</td>\n",
       "      <td>0.560</td>\n",
       "      <td>0.576</td>\n",
       "    </tr>\n",
       "  </tbody>\n",
       "</table>\n",
       "</div>"
      ],
      "text/plain": [
       "                              precision  recall  f1-score\n",
       "model               category                             \n",
       "LLM                 kultura       0.655   0.760     0.704\n",
       "                    polska        0.636   0.680     0.657\n",
       "                    swiat         0.688   0.530     0.599\n",
       "Logistic Regression kultura       0.839   0.780     0.808\n",
       "                    polska        0.639   0.690     0.663\n",
       "                    swiat         0.652   0.645     0.648\n",
       "MLP Classifier      kultura       0.785   0.805     0.795\n",
       "                    polska        0.649   0.620     0.634\n",
       "                    swiat         0.637   0.650     0.644\n",
       "Random Forest       kultura       0.812   0.780     0.796\n",
       "                    polska        0.598   0.655     0.625\n",
       "                    swiat         0.593   0.560     0.576"
      ]
     },
     "execution_count": 61,
     "metadata": {},
     "output_type": "execute_result"
    }
   ],
   "source": [
    "comparison_df"
   ]
  },
  {
   "cell_type": "markdown",
   "id": "9b086a96-36a6-4360-8d6b-0bd9a86c4a44",
   "metadata": {},
   "source": [
    "## Podsumowanie"
   ]
  },
  {
   "cell_type": "markdown",
   "id": "453da556-76f3-4b6e-8099-48f721802ba5",
   "metadata": {},
   "source": [
    "1. **Kategorie**\n",
    "\n",
    "> Najłatwiejszą do odgadnięcia kategorią dla każdego modelu okazała się Kultura.\n",
    "> \n",
    "> Wynikać to może z tego, że Kultura ma bardzo charakterystyczny słownik i frazy\n",
    "> \n",
    "> (np. nazwiska artystów, tytuły filmów, wydarzenia kulturalne, słowa kluczowe jak „wystawa”, „premiera”, „teatr”),\n",
    "> \n",
    "> które są łatwe do wychwycenia przez model.\n",
    "\n",
    "> Każdy z użytych modeli gorzej poradził sobie z odróżnieniem kategorii Polska i Świat.\n",
    ">\n",
    "> Wynikać to może z tego, że obie te kategorie mogą obejmować bardzo różnorodne tematy:\n",
    ">\n",
    "> polityka, gospodarka, społeczeństwo, sport itp.\n",
    ">\n",
    "> Granice między wiadomościami o Polsce i o Świecie mogą być rozmyte \n",
    ">\n",
    "> np. wydarzenia polityczne lub gospodarcze mające zasięg międzynarodowy lub dotyczące Polski w kontekście światowym.\n",
    "   \n",
    "2. **Modele**\n",
    "\n",
    "> Regresja Logistyczna osiągnęła najlepsze i najstabilniejsze wyniki, co sugeruje, że prosty model liniowy dobrze pasuje do danych i cech.\n",
    ">\n",
    "> MLP i Lasy Losowe uzyskały zbliżone wyniki do Regresji Logistycznej, ale mogą potrzebować dalszej optymalizacji.\n",
    ">\n",
    "> LLM (o dziwo!) uzyskał najsłabsze wyniki.\n",
    ">\n",
    "> Model LLaMA 3 jest głównie trenowany na dużych zbiorach tekstów w języku angielskim (ale również innych językach).\n",
    ">\n",
    "> Słabe wyniki tego modelu mogą sugerować potrzebę dodatkowego fine-tuningu na polskich tekstach."
   ]
  }
 ],
 "metadata": {
  "kernelspec": {
   "display_name": "Python 3 (ipykernel)",
   "language": "python",
   "name": "python3"
  },
  "language_info": {
   "codemirror_mode": {
    "name": "ipython",
    "version": 3
   },
   "file_extension": ".py",
   "mimetype": "text/x-python",
   "name": "python",
   "nbconvert_exporter": "python",
   "pygments_lexer": "ipython3",
   "version": "3.10.16"
  }
 },
 "nbformat": 4,
 "nbformat_minor": 5
}
