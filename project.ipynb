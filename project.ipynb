{
 "cells": [
  {
   "cell_type": "markdown",
   "id": "41b707e2-fc6a-4ce2-9381-d6633490f6fd",
   "metadata": {},
   "source": [
    "# Import wymaganych bibliotek"
   ]
  },
  {
   "cell_type": "code",
   "execution_count": 1,
   "id": "52be82b3-9b14-4875-aec1-43eea0a64c26",
   "metadata": {},
   "outputs": [
    {
     "name": "stderr",
     "output_type": "stream",
     "text": [
      "C:\\Users\\trawi\\anaconda3\\envs\\project_final\\Lib\\site-packages\\requests\\__init__.py:86: RequestsDependencyWarning: Unable to find acceptable character detection dependency (chardet or charset_normalizer).\n",
      "  warnings.warn(\n"
     ]
    }
   ],
   "source": [
    "import pandas as pd\n",
    "import numpy as np\n",
    "import ollama\n",
    "import optuna\n",
    "import dspy\n",
    "from dspy.evaluate import Evaluate\n",
    "from typing import Literal\n",
    "from sklearn.preprocessing import LabelEncoder\n",
    "from sklearn.model_selection import cross_val_score\n",
    "from sklearn.model_selection import train_test_split\n",
    "from sklearn.linear_model import LogisticRegression\n",
    "from sklearn.metrics import accuracy_score\n",
    "from sklearn.ensemble import RandomForestClassifier\n",
    "from sklearn.metrics import classification_report\n",
    "from sklearn.neural_network import MLPClassifier\n",
    "from sklearn.metrics import confusion_matrix, ConfusionMatrixDisplay\n",
    "import matplotlib.pyplot as plt\n",
    "import seaborn as sns"
   ]
  },
  {
   "cell_type": "markdown",
   "id": "b749d9b0-8b1b-4c81-a69e-0d38c0169a84",
   "metadata": {},
   "source": [
    "# Import danych"
   ]
  },
  {
   "cell_type": "code",
   "execution_count": 2,
   "id": "8464e980-f306-4953-8a02-0efd43bc7fc7",
   "metadata": {
    "scrolled": true
   },
   "outputs": [
    {
     "name": "stdout",
     "output_type": "stream",
     "text": [
      "<class 'pandas.core.frame.DataFrame'>\n",
      "Index: 6000 entries, 0 to 5999\n",
      "Data columns (total 2 columns):\n",
      " #   Column    Non-Null Count  Dtype \n",
      "---  ------    --------------  ----- \n",
      " 0   sentence  6000 non-null   object\n",
      " 1   category  6000 non-null   object\n",
      "dtypes: object(2)\n",
      "memory usage: 140.6+ KB\n"
     ]
    }
   ],
   "source": [
    "df = pd.read_excel('data_new.xlsx', index_col=0)\n",
    "df = df[['sentence','category']].copy()\n",
    "df.info()"
   ]
  },
  {
   "cell_type": "markdown",
   "id": "4357ca7d-9dfe-4436-8189-f764fa60364c",
   "metadata": {},
   "source": [
    "## Przygotowanie danych"
   ]
  },
  {
   "cell_type": "markdown",
   "id": "b3d24e61-291c-4cd8-ab4c-7fd0a4f9dcd3",
   "metadata": {},
   "source": [
    "### Wylosowanie po 1000 rekordów z każdej kategorii (dla wygody)"
   ]
  },
  {
   "cell_type": "code",
   "execution_count": 67,
   "id": "40465471-4796-4742-ba72-dc73ae7c708d",
   "metadata": {},
   "outputs": [],
   "source": [
    "sampled_df = df.groupby('category').sample(n=1000, random_state=42)"
   ]
  },
  {
   "cell_type": "markdown",
   "id": "261fcb61-7703-46eb-9bc0-0fa1a71ccb22",
   "metadata": {},
   "source": [
    "#### Stworzenie embbedingów przy użyciu LLM"
   ]
  },
  {
   "cell_type": "markdown",
   "id": "dc85546a-7219-4721-8065-b5a4b85896bf",
   "metadata": {},
   "source": [
    "##### Należy zaciągnąć model w terminalu przy użyciu `ollama pull nomic-embed-text`"
   ]
  },
  {
   "cell_type": "code",
   "execution_count": 4,
   "id": "74a85370-3fe1-4831-a2c0-27f71e90869a",
   "metadata": {},
   "outputs": [],
   "source": [
    "model = 'nomic-embed-text'"
   ]
  },
  {
   "cell_type": "markdown",
   "id": "bb3c8aca-dade-4778-8e6c-02286e67328a",
   "metadata": {},
   "source": [
    "##### Zdefiniowanie funkcji embbedującej oraz zastosowanie dla danych"
   ]
  },
  {
   "cell_type": "code",
   "execution_count": 5,
   "id": "ab30d95e-7b2d-43c7-b46c-d34e17888069",
   "metadata": {
    "scrolled": true
   },
   "outputs": [
    {
     "data": {
      "text/html": [
       "<div>\n",
       "<style scoped>\n",
       "    .dataframe tbody tr th:only-of-type {\n",
       "        vertical-align: middle;\n",
       "    }\n",
       "\n",
       "    .dataframe tbody tr th {\n",
       "        vertical-align: top;\n",
       "    }\n",
       "\n",
       "    .dataframe thead th {\n",
       "        text-align: right;\n",
       "    }\n",
       "</style>\n",
       "<table border=\"1\" class=\"dataframe\">\n",
       "  <thead>\n",
       "    <tr style=\"text-align: right;\">\n",
       "      <th></th>\n",
       "      <th>sentence</th>\n",
       "      <th>category</th>\n",
       "      <th>embedding</th>\n",
       "    </tr>\n",
       "  </thead>\n",
       "  <tbody>\n",
       "    <tr>\n",
       "      <th>1860</th>\n",
       "      <td>Szumowska i Englert o filmie \"All Inclusive\". ...</td>\n",
       "      <td>kultura</td>\n",
       "      <td>[0.26709282398223877, 0.21229374408721924, -2....</td>\n",
       "    </tr>\n",
       "    <tr>\n",
       "      <th>353</th>\n",
       "      <td>Raper Diddy już drugi raz w ciągu tygodnia zos...</td>\n",
       "      <td>kultura</td>\n",
       "      <td>[0.4855307340621948, -0.5319522619247437, -2.7...</td>\n",
       "    </tr>\n",
       "    <tr>\n",
       "      <th>1333</th>\n",
       "      <td>W Kulcie przez niemal cztery dekady, stał za \"...</td>\n",
       "      <td>kultura</td>\n",
       "      <td>[-0.1430807262659073, 0.11266040802001953, -2....</td>\n",
       "    </tr>\n",
       "    <tr>\n",
       "      <th>905</th>\n",
       "      <td>Intelektualna gra Szczepana Twardocha. Recenzj...</td>\n",
       "      <td>kultura</td>\n",
       "      <td>[-0.11897006630897522, -0.03549329563975334, -...</td>\n",
       "    </tr>\n",
       "    <tr>\n",
       "      <th>1289</th>\n",
       "      <td>\"Życie pisze niesamowite scenariusze\". Ostatni...</td>\n",
       "      <td>kultura</td>\n",
       "      <td>[0.05582632124423981, 0.6725738048553467, -2.8...</td>\n",
       "    </tr>\n",
       "    <tr>\n",
       "      <th>...</th>\n",
       "      <td>...</td>\n",
       "      <td>...</td>\n",
       "      <td>...</td>\n",
       "    </tr>\n",
       "    <tr>\n",
       "      <th>5814</th>\n",
       "      <td>\"Zagadkowe wynurzenia\" Trumpa</td>\n",
       "      <td>swiat</td>\n",
       "      <td>[-0.11321592330932617, 0.08005428314208984, -3...</td>\n",
       "    </tr>\n",
       "    <tr>\n",
       "      <th>4074</th>\n",
       "      <td>\"Piekło\". Mieszkańcy zadają pytania o to, co s...</td>\n",
       "      <td>swiat</td>\n",
       "      <td>[0.10850955545902252, 0.4187011122703552, -2.3...</td>\n",
       "    </tr>\n",
       "    <tr>\n",
       "      <th>5298</th>\n",
       "      <td>Zasypało drogi i miasta. \"Staram się nie myśle...</td>\n",
       "      <td>swiat</td>\n",
       "      <td>[-0.0164395272731781, -0.1607702523469925, -2....</td>\n",
       "    </tr>\n",
       "    <tr>\n",
       "      <th>5573</th>\n",
       "      <td>Było tak zimno, że aligatory zamarzły</td>\n",
       "      <td>swiat</td>\n",
       "      <td>[0.936455488204956, 0.11185779422521591, -2.67...</td>\n",
       "    </tr>\n",
       "    <tr>\n",
       "      <th>4721</th>\n",
       "      <td>Ostrzeżenie przed powtórką z historii. \"Wiemy,...</td>\n",
       "      <td>swiat</td>\n",
       "      <td>[0.8391313552856445, 0.24961312115192413, -2.8...</td>\n",
       "    </tr>\n",
       "  </tbody>\n",
       "</table>\n",
       "<p>3000 rows × 3 columns</p>\n",
       "</div>"
      ],
      "text/plain": [
       "                                               sentence category  \\\n",
       "1860  Szumowska i Englert o filmie \"All Inclusive\". ...  kultura   \n",
       "353   Raper Diddy już drugi raz w ciągu tygodnia zos...  kultura   \n",
       "1333  W Kulcie przez niemal cztery dekady, stał za \"...  kultura   \n",
       "905   Intelektualna gra Szczepana Twardocha. Recenzj...  kultura   \n",
       "1289  \"Życie pisze niesamowite scenariusze\". Ostatni...  kultura   \n",
       "...                                                 ...      ...   \n",
       "5814                     \"Zagadkowe wynurzenia\" Trumpa     swiat   \n",
       "4074  \"Piekło\". Mieszkańcy zadają pytania o to, co s...    swiat   \n",
       "5298  Zasypało drogi i miasta. \"Staram się nie myśle...    swiat   \n",
       "5573              Było tak zimno, że aligatory zamarzły    swiat   \n",
       "4721  Ostrzeżenie przed powtórką z historii. \"Wiemy,...    swiat   \n",
       "\n",
       "                                              embedding  \n",
       "1860  [0.26709282398223877, 0.21229374408721924, -2....  \n",
       "353   [0.4855307340621948, -0.5319522619247437, -2.7...  \n",
       "1333  [-0.1430807262659073, 0.11266040802001953, -2....  \n",
       "905   [-0.11897006630897522, -0.03549329563975334, -...  \n",
       "1289  [0.05582632124423981, 0.6725738048553467, -2.8...  \n",
       "...                                                 ...  \n",
       "5814  [-0.11321592330932617, 0.08005428314208984, -3...  \n",
       "4074  [0.10850955545902252, 0.4187011122703552, -2.3...  \n",
       "5298  [-0.0164395272731781, -0.1607702523469925, -2....  \n",
       "5573  [0.936455488204956, 0.11185779422521591, -2.67...  \n",
       "4721  [0.8391313552856445, 0.24961312115192413, -2.8...  \n",
       "\n",
       "[3000 rows x 3 columns]"
      ]
     },
     "execution_count": 5,
     "metadata": {},
     "output_type": "execute_result"
    }
   ],
   "source": [
    "def get_embedding(text):\n",
    "    response = ollama.embeddings(model=model, prompt=text)\n",
    "    return response['embedding']\n",
    "\n",
    "sampled_df['embedding'] = sampled_df['sentence'].apply(get_embedding)\n",
    "sampled_df"
   ]
  },
  {
   "cell_type": "markdown",
   "id": "2a03f4c2-4598-40df-8296-cb9e89ad6671",
   "metadata": {},
   "source": [
    "# Klasyfikacja"
   ]
  },
  {
   "cell_type": "markdown",
   "id": "4d3a435f-16de-435e-89eb-0f7391a32b17",
   "metadata": {},
   "source": [
    "## Przygotowanie danych"
   ]
  },
  {
   "cell_type": "markdown",
   "id": "0224cd27-b3d2-495f-bf14-41f3b3ced795",
   "metadata": {},
   "source": [
    "### Przekształcenie embbedingów"
   ]
  },
  {
   "cell_type": "code",
   "execution_count": 6,
   "id": "8624f2c2-2d3b-4855-8895-4f65caafb80b",
   "metadata": {},
   "outputs": [
    {
     "data": {
      "text/plain": [
       "array([[ 0.26709282,  0.21229374, -2.62156034, ...,  0.08012734,\n",
       "        -0.3705301 , -0.46263438],\n",
       "       [ 0.48553073, -0.53195226, -2.71999359, ...,  0.1652551 ,\n",
       "        -1.00759447, -0.85251147],\n",
       "       [-0.14308073,  0.11266041, -2.31487846, ...,  0.13871056,\n",
       "        -1.48465312, -0.52711952],\n",
       "       ...,\n",
       "       [-0.01643953, -0.16077025, -2.95373845, ..., -0.09821705,\n",
       "        -0.88042194, -1.03452814],\n",
       "       [ 0.93645549,  0.11185779, -2.67316747, ...,  0.02049092,\n",
       "        -0.98788428, -1.14617121],\n",
       "       [ 0.83913136,  0.24961312, -2.87006211, ..., -0.48998863,\n",
       "        -0.30831313, -0.4769817 ]], shape=(3000, 768))"
      ]
     },
     "execution_count": 6,
     "metadata": {},
     "output_type": "execute_result"
    }
   ],
   "source": [
    "X = np.array(sampled_df['embedding'].tolist())\n",
    "X"
   ]
  },
  {
   "cell_type": "markdown",
   "id": "c6835c47-f81f-4ae3-bbda-10332d35069e",
   "metadata": {},
   "source": [
    "### Labelowanie kategorii"
   ]
  },
  {
   "cell_type": "code",
   "execution_count": 7,
   "id": "65f133bd-a426-42af-a8b6-cd4f2bdaff4d",
   "metadata": {},
   "outputs": [
    {
     "data": {
      "text/plain": [
       "array([0, 0, 0, ..., 2, 2, 2], shape=(3000,))"
      ]
     },
     "execution_count": 7,
     "metadata": {},
     "output_type": "execute_result"
    }
   ],
   "source": [
    "label_encoder = LabelEncoder()\n",
    "y = label_encoder.fit_transform(sampled_df['category'])\n",
    "y"
   ]
  },
  {
   "cell_type": "markdown",
   "id": "157d252f-67df-43a6-b46a-efa84352a5fa",
   "metadata": {},
   "source": [
    "### Podział danych na treningowe i testowe"
   ]
  },
  {
   "cell_type": "code",
   "execution_count": 8,
   "id": "f7a417c3-f2cc-4fe5-89c9-123c304ce31e",
   "metadata": {},
   "outputs": [],
   "source": [
    "X_train, X_test, y_train, y_test = train_test_split(\n",
    "    X, y, test_size=0.2, random_state=42, stratify=y\n",
    ")"
   ]
  },
  {
   "cell_type": "markdown",
   "id": "ee3a1238-8114-416b-be5a-800e3b20b821",
   "metadata": {},
   "source": [
    "## Regresja logistyczna"
   ]
  },
  {
   "cell_type": "markdown",
   "id": "5b3829e4-7424-4228-a8de-64ac68650ef9",
   "metadata": {},
   "source": [
    "### Zdefiniowanie eksperymentu w optuna"
   ]
  },
  {
   "cell_type": "code",
   "execution_count": 9,
   "id": "668ae641-357c-4abf-a359-c7f528ac02da",
   "metadata": {
    "scrolled": true
   },
   "outputs": [],
   "source": [
    "def objective_lr(trial):\n",
    "    C = trial.suggest_float('C', 1e-4, 10.0, log=True)\n",
    "    solver = trial.suggest_categorical('solver', ['lbfgs', 'saga'])\n",
    "\n",
    "    model = LogisticRegression(\n",
    "        C=C,\n",
    "        solver=solver,\n",
    "        max_iter=1000,\n",
    "        random_state=42\n",
    "    )\n",
    "\n",
    "    score = cross_val_score(model, X_train, y_train, cv=5, scoring='accuracy')\n",
    "    return score.mean()\n"
   ]
  },
  {
   "cell_type": "markdown",
   "id": "11895859-e58e-4cb4-a2fb-5669e755d82c",
   "metadata": {},
   "source": [
    "### Optymalizacja hiperparametrów w optuna"
   ]
  },
  {
   "cell_type": "code",
   "execution_count": 10,
   "id": "9af3307d-e97e-4e18-88d3-762c55cf9770",
   "metadata": {
    "scrolled": true
   },
   "outputs": [
    {
     "name": "stderr",
     "output_type": "stream",
     "text": [
      "[I 2025-06-21 10:57:37,989] A new study created in memory with name: no-name-b20bb6ee-ff41-4c17-bae8-0d9486368779\n",
      "C:\\Users\\trawi\\anaconda3\\envs\\project_final\\Lib\\site-packages\\sklearn\\linear_model\\_sag.py:348: ConvergenceWarning: The max_iter was reached which means the coef_ did not converge\n",
      "  warnings.warn(\n",
      "C:\\Users\\trawi\\anaconda3\\envs\\project_final\\Lib\\site-packages\\sklearn\\linear_model\\_sag.py:348: ConvergenceWarning: The max_iter was reached which means the coef_ did not converge\n",
      "  warnings.warn(\n",
      "C:\\Users\\trawi\\anaconda3\\envs\\project_final\\Lib\\site-packages\\sklearn\\linear_model\\_sag.py:348: ConvergenceWarning: The max_iter was reached which means the coef_ did not converge\n",
      "  warnings.warn(\n",
      "C:\\Users\\trawi\\anaconda3\\envs\\project_final\\Lib\\site-packages\\sklearn\\linear_model\\_sag.py:348: ConvergenceWarning: The max_iter was reached which means the coef_ did not converge\n",
      "  warnings.warn(\n",
      "C:\\Users\\trawi\\anaconda3\\envs\\project_final\\Lib\\site-packages\\sklearn\\linear_model\\_sag.py:348: ConvergenceWarning: The max_iter was reached which means the coef_ did not converge\n",
      "  warnings.warn(\n",
      "[I 2025-06-21 10:59:02,212] Trial 0 finished with value: 0.6233333333333333 and parameters: {'C': 5.629623927816624, 'solver': 'saga'}. Best is trial 0 with value: 0.6233333333333333.\n",
      "[I 2025-06-21 10:59:03,428] Trial 1 finished with value: 0.6520833333333333 and parameters: {'C': 0.04321225029000194, 'solver': 'lbfgs'}. Best is trial 1 with value: 0.6520833333333333.\n",
      "[I 2025-06-21 11:00:19,597] Trial 2 finished with value: 0.6270833333333334 and parameters: {'C': 2.2351997832530506, 'solver': 'saga'}. Best is trial 1 with value: 0.6520833333333333.\n",
      "[I 2025-06-21 11:00:19,966] Trial 3 finished with value: 0.66375 and parameters: {'C': 0.0016427101302936174, 'solver': 'lbfgs'}. Best is trial 3 with value: 0.66375.\n",
      "[I 2025-06-21 11:00:21,462] Trial 4 finished with value: 0.6491666666666667 and parameters: {'C': 0.07326363015435908, 'solver': 'lbfgs'}. Best is trial 3 with value: 0.66375.\n",
      "[I 2025-06-21 11:00:23,398] Trial 5 finished with value: 0.6470833333333333 and parameters: {'C': 0.12955553733138594, 'solver': 'lbfgs'}. Best is trial 3 with value: 0.66375.\n",
      "[I 2025-06-21 11:01:12,467] Trial 6 finished with value: 0.6637500000000001 and parameters: {'C': 0.007960735369837092, 'solver': 'saga'}. Best is trial 6 with value: 0.6637500000000001.\n",
      "[I 2025-06-21 11:01:14,222] Trial 7 finished with value: 0.6479166666666667 and parameters: {'C': 0.1294213006959156, 'solver': 'lbfgs'}. Best is trial 6 with value: 0.6637500000000001.\n",
      "[I 2025-06-21 11:01:14,563] Trial 8 finished with value: 0.6645833333333333 and parameters: {'C': 0.00128091905614446, 'solver': 'lbfgs'}. Best is trial 8 with value: 0.6645833333333333.\n",
      "[I 2025-06-21 11:02:23,195] Trial 9 finished with value: 0.6270833333333334 and parameters: {'C': 1.8648210500927858, 'solver': 'saga'}. Best is trial 8 with value: 0.6645833333333333.\n",
      "[I 2025-06-21 11:02:23,349] Trial 10 finished with value: 0.6425000000000001 and parameters: {'C': 0.00011179278316896165, 'solver': 'lbfgs'}. Best is trial 8 with value: 0.6645833333333333.\n",
      "[I 2025-06-21 11:02:55,520] Trial 11 finished with value: 0.6637500000000001 and parameters: {'C': 0.002699620920525699, 'solver': 'saga'}. Best is trial 8 with value: 0.6645833333333333.\n",
      "[I 2025-06-21 11:03:31,618] Trial 12 finished with value: 0.6633333333333333 and parameters: {'C': 0.003456323374157834, 'solver': 'saga'}. Best is trial 8 with value: 0.6645833333333333.\n",
      "[I 2025-06-21 11:03:38,779] Trial 13 finished with value: 0.6429166666666667 and parameters: {'C': 0.00024600876804107397, 'solver': 'saga'}. Best is trial 8 with value: 0.6645833333333333.\n",
      "[I 2025-06-21 11:03:39,465] Trial 14 finished with value: 0.66125 and parameters: {'C': 0.010260050252106455, 'solver': 'lbfgs'}. Best is trial 8 with value: 0.6645833333333333.\n",
      "[I 2025-06-21 11:03:52,304] Trial 15 finished with value: 0.6516666666666666 and parameters: {'C': 0.0005763848497673504, 'solver': 'saga'}. Best is trial 8 with value: 0.6645833333333333.\n",
      "[I 2025-06-21 11:04:42,347] Trial 16 finished with value: 0.6558333333333334 and parameters: {'C': 0.015151214759577581, 'solver': 'saga'}. Best is trial 8 with value: 0.6645833333333333.\n",
      "[I 2025-06-21 11:04:42,604] Trial 17 finished with value: 0.6525000000000001 and parameters: {'C': 0.000693106608545021, 'solver': 'lbfgs'}. Best is trial 8 with value: 0.6645833333333333.\n",
      "[I 2025-06-21 11:05:12,398] Trial 18 finished with value: 0.6379166666666667 and parameters: {'C': 0.5094925437725119, 'solver': 'saga'}. Best is trial 8 with value: 0.6645833333333333.\n",
      "[I 2025-06-21 11:05:13,036] Trial 19 finished with value: 0.6616666666666666 and parameters: {'C': 0.008313681927512915, 'solver': 'lbfgs'}. Best is trial 8 with value: 0.6645833333333333.\n",
      "[I 2025-06-21 11:05:32,181] Trial 20 finished with value: 0.6583333333333334 and parameters: {'C': 0.001060461823744029, 'solver': 'saga'}. Best is trial 8 with value: 0.6645833333333333.\n",
      "[I 2025-06-21 11:06:08,591] Trial 21 finished with value: 0.6637500000000001 and parameters: {'C': 0.003523401989268681, 'solver': 'saga'}. Best is trial 8 with value: 0.6645833333333333.\n",
      "[I 2025-06-21 11:06:44,736] Trial 22 finished with value: 0.6633333333333333 and parameters: {'C': 0.003452523363502937, 'solver': 'saga'}. Best is trial 8 with value: 0.6645833333333333.\n",
      "[I 2025-06-21 11:07:33,311] Trial 23 finished with value: 0.6558333333333334 and parameters: {'C': 0.018344319950165004, 'solver': 'saga'}. Best is trial 8 with value: 0.6645833333333333.\n",
      "[I 2025-06-21 11:07:42,001] Trial 24 finished with value: 0.6445833333333333 and parameters: {'C': 0.00032127607047148255, 'solver': 'saga'}. Best is trial 8 with value: 0.6645833333333333.\n",
      "[I 2025-06-21 11:08:10,795] Trial 25 finished with value: 0.665 and parameters: {'C': 0.0021382830967092183, 'solver': 'saga'}. Best is trial 25 with value: 0.665.\n",
      "[I 2025-06-21 11:08:10,947] Trial 26 finished with value: 0.6416666666666666 and parameters: {'C': 0.00010294405975592307, 'solver': 'lbfgs'}. Best is trial 25 with value: 0.665.\n",
      "[I 2025-06-21 11:09:01,114] Trial 27 finished with value: 0.6604166666666667 and parameters: {'C': 0.00889447567217257, 'solver': 'saga'}. Best is trial 25 with value: 0.665.\n",
      "[I 2025-06-21 11:09:02,281] Trial 28 finished with value: 0.6541666666666667 and parameters: {'C': 0.03684254388097472, 'solver': 'lbfgs'}. Best is trial 25 with value: 0.665.\n",
      "[I 2025-06-21 11:09:23,321] Trial 29 finished with value: 0.6637500000000001 and parameters: {'C': 0.001255726470427725, 'solver': 'saga'}. Best is trial 25 with value: 0.665.\n"
     ]
    }
   ],
   "source": [
    "study_lr = optuna.create_study(direction='maximize')\n",
    "study_lr.optimize(objective_lr, n_trials=30)\n",
    "\n",
    "best_params_lr = study_lr.best_trial.params"
   ]
  },
  {
   "cell_type": "markdown",
   "id": "ab863602-aa3c-47e2-b023-e17ba883b53f",
   "metadata": {},
   "source": [
    "### Dopasowanie finalnego modelu"
   ]
  },
  {
   "cell_type": "code",
   "execution_count": 12,
   "id": "da1c554b-ef91-47d4-a385-101bd6b5b84c",
   "metadata": {},
   "outputs": [
    {
     "name": "stdout",
     "output_type": "stream",
     "text": [
      "Test accuracy: 0.705\n"
     ]
    }
   ],
   "source": [
    "final_model_lr = LogisticRegression(**best_params_lr, max_iter=1000, random_state=42)\n",
    "final_model_lr.fit(X_train, y_train)\n",
    "\n",
    "y_pred = final_model_lr.predict(X_test)\n",
    "test_acc_lr = accuracy_score(y_test, y_pred)\n",
    "print(\"Test accuracy:\", test_acc_lr)"
   ]
  },
  {
   "cell_type": "markdown",
   "id": "3d0bcd54-643e-4c9f-b9a5-425e47fe1a20",
   "metadata": {},
   "source": [
    "### Macierz pomyłek dla Regresji Logistycznej"
   ]
  },
  {
   "cell_type": "code",
   "execution_count": 77,
   "id": "53f46a79-044e-4678-96e3-22375b44fbdf",
   "metadata": {
    "scrolled": true
   },
   "outputs": [
    {
     "ename": "ValueError",
     "evalue": "Found input variables with inconsistent numbers of samples: [600, 300]",
     "output_type": "error",
     "traceback": [
      "\u001b[31m---------------------------------------------------------------------------\u001b[39m",
      "\u001b[31mValueError\u001b[39m                                Traceback (most recent call last)",
      "\u001b[36mCell\u001b[39m\u001b[36m \u001b[39m\u001b[32mIn[77]\u001b[39m\u001b[32m, line 1\u001b[39m\n\u001b[32m----> \u001b[39m\u001b[32m1\u001b[39m cm = confusion_matrix(y_test, y_pred)\n\u001b[32m      3\u001b[39m disp = ConfusionMatrixDisplay(confusion_matrix=cm, display_labels=label_encoder.classes_)\n\u001b[32m      4\u001b[39m disp.plot(cmap=\u001b[33m'\u001b[39m\u001b[33mBlues\u001b[39m\u001b[33m'\u001b[39m, xticks_rotation=\u001b[32m45\u001b[39m, colorbar=\u001b[38;5;28;01mFalse\u001b[39;00m)\n",
      "\u001b[36mFile \u001b[39m\u001b[32m~\\anaconda3\\envs\\project_final\\Lib\\site-packages\\sklearn\\utils\\_param_validation.py:218\u001b[39m, in \u001b[36mvalidate_params.<locals>.decorator.<locals>.wrapper\u001b[39m\u001b[34m(*args, **kwargs)\u001b[39m\n\u001b[32m    212\u001b[39m \u001b[38;5;28;01mtry\u001b[39;00m:\n\u001b[32m    213\u001b[39m     \u001b[38;5;28;01mwith\u001b[39;00m config_context(\n\u001b[32m    214\u001b[39m         skip_parameter_validation=(\n\u001b[32m    215\u001b[39m             prefer_skip_nested_validation \u001b[38;5;129;01mor\u001b[39;00m global_skip_validation\n\u001b[32m    216\u001b[39m         )\n\u001b[32m    217\u001b[39m     ):\n\u001b[32m--> \u001b[39m\u001b[32m218\u001b[39m         \u001b[38;5;28;01mreturn\u001b[39;00m func(*args, **kwargs)\n\u001b[32m    219\u001b[39m \u001b[38;5;28;01mexcept\u001b[39;00m InvalidParameterError \u001b[38;5;28;01mas\u001b[39;00m e:\n\u001b[32m    220\u001b[39m     \u001b[38;5;66;03m# When the function is just a wrapper around an estimator, we allow\u001b[39;00m\n\u001b[32m    221\u001b[39m     \u001b[38;5;66;03m# the function to delegate validation to the estimator, but we replace\u001b[39;00m\n\u001b[32m    222\u001b[39m     \u001b[38;5;66;03m# the name of the estimator by the name of the function in the error\u001b[39;00m\n\u001b[32m    223\u001b[39m     \u001b[38;5;66;03m# message to avoid confusion.\u001b[39;00m\n\u001b[32m    224\u001b[39m     msg = re.sub(\n\u001b[32m    225\u001b[39m         \u001b[33mr\u001b[39m\u001b[33m\"\u001b[39m\u001b[33mparameter of \u001b[39m\u001b[33m\\\u001b[39m\u001b[33mw+ must be\u001b[39m\u001b[33m\"\u001b[39m,\n\u001b[32m    226\u001b[39m         \u001b[33mf\u001b[39m\u001b[33m\"\u001b[39m\u001b[33mparameter of \u001b[39m\u001b[38;5;132;01m{\u001b[39;00mfunc.\u001b[34m__qualname__\u001b[39m\u001b[38;5;132;01m}\u001b[39;00m\u001b[33m must be\u001b[39m\u001b[33m\"\u001b[39m,\n\u001b[32m    227\u001b[39m         \u001b[38;5;28mstr\u001b[39m(e),\n\u001b[32m    228\u001b[39m     )\n",
      "\u001b[36mFile \u001b[39m\u001b[32m~\\anaconda3\\envs\\project_final\\Lib\\site-packages\\sklearn\\metrics\\_classification.py:467\u001b[39m, in \u001b[36mconfusion_matrix\u001b[39m\u001b[34m(y_true, y_pred, labels, sample_weight, normalize)\u001b[39m\n\u001b[32m    384\u001b[39m \u001b[38;5;250m\u001b[39m\u001b[33;03m\"\"\"Compute confusion matrix to evaluate the accuracy of a classification.\u001b[39;00m\n\u001b[32m    385\u001b[39m \n\u001b[32m    386\u001b[39m \u001b[33;03mBy definition a confusion matrix :math:`C` is such that :math:`C_{i, j}`\u001b[39;00m\n\u001b[32m   (...)\u001b[39m\u001b[32m    464\u001b[39m \u001b[33;03m(0, 2, 1, 1)\u001b[39;00m\n\u001b[32m    465\u001b[39m \u001b[33;03m\"\"\"\u001b[39;00m\n\u001b[32m    466\u001b[39m y_true, y_pred = attach_unique(y_true, y_pred)\n\u001b[32m--> \u001b[39m\u001b[32m467\u001b[39m y_type, y_true, y_pred = _check_targets(y_true, y_pred)\n\u001b[32m    468\u001b[39m \u001b[38;5;28;01mif\u001b[39;00m y_type \u001b[38;5;129;01mnot\u001b[39;00m \u001b[38;5;129;01min\u001b[39;00m (\u001b[33m\"\u001b[39m\u001b[33mbinary\u001b[39m\u001b[33m\"\u001b[39m, \u001b[33m\"\u001b[39m\u001b[33mmulticlass\u001b[39m\u001b[33m\"\u001b[39m):\n\u001b[32m    469\u001b[39m     \u001b[38;5;28;01mraise\u001b[39;00m \u001b[38;5;167;01mValueError\u001b[39;00m(\u001b[33m\"\u001b[39m\u001b[38;5;132;01m%s\u001b[39;00m\u001b[33m is not supported\u001b[39m\u001b[33m\"\u001b[39m % y_type)\n",
      "\u001b[36mFile \u001b[39m\u001b[32m~\\anaconda3\\envs\\project_final\\Lib\\site-packages\\sklearn\\metrics\\_classification.py:97\u001b[39m, in \u001b[36m_check_targets\u001b[39m\u001b[34m(y_true, y_pred)\u001b[39m\n\u001b[32m     70\u001b[39m \u001b[38;5;250m\u001b[39m\u001b[33;03m\"\"\"Check that y_true and y_pred belong to the same classification task.\u001b[39;00m\n\u001b[32m     71\u001b[39m \n\u001b[32m     72\u001b[39m \u001b[33;03mThis converts multiclass or binary types to a common shape, and raises a\u001b[39;00m\n\u001b[32m   (...)\u001b[39m\u001b[32m     94\u001b[39m \u001b[33;03my_pred : array or indicator matrix\u001b[39;00m\n\u001b[32m     95\u001b[39m \u001b[33;03m\"\"\"\u001b[39;00m\n\u001b[32m     96\u001b[39m xp, _ = get_namespace(y_true, y_pred)\n\u001b[32m---> \u001b[39m\u001b[32m97\u001b[39m check_consistent_length(y_true, y_pred)\n\u001b[32m     98\u001b[39m type_true = type_of_target(y_true, input_name=\u001b[33m\"\u001b[39m\u001b[33my_true\u001b[39m\u001b[33m\"\u001b[39m)\n\u001b[32m     99\u001b[39m type_pred = type_of_target(y_pred, input_name=\u001b[33m\"\u001b[39m\u001b[33my_pred\u001b[39m\u001b[33m\"\u001b[39m)\n",
      "\u001b[36mFile \u001b[39m\u001b[32m~\\anaconda3\\envs\\project_final\\Lib\\site-packages\\sklearn\\utils\\validation.py:473\u001b[39m, in \u001b[36mcheck_consistent_length\u001b[39m\u001b[34m(*arrays)\u001b[39m\n\u001b[32m    471\u001b[39m lengths = [_num_samples(X) \u001b[38;5;28;01mfor\u001b[39;00m X \u001b[38;5;129;01min\u001b[39;00m arrays \u001b[38;5;28;01mif\u001b[39;00m X \u001b[38;5;129;01mis\u001b[39;00m \u001b[38;5;129;01mnot\u001b[39;00m \u001b[38;5;28;01mNone\u001b[39;00m]\n\u001b[32m    472\u001b[39m \u001b[38;5;28;01mif\u001b[39;00m \u001b[38;5;28mlen\u001b[39m(\u001b[38;5;28mset\u001b[39m(lengths)) > \u001b[32m1\u001b[39m:\n\u001b[32m--> \u001b[39m\u001b[32m473\u001b[39m     \u001b[38;5;28;01mraise\u001b[39;00m \u001b[38;5;167;01mValueError\u001b[39;00m(\n\u001b[32m    474\u001b[39m         \u001b[33m\"\u001b[39m\u001b[33mFound input variables with inconsistent numbers of samples: \u001b[39m\u001b[38;5;132;01m%r\u001b[39;00m\u001b[33m\"\u001b[39m\n\u001b[32m    475\u001b[39m         % [\u001b[38;5;28mint\u001b[39m(l) \u001b[38;5;28;01mfor\u001b[39;00m l \u001b[38;5;129;01min\u001b[39;00m lengths]\n\u001b[32m    476\u001b[39m     )\n",
      "\u001b[31mValueError\u001b[39m: Found input variables with inconsistent numbers of samples: [600, 300]"
     ]
    }
   ],
   "source": [
    "cm = confusion_matrix(y_test, y_pred)\n",
    "\n",
    "disp = ConfusionMatrixDisplay(confusion_matrix=cm, display_labels=label_encoder.classes_)\n",
    "disp.plot(cmap='Blues', xticks_rotation=45, colorbar=False)\n",
    "plt.title(f\"Logistic Regression \\nAccuracy: {test_acc_lr:.2f}\")\n",
    "plt.show()"
   ]
  },
  {
   "cell_type": "markdown",
   "id": "7e121f46-41a5-4d0d-85bf-248fb911bb4a",
   "metadata": {},
   "source": [
    "## Las Losowy"
   ]
  },
  {
   "cell_type": "markdown",
   "id": "f798db98-1abf-4b35-a111-4ed413b71986",
   "metadata": {},
   "source": [
    "### Zdefiniowanie eksperymentu w optuna"
   ]
  },
  {
   "cell_type": "code",
   "execution_count": 14,
   "id": "6d985d8c-a6c6-44ee-bc38-9e2e06f13ff0",
   "metadata": {},
   "outputs": [],
   "source": [
    "def objective(trial):\n",
    "    n_estimators = trial.suggest_int('n_estimators', 50, 300)\n",
    "    max_depth = trial.suggest_int('max_depth', 2, 30)\n",
    "    min_samples_split = trial.suggest_int('min_samples_split', 2, 10)\n",
    "    min_samples_leaf = trial.suggest_int('min_samples_leaf', 1, 10)\n",
    "    max_features = trial.suggest_categorical('max_features', ['sqrt', 'log2'])\n",
    "\n",
    "    model = RandomForestClassifier(\n",
    "        n_estimators=n_estimators,\n",
    "        max_depth=max_depth,\n",
    "        min_samples_split=min_samples_split,\n",
    "        min_samples_leaf=min_samples_leaf,\n",
    "        max_features=max_features,\n",
    "        random_state=42,\n",
    "        n_jobs=-1\n",
    "    )\n",
    "\n",
    "    score = cross_val_score(model, X_train, y_train, cv=5, scoring='accuracy')\n",
    "    return score.mean()"
   ]
  },
  {
   "cell_type": "markdown",
   "id": "0060211e-e1c9-41c3-b0e6-5e1e8d491913",
   "metadata": {},
   "source": [
    "### Optymalizacja hiperparametrów w optuna"
   ]
  },
  {
   "cell_type": "code",
   "execution_count": 15,
   "id": "32a5abed-a765-4e6b-9453-2a4f94e3f90d",
   "metadata": {
    "scrolled": true
   },
   "outputs": [
    {
     "name": "stderr",
     "output_type": "stream",
     "text": [
      "[I 2025-06-21 11:09:46,205] A new study created in memory with name: no-name-1e84fd12-2f48-4653-8401-27d194277ac7\n",
      "[I 2025-06-21 11:09:48,756] Trial 0 finished with value: 0.635 and parameters: {'n_estimators': 138, 'max_depth': 17, 'min_samples_split': 3, 'min_samples_leaf': 2, 'max_features': 'sqrt'}. Best is trial 0 with value: 0.635.\n",
      "[I 2025-06-21 11:09:49,720] Trial 1 finished with value: 0.6266666666666667 and parameters: {'n_estimators': 86, 'max_depth': 18, 'min_samples_split': 9, 'min_samples_leaf': 10, 'max_features': 'log2'}. Best is trial 0 with value: 0.635.\n",
      "[I 2025-06-21 11:09:51,133] Trial 2 finished with value: 0.6316666666666666 and parameters: {'n_estimators': 73, 'max_depth': 28, 'min_samples_split': 3, 'min_samples_leaf': 3, 'max_features': 'sqrt'}. Best is trial 0 with value: 0.635.\n",
      "[I 2025-06-21 11:09:52,789] Trial 3 finished with value: 0.6245833333333333 and parameters: {'n_estimators': 93, 'max_depth': 22, 'min_samples_split': 5, 'min_samples_leaf': 5, 'max_features': 'sqrt'}. Best is trial 0 with value: 0.635.\n",
      "[I 2025-06-21 11:09:53,849] Trial 4 finished with value: 0.605 and parameters: {'n_estimators': 116, 'max_depth': 3, 'min_samples_split': 6, 'min_samples_leaf': 3, 'max_features': 'log2'}. Best is trial 0 with value: 0.635.\n",
      "[I 2025-06-21 11:09:56,585] Trial 5 finished with value: 0.6408333333333334 and parameters: {'n_estimators': 279, 'max_depth': 10, 'min_samples_split': 2, 'min_samples_leaf': 3, 'max_features': 'log2'}. Best is trial 5 with value: 0.6408333333333334.\n",
      "[I 2025-06-21 11:09:59,636] Trial 6 finished with value: 0.6258333333333334 and parameters: {'n_estimators': 178, 'max_depth': 23, 'min_samples_split': 4, 'min_samples_leaf': 5, 'max_features': 'sqrt'}. Best is trial 5 with value: 0.6408333333333334.\n",
      "[I 2025-06-21 11:10:01,084] Trial 7 finished with value: 0.6220833333333333 and parameters: {'n_estimators': 94, 'max_depth': 7, 'min_samples_split': 8, 'min_samples_leaf': 8, 'max_features': 'sqrt'}. Best is trial 5 with value: 0.6408333333333334.\n",
      "[I 2025-06-21 11:10:01,782] Trial 8 finished with value: 0.5725 and parameters: {'n_estimators': 74, 'max_depth': 2, 'min_samples_split': 7, 'min_samples_leaf': 10, 'max_features': 'log2'}. Best is trial 5 with value: 0.6408333333333334.\n",
      "[I 2025-06-21 11:10:02,858] Trial 9 finished with value: 0.62375 and parameters: {'n_estimators': 56, 'max_depth': 12, 'min_samples_split': 6, 'min_samples_leaf': 6, 'max_features': 'sqrt'}. Best is trial 5 with value: 0.6408333333333334.\n",
      "[I 2025-06-21 11:10:05,898] Trial 10 finished with value: 0.6529166666666666 and parameters: {'n_estimators': 296, 'max_depth': 11, 'min_samples_split': 2, 'min_samples_leaf': 1, 'max_features': 'log2'}. Best is trial 10 with value: 0.6529166666666666.\n",
      "[I 2025-06-21 11:10:08,937] Trial 11 finished with value: 0.6529166666666666 and parameters: {'n_estimators': 296, 'max_depth': 11, 'min_samples_split': 2, 'min_samples_leaf': 1, 'max_features': 'log2'}. Best is trial 10 with value: 0.6529166666666666.\n",
      "[I 2025-06-21 11:10:12,045] Trial 12 finished with value: 0.6549999999999999 and parameters: {'n_estimators': 295, 'max_depth': 12, 'min_samples_split': 2, 'min_samples_leaf': 1, 'max_features': 'log2'}. Best is trial 12 with value: 0.6549999999999999.\n",
      "[I 2025-06-21 11:10:14,647] Trial 13 finished with value: 0.6508333333333333 and parameters: {'n_estimators': 246, 'max_depth': 14, 'min_samples_split': 4, 'min_samples_leaf': 1, 'max_features': 'log2'}. Best is trial 12 with value: 0.6549999999999999.\n",
      "[I 2025-06-21 11:10:16,803] Trial 14 finished with value: 0.6395833333333333 and parameters: {'n_estimators': 231, 'max_depth': 7, 'min_samples_split': 10, 'min_samples_leaf': 1, 'max_features': 'log2'}. Best is trial 12 with value: 0.6549999999999999.\n",
      "[I 2025-06-21 11:10:18,800] Trial 15 finished with value: 0.63625 and parameters: {'n_estimators': 215, 'max_depth': 7, 'min_samples_split': 2, 'min_samples_leaf': 4, 'max_features': 'log2'}. Best is trial 12 with value: 0.6549999999999999.\n",
      "[I 2025-06-21 11:10:21,463] Trial 16 finished with value: 0.64375 and parameters: {'n_estimators': 270, 'max_depth': 19, 'min_samples_split': 4, 'min_samples_leaf': 7, 'max_features': 'log2'}. Best is trial 12 with value: 0.6549999999999999.\n",
      "[I 2025-06-21 11:10:23,516] Trial 17 finished with value: 0.63375 and parameters: {'n_estimators': 189, 'max_depth': 14, 'min_samples_split': 3, 'min_samples_leaf': 2, 'max_features': 'log2'}. Best is trial 12 with value: 0.6549999999999999.\n",
      "[I 2025-06-21 11:10:26,658] Trial 18 finished with value: 0.64625 and parameters: {'n_estimators': 298, 'max_depth': 22, 'min_samples_split': 5, 'min_samples_leaf': 2, 'max_features': 'log2'}. Best is trial 12 with value: 0.6549999999999999.\n",
      "[I 2025-06-21 11:10:29,164] Trial 19 finished with value: 0.6491666666666667 and parameters: {'n_estimators': 256, 'max_depth': 9, 'min_samples_split': 2, 'min_samples_leaf': 4, 'max_features': 'log2'}. Best is trial 12 with value: 0.6549999999999999.\n",
      "[I 2025-06-21 11:10:31,526] Trial 20 finished with value: 0.6429166666666667 and parameters: {'n_estimators': 217, 'max_depth': 14, 'min_samples_split': 3, 'min_samples_leaf': 1, 'max_features': 'log2'}. Best is trial 12 with value: 0.6549999999999999.\n",
      "[I 2025-06-21 11:10:34,534] Trial 21 finished with value: 0.6495833333333334 and parameters: {'n_estimators': 296, 'max_depth': 10, 'min_samples_split': 2, 'min_samples_leaf': 1, 'max_features': 'log2'}. Best is trial 12 with value: 0.6549999999999999.\n",
      "[I 2025-06-21 11:10:36,952] Trial 22 finished with value: 0.6404166666666666 and parameters: {'n_estimators': 278, 'max_depth': 5, 'min_samples_split': 2, 'min_samples_leaf': 2, 'max_features': 'log2'}. Best is trial 12 with value: 0.6549999999999999.\n",
      "[I 2025-06-21 11:10:40,227] Trial 23 finished with value: 0.6425000000000001 and parameters: {'n_estimators': 299, 'max_depth': 12, 'min_samples_split': 3, 'min_samples_leaf': 1, 'max_features': 'log2'}. Best is trial 12 with value: 0.6549999999999999.\n",
      "[I 2025-06-21 11:10:42,826] Trial 24 finished with value: 0.645 and parameters: {'n_estimators': 254, 'max_depth': 12, 'min_samples_split': 5, 'min_samples_leaf': 3, 'max_features': 'log2'}. Best is trial 12 with value: 0.6549999999999999.\n",
      "[I 2025-06-21 11:10:44,388] Trial 25 finished with value: 0.6304166666666667 and parameters: {'n_estimators': 149, 'max_depth': 15, 'min_samples_split': 4, 'min_samples_leaf': 4, 'max_features': 'log2'}. Best is trial 12 with value: 0.6549999999999999.\n",
      "[I 2025-06-21 11:10:47,088] Trial 26 finished with value: 0.6529166666666667 and parameters: {'n_estimators': 269, 'max_depth': 9, 'min_samples_split': 2, 'min_samples_leaf': 2, 'max_features': 'log2'}. Best is trial 12 with value: 0.6549999999999999.\n",
      "[I 2025-06-21 11:10:49,440] Trial 27 finished with value: 0.6416666666666667 and parameters: {'n_estimators': 270, 'max_depth': 5, 'min_samples_split': 3, 'min_samples_leaf': 2, 'max_features': 'log2'}. Best is trial 12 with value: 0.6549999999999999.\n",
      "[I 2025-06-21 11:10:51,569] Trial 28 finished with value: 0.6445833333333334 and parameters: {'n_estimators': 230, 'max_depth': 8, 'min_samples_split': 4, 'min_samples_leaf': 8, 'max_features': 'log2'}. Best is trial 12 with value: 0.6549999999999999.\n",
      "[I 2025-06-21 11:10:55,062] Trial 29 finished with value: 0.655 and parameters: {'n_estimators': 197, 'max_depth': 17, 'min_samples_split': 3, 'min_samples_leaf': 2, 'max_features': 'sqrt'}. Best is trial 29 with value: 0.655.\n",
      "[I 2025-06-21 11:10:57,565] Trial 30 finished with value: 0.6570833333333334 and parameters: {'n_estimators': 143, 'max_depth': 20, 'min_samples_split': 3, 'min_samples_leaf': 3, 'max_features': 'sqrt'}. Best is trial 30 with value: 0.6570833333333334.\n",
      "[I 2025-06-21 11:11:00,161] Trial 31 finished with value: 0.6558333333333334 and parameters: {'n_estimators': 146, 'max_depth': 20, 'min_samples_split': 3, 'min_samples_leaf': 3, 'max_features': 'sqrt'}. Best is trial 30 with value: 0.6570833333333334.\n",
      "[I 2025-06-21 11:11:02,806] Trial 32 finished with value: 0.65 and parameters: {'n_estimators': 144, 'max_depth': 20, 'min_samples_split': 3, 'min_samples_leaf': 3, 'max_features': 'sqrt'}. Best is trial 30 with value: 0.6570833333333334.\n",
      "[I 2025-06-21 11:11:05,537] Trial 33 finished with value: 0.6383333333333333 and parameters: {'n_estimators': 158, 'max_depth': 17, 'min_samples_split': 3, 'min_samples_leaf': 4, 'max_features': 'sqrt'}. Best is trial 30 with value: 0.6570833333333334.\n",
      "[I 2025-06-21 11:11:07,674] Trial 34 finished with value: 0.6266666666666667 and parameters: {'n_estimators': 122, 'max_depth': 25, 'min_samples_split': 5, 'min_samples_leaf': 5, 'max_features': 'sqrt'}. Best is trial 30 with value: 0.6570833333333334.\n",
      "[I 2025-06-21 11:11:09,945] Trial 35 finished with value: 0.6500000000000001 and parameters: {'n_estimators': 122, 'max_depth': 25, 'min_samples_split': 3, 'min_samples_leaf': 3, 'max_features': 'sqrt'}. Best is trial 30 with value: 0.6570833333333334.\n",
      "[I 2025-06-21 11:11:12,929] Trial 36 finished with value: 0.6425000000000001 and parameters: {'n_estimators': 161, 'max_depth': 30, 'min_samples_split': 4, 'min_samples_leaf': 2, 'max_features': 'sqrt'}. Best is trial 30 with value: 0.6570833333333334.\n",
      "[I 2025-06-21 11:11:16,396] Trial 37 finished with value: 0.6491666666666667 and parameters: {'n_estimators': 199, 'max_depth': 20, 'min_samples_split': 6, 'min_samples_leaf': 3, 'max_features': 'sqrt'}. Best is trial 30 with value: 0.6570833333333334.\n",
      "[I 2025-06-21 11:11:18,602] Trial 38 finished with value: 0.64375 and parameters: {'n_estimators': 132, 'max_depth': 18, 'min_samples_split': 3, 'min_samples_leaf': 6, 'max_features': 'sqrt'}. Best is trial 30 with value: 0.6570833333333334.\n",
      "[I 2025-06-21 11:11:21,593] Trial 39 finished with value: 0.6370833333333332 and parameters: {'n_estimators': 176, 'max_depth': 16, 'min_samples_split': 7, 'min_samples_leaf': 4, 'max_features': 'sqrt'}. Best is trial 30 with value: 0.6570833333333334.\n",
      "[I 2025-06-21 11:11:24,430] Trial 40 finished with value: 0.6529166666666667 and parameters: {'n_estimators': 163, 'max_depth': 25, 'min_samples_split': 5, 'min_samples_leaf': 3, 'max_features': 'sqrt'}. Best is trial 30 with value: 0.6570833333333334.\n",
      "[I 2025-06-21 11:11:26,502] Trial 41 finished with value: 0.63 and parameters: {'n_estimators': 107, 'max_depth': 22, 'min_samples_split': 2, 'min_samples_leaf': 2, 'max_features': 'sqrt'}. Best is trial 30 with value: 0.6570833333333334.\n",
      "[I 2025-06-21 11:11:28,942] Trial 42 finished with value: 0.6354166666666667 and parameters: {'n_estimators': 133, 'max_depth': 17, 'min_samples_split': 2, 'min_samples_leaf': 2, 'max_features': 'sqrt'}. Best is trial 30 with value: 0.6570833333333334.\n",
      "[I 2025-06-21 11:11:32,446] Trial 43 finished with value: 0.64625 and parameters: {'n_estimators': 194, 'max_depth': 20, 'min_samples_split': 3, 'min_samples_leaf': 2, 'max_features': 'sqrt'}. Best is trial 30 with value: 0.6570833333333334.\n",
      "[I 2025-06-21 11:11:34,419] Trial 44 finished with value: 0.6408333333333334 and parameters: {'n_estimators': 101, 'max_depth': 15, 'min_samples_split': 2, 'min_samples_leaf': 3, 'max_features': 'sqrt'}. Best is trial 30 with value: 0.6570833333333334.\n",
      "[I 2025-06-21 11:11:36,170] Trial 45 finished with value: 0.6366666666666667 and parameters: {'n_estimators': 85, 'max_depth': 23, 'min_samples_split': 9, 'min_samples_leaf': 1, 'max_features': 'sqrt'}. Best is trial 30 with value: 0.6570833333333334.\n",
      "[I 2025-06-21 11:11:40,207] Trial 46 finished with value: 0.6604166666666667 and parameters: {'n_estimators': 280, 'max_depth': 18, 'min_samples_split': 4, 'min_samples_leaf': 9, 'max_features': 'sqrt'}. Best is trial 46 with value: 0.6604166666666667.\n",
      "[I 2025-06-21 11:11:44,155] Trial 47 finished with value: 0.6604166666666667 and parameters: {'n_estimators': 280, 'max_depth': 18, 'min_samples_split': 4, 'min_samples_leaf': 9, 'max_features': 'sqrt'}. Best is trial 46 with value: 0.6604166666666667.\n",
      "[I 2025-06-21 11:11:47,619] Trial 48 finished with value: 0.65625 and parameters: {'n_estimators': 238, 'max_depth': 19, 'min_samples_split': 4, 'min_samples_leaf': 9, 'max_features': 'sqrt'}. Best is trial 46 with value: 0.6604166666666667.\n",
      "[I 2025-06-21 11:11:51,183] Trial 49 finished with value: 0.6483333333333332 and parameters: {'n_estimators': 244, 'max_depth': 19, 'min_samples_split': 4, 'min_samples_leaf': 10, 'max_features': 'sqrt'}. Best is trial 46 with value: 0.6604166666666667.\n",
      "[I 2025-06-21 11:11:55,387] Trial 50 finished with value: 0.6566666666666667 and parameters: {'n_estimators': 284, 'max_depth': 22, 'min_samples_split': 6, 'min_samples_leaf': 9, 'max_features': 'sqrt'}. Best is trial 46 with value: 0.6604166666666667.\n",
      "[I 2025-06-21 11:11:59,538] Trial 51 finished with value: 0.655 and parameters: {'n_estimators': 287, 'max_depth': 21, 'min_samples_split': 6, 'min_samples_leaf': 9, 'max_features': 'sqrt'}. Best is trial 46 with value: 0.6604166666666667.\n",
      "[I 2025-06-21 11:12:03,628] Trial 52 finished with value: 0.6566666666666667 and parameters: {'n_estimators': 284, 'max_depth': 24, 'min_samples_split': 4, 'min_samples_leaf': 9, 'max_features': 'sqrt'}. Best is trial 46 with value: 0.6604166666666667.\n",
      "[I 2025-06-21 11:12:07,773] Trial 53 finished with value: 0.6579166666666667 and parameters: {'n_estimators': 281, 'max_depth': 27, 'min_samples_split': 7, 'min_samples_leaf': 9, 'max_features': 'sqrt'}. Best is trial 46 with value: 0.6604166666666667.\n",
      "[I 2025-06-21 11:12:11,936] Trial 54 finished with value: 0.6579166666666667 and parameters: {'n_estimators': 281, 'max_depth': 28, 'min_samples_split': 7, 'min_samples_leaf': 9, 'max_features': 'sqrt'}. Best is trial 46 with value: 0.6604166666666667.\n",
      "[I 2025-06-21 11:12:15,848] Trial 55 finished with value: 0.6454166666666667 and parameters: {'n_estimators': 262, 'max_depth': 29, 'min_samples_split': 7, 'min_samples_leaf': 8, 'max_features': 'sqrt'}. Best is trial 46 with value: 0.6604166666666667.\n",
      "[I 2025-06-21 11:12:19,986] Trial 56 finished with value: 0.6475 and parameters: {'n_estimators': 280, 'max_depth': 27, 'min_samples_split': 8, 'min_samples_leaf': 8, 'max_features': 'sqrt'}. Best is trial 46 with value: 0.6604166666666667.\n",
      "[I 2025-06-21 11:12:24,390] Trial 57 finished with value: 0.6466666666666667 and parameters: {'n_estimators': 287, 'max_depth': 28, 'min_samples_split': 8, 'min_samples_leaf': 10, 'max_features': 'sqrt'}. Best is trial 46 with value: 0.6604166666666667.\n",
      "[I 2025-06-21 11:12:28,376] Trial 58 finished with value: 0.65625 and parameters: {'n_estimators': 263, 'max_depth': 28, 'min_samples_split': 7, 'min_samples_leaf': 9, 'max_features': 'sqrt'}. Best is trial 46 with value: 0.6604166666666667.\n",
      "[I 2025-06-21 11:12:32,280] Trial 59 finished with value: 0.6433333333333333 and parameters: {'n_estimators': 251, 'max_depth': 27, 'min_samples_split': 6, 'min_samples_leaf': 7, 'max_features': 'sqrt'}. Best is trial 46 with value: 0.6604166666666667.\n",
      "[I 2025-06-21 11:12:36,269] Trial 60 finished with value: 0.6554166666666666 and parameters: {'n_estimators': 275, 'max_depth': 23, 'min_samples_split': 8, 'min_samples_leaf': 9, 'max_features': 'sqrt'}. Best is trial 46 with value: 0.6604166666666667.\n",
      "[I 2025-06-21 11:12:40,550] Trial 61 finished with value: 0.655 and parameters: {'n_estimators': 287, 'max_depth': 24, 'min_samples_split': 7, 'min_samples_leaf': 9, 'max_features': 'sqrt'}. Best is trial 46 with value: 0.6604166666666667.\n",
      "[I 2025-06-21 11:12:44,692] Trial 62 finished with value: 0.65 and parameters: {'n_estimators': 286, 'max_depth': 26, 'min_samples_split': 7, 'min_samples_leaf': 10, 'max_features': 'sqrt'}. Best is trial 46 with value: 0.6604166666666667.\n",
      "[I 2025-06-21 11:12:48,642] Trial 63 finished with value: 0.6570833333333332 and parameters: {'n_estimators': 261, 'max_depth': 23, 'min_samples_split': 6, 'min_samples_leaf': 9, 'max_features': 'sqrt'}. Best is trial 46 with value: 0.6604166666666667.\n",
      "[I 2025-06-21 11:12:52,665] Trial 64 finished with value: 0.6412500000000001 and parameters: {'n_estimators': 262, 'max_depth': 21, 'min_samples_split': 6, 'min_samples_leaf': 7, 'max_features': 'sqrt'}. Best is trial 46 with value: 0.6604166666666667.\n",
      "[I 2025-06-21 11:12:56,799] Trial 65 finished with value: 0.6554166666666666 and parameters: {'n_estimators': 270, 'max_depth': 22, 'min_samples_split': 6, 'min_samples_leaf': 9, 'max_features': 'sqrt'}. Best is trial 46 with value: 0.6604166666666667.\n",
      "[I 2025-06-21 11:13:01,242] Trial 66 finished with value: 0.6541666666666666 and parameters: {'n_estimators': 293, 'max_depth': 30, 'min_samples_split': 5, 'min_samples_leaf': 8, 'max_features': 'sqrt'}. Best is trial 46 with value: 0.6604166666666667.\n",
      "[I 2025-06-21 11:13:05,395] Trial 67 finished with value: 0.6475 and parameters: {'n_estimators': 276, 'max_depth': 18, 'min_samples_split': 7, 'min_samples_leaf': 8, 'max_features': 'sqrt'}. Best is trial 46 with value: 0.6604166666666667.\n",
      "[I 2025-06-21 11:13:08,580] Trial 68 finished with value: 0.6433333333333333 and parameters: {'n_estimators': 221, 'max_depth': 26, 'min_samples_split': 9, 'min_samples_leaf': 10, 'max_features': 'sqrt'}. Best is trial 46 with value: 0.6604166666666667.\n",
      "[I 2025-06-21 11:13:12,480] Trial 69 finished with value: 0.655 and parameters: {'n_estimators': 257, 'max_depth': 21, 'min_samples_split': 6, 'min_samples_leaf': 9, 'max_features': 'sqrt'}. Best is trial 46 with value: 0.6604166666666667.\n",
      "[I 2025-06-21 11:13:16,100] Trial 70 finished with value: 0.64 and parameters: {'n_estimators': 243, 'max_depth': 23, 'min_samples_split': 8, 'min_samples_leaf': 8, 'max_features': 'sqrt'}. Best is trial 46 with value: 0.6604166666666667.\n",
      "[I 2025-06-21 11:13:20,416] Trial 71 finished with value: 0.6570833333333334 and parameters: {'n_estimators': 283, 'max_depth': 24, 'min_samples_split': 4, 'min_samples_leaf': 9, 'max_features': 'sqrt'}. Best is trial 46 with value: 0.6604166666666667.\n",
      "[I 2025-06-21 11:13:24,865] Trial 72 finished with value: 0.6583333333333334 and parameters: {'n_estimators': 300, 'max_depth': 24, 'min_samples_split': 5, 'min_samples_leaf': 9, 'max_features': 'sqrt'}. Best is trial 46 with value: 0.6604166666666667.\n",
      "[I 2025-06-21 11:13:29,126] Trial 73 finished with value: 0.6504166666666666 and parameters: {'n_estimators': 294, 'max_depth': 24, 'min_samples_split': 5, 'min_samples_leaf': 10, 'max_features': 'sqrt'}. Best is trial 46 with value: 0.6604166666666667.\n",
      "[I 2025-06-21 11:13:33,089] Trial 74 finished with value: 0.6491666666666667 and parameters: {'n_estimators': 271, 'max_depth': 26, 'min_samples_split': 4, 'min_samples_leaf': 10, 'max_features': 'sqrt'}. Best is trial 46 with value: 0.6604166666666667.\n",
      "[I 2025-06-21 11:13:37,456] Trial 75 finished with value: 0.65125 and parameters: {'n_estimators': 300, 'max_depth': 27, 'min_samples_split': 5, 'min_samples_leaf': 8, 'max_features': 'sqrt'}. Best is trial 46 with value: 0.6604166666666667.\n",
      "[I 2025-06-21 11:13:41,520] Trial 76 finished with value: 0.6579166666666667 and parameters: {'n_estimators': 278, 'max_depth': 29, 'min_samples_split': 4, 'min_samples_leaf': 9, 'max_features': 'sqrt'}. Best is trial 46 with value: 0.6604166666666667.\n",
      "[I 2025-06-21 11:13:45,592] Trial 77 finished with value: 0.6591666666666666 and parameters: {'n_estimators': 279, 'max_depth': 29, 'min_samples_split': 4, 'min_samples_leaf': 9, 'max_features': 'sqrt'}. Best is trial 46 with value: 0.6604166666666667.\n",
      "[I 2025-06-21 11:13:46,663] Trial 78 finished with value: 0.6158333333333333 and parameters: {'n_estimators': 52, 'max_depth': 29, 'min_samples_split': 4, 'min_samples_leaf': 5, 'max_features': 'sqrt'}. Best is trial 46 with value: 0.6604166666666667.\n",
      "[I 2025-06-21 11:13:50,729] Trial 79 finished with value: 0.6470833333333333 and parameters: {'n_estimators': 277, 'max_depth': 30, 'min_samples_split': 5, 'min_samples_leaf': 8, 'max_features': 'sqrt'}. Best is trial 46 with value: 0.6604166666666667.\n",
      "[I 2025-06-21 11:13:55,148] Trial 80 finished with value: 0.6404166666666666 and parameters: {'n_estimators': 292, 'max_depth': 29, 'min_samples_split': 4, 'min_samples_leaf': 7, 'max_features': 'sqrt'}. Best is trial 46 with value: 0.6604166666666667.\n",
      "[I 2025-06-21 11:13:59,356] Trial 81 finished with value: 0.6579166666666667 and parameters: {'n_estimators': 281, 'max_depth': 28, 'min_samples_split': 4, 'min_samples_leaf': 9, 'max_features': 'sqrt'}. Best is trial 46 with value: 0.6604166666666667.\n",
      "[I 2025-06-21 11:14:03,253] Trial 82 finished with value: 0.6533333333333333 and parameters: {'n_estimators': 269, 'max_depth': 28, 'min_samples_split': 4, 'min_samples_leaf': 10, 'max_features': 'sqrt'}. Best is trial 46 with value: 0.6604166666666667.\n",
      "[I 2025-06-21 11:14:06,944] Trial 83 finished with value: 0.6604166666666667 and parameters: {'n_estimators': 251, 'max_depth': 29, 'min_samples_split': 4, 'min_samples_leaf': 9, 'max_features': 'sqrt'}. Best is trial 46 with value: 0.6604166666666667.\n",
      "[I 2025-06-21 11:14:10,583] Trial 84 finished with value: 0.6604166666666667 and parameters: {'n_estimators': 251, 'max_depth': 29, 'min_samples_split': 5, 'min_samples_leaf': 9, 'max_features': 'sqrt'}. Best is trial 46 with value: 0.6604166666666667.\n",
      "[I 2025-06-21 11:14:14,187] Trial 85 finished with value: 0.65625 and parameters: {'n_estimators': 234, 'max_depth': 29, 'min_samples_split': 5, 'min_samples_leaf': 9, 'max_features': 'sqrt'}. Best is trial 46 with value: 0.6604166666666667.\n",
      "[I 2025-06-21 11:14:18,254] Trial 86 finished with value: 0.6604166666666667 and parameters: {'n_estimators': 251, 'max_depth': 30, 'min_samples_split': 5, 'min_samples_leaf': 9, 'max_features': 'sqrt'}. Best is trial 46 with value: 0.6604166666666667.\n",
      "[I 2025-06-21 11:14:22,148] Trial 87 finished with value: 0.6495833333333334 and parameters: {'n_estimators': 250, 'max_depth': 30, 'min_samples_split': 5, 'min_samples_leaf': 10, 'max_features': 'sqrt'}. Best is trial 46 with value: 0.6604166666666667.\n",
      "[I 2025-06-21 11:14:26,109] Trial 88 finished with value: 0.6429166666666667 and parameters: {'n_estimators': 254, 'max_depth': 27, 'min_samples_split': 5, 'min_samples_leaf': 8, 'max_features': 'sqrt'}. Best is trial 46 with value: 0.6604166666666667.\n",
      "[I 2025-06-21 11:14:29,485] Trial 89 finished with value: 0.6554166666666668 and parameters: {'n_estimators': 227, 'max_depth': 28, 'min_samples_split': 5, 'min_samples_leaf': 9, 'max_features': 'sqrt'}. Best is trial 46 with value: 0.6604166666666667.\n",
      "[I 2025-06-21 11:14:33,026] Trial 90 finished with value: 0.6491666666666667 and parameters: {'n_estimators': 239, 'max_depth': 30, 'min_samples_split': 5, 'min_samples_leaf': 10, 'max_features': 'sqrt'}. Best is trial 46 with value: 0.6604166666666667.\n",
      "[I 2025-06-21 11:14:36,150] Trial 91 finished with value: 0.6520833333333333 and parameters: {'n_estimators': 204, 'max_depth': 29, 'min_samples_split': 4, 'min_samples_leaf': 9, 'max_features': 'sqrt'}. Best is trial 46 with value: 0.6604166666666667.\n",
      "[I 2025-06-21 11:14:40,067] Trial 92 finished with value: 0.6570833333333334 and parameters: {'n_estimators': 266, 'max_depth': 29, 'min_samples_split': 4, 'min_samples_leaf': 9, 'max_features': 'sqrt'}. Best is trial 46 with value: 0.6604166666666667.\n",
      "[I 2025-06-21 11:14:44,230] Trial 93 finished with value: 0.65 and parameters: {'n_estimators': 275, 'max_depth': 26, 'min_samples_split': 4, 'min_samples_leaf': 8, 'max_features': 'sqrt'}. Best is trial 46 with value: 0.6604166666666667.\n",
      "[I 2025-06-21 11:14:48,610] Trial 94 finished with value: 0.6545833333333333 and parameters: {'n_estimators': 290, 'max_depth': 27, 'min_samples_split': 5, 'min_samples_leaf': 9, 'max_features': 'sqrt'}. Best is trial 46 with value: 0.6604166666666667.\n",
      "[I 2025-06-21 11:14:52,481] Trial 95 finished with value: 0.655 and parameters: {'n_estimators': 257, 'max_depth': 30, 'min_samples_split': 4, 'min_samples_leaf': 9, 'max_features': 'sqrt'}. Best is trial 46 with value: 0.6604166666666667.\n",
      "[I 2025-06-21 11:14:57,032] Trial 96 finished with value: 0.65125 and parameters: {'n_estimators': 300, 'max_depth': 29, 'min_samples_split': 3, 'min_samples_leaf': 8, 'max_features': 'sqrt'}. Best is trial 46 with value: 0.6604166666666667.\n",
      "[I 2025-06-21 11:15:00,926] Trial 97 finished with value: 0.6575 and parameters: {'n_estimators': 248, 'max_depth': 28, 'min_samples_split': 5, 'min_samples_leaf': 9, 'max_features': 'sqrt'}. Best is trial 46 with value: 0.6604166666666667.\n",
      "[I 2025-06-21 11:15:05,014] Trial 98 finished with value: 0.6520833333333333 and parameters: {'n_estimators': 273, 'max_depth': 27, 'min_samples_split': 4, 'min_samples_leaf': 10, 'max_features': 'sqrt'}. Best is trial 46 with value: 0.6604166666666667.\n",
      "[I 2025-06-21 11:15:09,047] Trial 99 finished with value: 0.6529166666666667 and parameters: {'n_estimators': 267, 'max_depth': 16, 'min_samples_split': 6, 'min_samples_leaf': 9, 'max_features': 'sqrt'}. Best is trial 46 with value: 0.6604166666666667.\n"
     ]
    }
   ],
   "source": [
    "study_rfc = optuna.create_study(direction='maximize')\n",
    "study_rfc.optimize(objective, n_trials=100)\n",
    "\n",
    "best_params_rfc = study_rfc.best_trial.params"
   ]
  },
  {
   "cell_type": "markdown",
   "id": "053bde7a-13f9-4a7a-85f2-385089efc4e5",
   "metadata": {},
   "source": [
    "### Dopasowanie finalnego modelu"
   ]
  },
  {
   "cell_type": "code",
   "execution_count": 16,
   "id": "14e792d1-18e5-4eec-955e-5c7bffbf64ad",
   "metadata": {},
   "outputs": [
    {
     "name": "stdout",
     "output_type": "stream",
     "text": [
      "Test accuracy: 0.6683333333333333\n"
     ]
    }
   ],
   "source": [
    "final_model_rfc = RandomForestClassifier(**best_params_rfc, random_state=42)\n",
    "final_model_rfc.fit(X_train, y_train)\n",
    "\n",
    "y_pred = final_model_rfc.predict(X_test)\n",
    "test_acc_rfc = accuracy_score(y_test, y_pred)\n",
    "print(\"Test accuracy:\", test_acc_rfc)"
   ]
  },
  {
   "cell_type": "markdown",
   "id": "2653f841-1291-4b5f-8cc8-64feed72ac20",
   "metadata": {},
   "source": [
    "### Macierz pomyłek dla Lasu Losowego"
   ]
  },
  {
   "cell_type": "code",
   "execution_count": 70,
   "id": "f4a1a8b4-ed83-49e8-8f71-a0c83c18e342",
   "metadata": {
    "scrolled": true
   },
   "outputs": [
    {
     "ename": "ValueError",
     "evalue": "Found input variables with inconsistent numbers of samples: [600, 300]",
     "output_type": "error",
     "traceback": [
      "\u001b[31m---------------------------------------------------------------------------\u001b[39m",
      "\u001b[31mValueError\u001b[39m                                Traceback (most recent call last)",
      "\u001b[36mCell\u001b[39m\u001b[36m \u001b[39m\u001b[32mIn[70]\u001b[39m\u001b[32m, line 1\u001b[39m\n\u001b[32m----> \u001b[39m\u001b[32m1\u001b[39m cm = confusion_matrix(y_test, y_pred)\n\u001b[32m      3\u001b[39m disp = ConfusionMatrixDisplay(confusion_matrix=cm, display_labels=label_encoder.classes_)\n\u001b[32m      4\u001b[39m disp.plot(cmap=\u001b[33m'\u001b[39m\u001b[33mBlues\u001b[39m\u001b[33m'\u001b[39m, xticks_rotation=\u001b[32m45\u001b[39m, colorbar=\u001b[38;5;28;01mFalse\u001b[39;00m)\n",
      "\u001b[36mFile \u001b[39m\u001b[32m~\\anaconda3\\envs\\project_final\\Lib\\site-packages\\sklearn\\utils\\_param_validation.py:218\u001b[39m, in \u001b[36mvalidate_params.<locals>.decorator.<locals>.wrapper\u001b[39m\u001b[34m(*args, **kwargs)\u001b[39m\n\u001b[32m    212\u001b[39m \u001b[38;5;28;01mtry\u001b[39;00m:\n\u001b[32m    213\u001b[39m     \u001b[38;5;28;01mwith\u001b[39;00m config_context(\n\u001b[32m    214\u001b[39m         skip_parameter_validation=(\n\u001b[32m    215\u001b[39m             prefer_skip_nested_validation \u001b[38;5;129;01mor\u001b[39;00m global_skip_validation\n\u001b[32m    216\u001b[39m         )\n\u001b[32m    217\u001b[39m     ):\n\u001b[32m--> \u001b[39m\u001b[32m218\u001b[39m         \u001b[38;5;28;01mreturn\u001b[39;00m func(*args, **kwargs)\n\u001b[32m    219\u001b[39m \u001b[38;5;28;01mexcept\u001b[39;00m InvalidParameterError \u001b[38;5;28;01mas\u001b[39;00m e:\n\u001b[32m    220\u001b[39m     \u001b[38;5;66;03m# When the function is just a wrapper around an estimator, we allow\u001b[39;00m\n\u001b[32m    221\u001b[39m     \u001b[38;5;66;03m# the function to delegate validation to the estimator, but we replace\u001b[39;00m\n\u001b[32m    222\u001b[39m     \u001b[38;5;66;03m# the name of the estimator by the name of the function in the error\u001b[39;00m\n\u001b[32m    223\u001b[39m     \u001b[38;5;66;03m# message to avoid confusion.\u001b[39;00m\n\u001b[32m    224\u001b[39m     msg = re.sub(\n\u001b[32m    225\u001b[39m         \u001b[33mr\u001b[39m\u001b[33m\"\u001b[39m\u001b[33mparameter of \u001b[39m\u001b[33m\\\u001b[39m\u001b[33mw+ must be\u001b[39m\u001b[33m\"\u001b[39m,\n\u001b[32m    226\u001b[39m         \u001b[33mf\u001b[39m\u001b[33m\"\u001b[39m\u001b[33mparameter of \u001b[39m\u001b[38;5;132;01m{\u001b[39;00mfunc.\u001b[34m__qualname__\u001b[39m\u001b[38;5;132;01m}\u001b[39;00m\u001b[33m must be\u001b[39m\u001b[33m\"\u001b[39m,\n\u001b[32m    227\u001b[39m         \u001b[38;5;28mstr\u001b[39m(e),\n\u001b[32m    228\u001b[39m     )\n",
      "\u001b[36mFile \u001b[39m\u001b[32m~\\anaconda3\\envs\\project_final\\Lib\\site-packages\\sklearn\\metrics\\_classification.py:467\u001b[39m, in \u001b[36mconfusion_matrix\u001b[39m\u001b[34m(y_true, y_pred, labels, sample_weight, normalize)\u001b[39m\n\u001b[32m    384\u001b[39m \u001b[38;5;250m\u001b[39m\u001b[33;03m\"\"\"Compute confusion matrix to evaluate the accuracy of a classification.\u001b[39;00m\n\u001b[32m    385\u001b[39m \n\u001b[32m    386\u001b[39m \u001b[33;03mBy definition a confusion matrix :math:`C` is such that :math:`C_{i, j}`\u001b[39;00m\n\u001b[32m   (...)\u001b[39m\u001b[32m    464\u001b[39m \u001b[33;03m(0, 2, 1, 1)\u001b[39;00m\n\u001b[32m    465\u001b[39m \u001b[33;03m\"\"\"\u001b[39;00m\n\u001b[32m    466\u001b[39m y_true, y_pred = attach_unique(y_true, y_pred)\n\u001b[32m--> \u001b[39m\u001b[32m467\u001b[39m y_type, y_true, y_pred = _check_targets(y_true, y_pred)\n\u001b[32m    468\u001b[39m \u001b[38;5;28;01mif\u001b[39;00m y_type \u001b[38;5;129;01mnot\u001b[39;00m \u001b[38;5;129;01min\u001b[39;00m (\u001b[33m\"\u001b[39m\u001b[33mbinary\u001b[39m\u001b[33m\"\u001b[39m, \u001b[33m\"\u001b[39m\u001b[33mmulticlass\u001b[39m\u001b[33m\"\u001b[39m):\n\u001b[32m    469\u001b[39m     \u001b[38;5;28;01mraise\u001b[39;00m \u001b[38;5;167;01mValueError\u001b[39;00m(\u001b[33m\"\u001b[39m\u001b[38;5;132;01m%s\u001b[39;00m\u001b[33m is not supported\u001b[39m\u001b[33m\"\u001b[39m % y_type)\n",
      "\u001b[36mFile \u001b[39m\u001b[32m~\\anaconda3\\envs\\project_final\\Lib\\site-packages\\sklearn\\metrics\\_classification.py:97\u001b[39m, in \u001b[36m_check_targets\u001b[39m\u001b[34m(y_true, y_pred)\u001b[39m\n\u001b[32m     70\u001b[39m \u001b[38;5;250m\u001b[39m\u001b[33;03m\"\"\"Check that y_true and y_pred belong to the same classification task.\u001b[39;00m\n\u001b[32m     71\u001b[39m \n\u001b[32m     72\u001b[39m \u001b[33;03mThis converts multiclass or binary types to a common shape, and raises a\u001b[39;00m\n\u001b[32m   (...)\u001b[39m\u001b[32m     94\u001b[39m \u001b[33;03my_pred : array or indicator matrix\u001b[39;00m\n\u001b[32m     95\u001b[39m \u001b[33;03m\"\"\"\u001b[39;00m\n\u001b[32m     96\u001b[39m xp, _ = get_namespace(y_true, y_pred)\n\u001b[32m---> \u001b[39m\u001b[32m97\u001b[39m check_consistent_length(y_true, y_pred)\n\u001b[32m     98\u001b[39m type_true = type_of_target(y_true, input_name=\u001b[33m\"\u001b[39m\u001b[33my_true\u001b[39m\u001b[33m\"\u001b[39m)\n\u001b[32m     99\u001b[39m type_pred = type_of_target(y_pred, input_name=\u001b[33m\"\u001b[39m\u001b[33my_pred\u001b[39m\u001b[33m\"\u001b[39m)\n",
      "\u001b[36mFile \u001b[39m\u001b[32m~\\anaconda3\\envs\\project_final\\Lib\\site-packages\\sklearn\\utils\\validation.py:473\u001b[39m, in \u001b[36mcheck_consistent_length\u001b[39m\u001b[34m(*arrays)\u001b[39m\n\u001b[32m    471\u001b[39m lengths = [_num_samples(X) \u001b[38;5;28;01mfor\u001b[39;00m X \u001b[38;5;129;01min\u001b[39;00m arrays \u001b[38;5;28;01mif\u001b[39;00m X \u001b[38;5;129;01mis\u001b[39;00m \u001b[38;5;129;01mnot\u001b[39;00m \u001b[38;5;28;01mNone\u001b[39;00m]\n\u001b[32m    472\u001b[39m \u001b[38;5;28;01mif\u001b[39;00m \u001b[38;5;28mlen\u001b[39m(\u001b[38;5;28mset\u001b[39m(lengths)) > \u001b[32m1\u001b[39m:\n\u001b[32m--> \u001b[39m\u001b[32m473\u001b[39m     \u001b[38;5;28;01mraise\u001b[39;00m \u001b[38;5;167;01mValueError\u001b[39;00m(\n\u001b[32m    474\u001b[39m         \u001b[33m\"\u001b[39m\u001b[33mFound input variables with inconsistent numbers of samples: \u001b[39m\u001b[38;5;132;01m%r\u001b[39;00m\u001b[33m\"\u001b[39m\n\u001b[32m    475\u001b[39m         % [\u001b[38;5;28mint\u001b[39m(l) \u001b[38;5;28;01mfor\u001b[39;00m l \u001b[38;5;129;01min\u001b[39;00m lengths]\n\u001b[32m    476\u001b[39m     )\n",
      "\u001b[31mValueError\u001b[39m: Found input variables with inconsistent numbers of samples: [600, 300]"
     ]
    }
   ],
   "source": [
    "cm = confusion_matrix(y_test, y_pred)\n",
    "\n",
    "disp = ConfusionMatrixDisplay(confusion_matrix=cm, display_labels=label_encoder.classes_)\n",
    "disp.plot(cmap='Blues', xticks_rotation=45, colorbar=False)\n",
    "plt.title(f\"Random Forest Classifier \\nAccuracy: {test_acc_rfc:.2f}\")\n",
    "plt.show()"
   ]
  },
  {
   "cell_type": "markdown",
   "id": "47fb5276-ac45-42b2-b090-f1643fbed95c",
   "metadata": {},
   "source": [
    "## MLP Classifier"
   ]
  },
  {
   "cell_type": "markdown",
   "id": "a6ffc35a-f032-46c9-be9b-082007194450",
   "metadata": {},
   "source": [
    "### Zdefiniowanie eksperymentu w optuna"
   ]
  },
  {
   "cell_type": "code",
   "execution_count": 18,
   "id": "7969e6c5-36aa-4ef4-a19b-a0eb5d2e6e92",
   "metadata": {},
   "outputs": [],
   "source": [
    "def objective_mlp(trial):\n",
    "    n_layers = trial.suggest_int('n_layers', 1, 3)\n",
    "    hidden_layer_sizes = []\n",
    "    for i in range(n_layers):\n",
    "        n_units = trial.suggest_int(f'n_units_l{i}', 32, 256)\n",
    "        hidden_layer_sizes.append(n_units)\n",
    "    hidden_layer_sizes = tuple(hidden_layer_sizes)\n",
    "    activation = trial.suggest_categorical('activation', ['relu', 'tanh'])\n",
    "    alpha = trial.suggest_float('alpha', 1e-5, 1e-1, log=True)\n",
    "    learning_rate_init = trial.suggest_float('learning_rate_init', 1e-4, 1e-1, log=True)\n",
    "    solver = trial.suggest_categorical('solver', ['adam', 'sgd'])\n",
    "\n",
    "    model = MLPClassifier(\n",
    "        hidden_layer_sizes=hidden_layer_sizes,\n",
    "        activation=activation,\n",
    "        alpha=alpha,\n",
    "        learning_rate_init=learning_rate_init,\n",
    "        solver=solver,\n",
    "        max_iter=1000,\n",
    "        random_state=42,\n",
    "        early_stopping=True\n",
    "    )\n",
    "\n",
    "    score = cross_val_score(model, X_train, y_train, cv=5, scoring='accuracy')\n",
    "    return score.mean()"
   ]
  },
  {
   "cell_type": "markdown",
   "id": "ffaafbfa-47d4-4234-b59e-47f2ffe966f9",
   "metadata": {},
   "source": [
    "### Optymalizacja hiperparametrów w optuna"
   ]
  },
  {
   "cell_type": "code",
   "execution_count": 19,
   "id": "b8982387-cd8d-4b98-b996-9ebdd4492805",
   "metadata": {
    "scrolled": true
   },
   "outputs": [
    {
     "name": "stderr",
     "output_type": "stream",
     "text": [
      "[I 2025-06-21 11:15:18,636] A new study created in memory with name: no-name-becfa349-aa52-4687-8161-3a0da261d71f\n",
      "[I 2025-06-21 11:15:23,673] Trial 0 finished with value: 0.6470833333333333 and parameters: {'n_layers': 2, 'n_units_l0': 230, 'n_units_l1': 73, 'activation': 'tanh', 'alpha': 0.0001634590780299522, 'learning_rate_init': 0.008758915481559309, 'solver': 'sgd'}. Best is trial 0 with value: 0.6470833333333333.\n",
      "[I 2025-06-21 11:15:26,117] Trial 1 finished with value: 0.65125 and parameters: {'n_layers': 1, 'n_units_l0': 60, 'activation': 'tanh', 'alpha': 0.00019431492615660996, 'learning_rate_init': 0.002187640043655381, 'solver': 'adam'}. Best is trial 1 with value: 0.65125.\n",
      "[I 2025-06-21 11:15:30,011] Trial 2 finished with value: 0.6537499999999999 and parameters: {'n_layers': 3, 'n_units_l0': 63, 'n_units_l1': 118, 'n_units_l2': 112, 'activation': 'tanh', 'alpha': 0.01290258160014329, 'learning_rate_init': 0.0004971338003600709, 'solver': 'adam'}. Best is trial 2 with value: 0.6537499999999999.\n",
      "[I 2025-06-21 11:15:31,951] Trial 3 finished with value: 0.6458333333333333 and parameters: {'n_layers': 1, 'n_units_l0': 69, 'activation': 'relu', 'alpha': 0.0024482798991197975, 'learning_rate_init': 0.0002248546890455082, 'solver': 'adam'}. Best is trial 2 with value: 0.6537499999999999.\n",
      "[I 2025-06-21 11:15:38,860] Trial 4 finished with value: 0.6545833333333334 and parameters: {'n_layers': 2, 'n_units_l0': 188, 'n_units_l1': 194, 'activation': 'relu', 'alpha': 2.3026998981762915e-05, 'learning_rate_init': 0.004091857218370542, 'solver': 'sgd'}. Best is trial 4 with value: 0.6545833333333334.\n",
      "[I 2025-06-21 11:15:39,909] Trial 5 finished with value: 0.32875 and parameters: {'n_layers': 1, 'n_units_l0': 96, 'activation': 'relu', 'alpha': 2.4771636602844408e-05, 'learning_rate_init': 0.07502871259364333, 'solver': 'adam'}. Best is trial 4 with value: 0.6545833333333334.\n",
      "[I 2025-06-21 11:15:42,943] Trial 6 finished with value: 0.6566666666666667 and parameters: {'n_layers': 2, 'n_units_l0': 143, 'n_units_l1': 184, 'activation': 'relu', 'alpha': 0.040059781831577906, 'learning_rate_init': 0.005478684363403686, 'solver': 'sgd'}. Best is trial 6 with value: 0.6566666666666667.\n",
      "[I 2025-06-21 11:15:49,383] Trial 7 finished with value: 0.6425 and parameters: {'n_layers': 3, 'n_units_l0': 102, 'n_units_l1': 83, 'n_units_l2': 247, 'activation': 'tanh', 'alpha': 0.06822249844876492, 'learning_rate_init': 0.0044313460283511305, 'solver': 'sgd'}. Best is trial 6 with value: 0.6566666666666667.\n",
      "[I 2025-06-21 11:15:52,170] Trial 8 finished with value: 0.63875 and parameters: {'n_layers': 1, 'n_units_l0': 109, 'activation': 'tanh', 'alpha': 0.004505788711884475, 'learning_rate_init': 0.0019522965621443392, 'solver': 'sgd'}. Best is trial 6 with value: 0.6566666666666667.\n",
      "[I 2025-06-21 11:16:01,644] Trial 9 finished with value: 0.6583333333333334 and parameters: {'n_layers': 3, 'n_units_l0': 243, 'n_units_l1': 151, 'n_units_l2': 48, 'activation': 'relu', 'alpha': 0.0001304293698868833, 'learning_rate_init': 0.0006023437087452766, 'solver': 'adam'}. Best is trial 9 with value: 0.6583333333333334.\n",
      "[I 2025-06-21 11:16:15,385] Trial 10 finished with value: 0.65 and parameters: {'n_layers': 3, 'n_units_l0': 234, 'n_units_l1': 234, 'n_units_l2': 48, 'activation': 'relu', 'alpha': 0.00026930640877641633, 'learning_rate_init': 0.00014940885425271998, 'solver': 'adam'}. Best is trial 9 with value: 0.6583333333333334.\n",
      "[I 2025-06-21 11:16:19,309] Trial 11 finished with value: 0.6616666666666667 and parameters: {'n_layers': 2, 'n_units_l0': 164, 'n_units_l1': 171, 'activation': 'relu', 'alpha': 0.05065045238279463, 'learning_rate_init': 0.021312955674662248, 'solver': 'sgd'}. Best is trial 11 with value: 0.6616666666666667.\n",
      "[I 2025-06-21 11:16:24,802] Trial 12 finished with value: 0.6370833333333333 and parameters: {'n_layers': 2, 'n_units_l0': 184, 'n_units_l1': 150, 'activation': 'relu', 'alpha': 0.0007510791722257635, 'learning_rate_init': 0.03264530969466896, 'solver': 'adam'}. Best is trial 11 with value: 0.6616666666666667.\n",
      "[I 2025-06-21 11:16:40,651] Trial 13 finished with value: 0.63875 and parameters: {'n_layers': 3, 'n_units_l0': 256, 'n_units_l1': 152, 'n_units_l2': 39, 'activation': 'relu', 'alpha': 4.43619842839948e-05, 'learning_rate_init': 0.0007477256014004396, 'solver': 'sgd'}. Best is trial 11 with value: 0.6616666666666667.\n",
      "[I 2025-06-21 11:16:46,363] Trial 14 finished with value: 0.6595833333333334 and parameters: {'n_layers': 2, 'n_units_l0': 185, 'n_units_l1': 208, 'activation': 'relu', 'alpha': 0.0008733452558811193, 'learning_rate_init': 0.023940865609253115, 'solver': 'sgd'}. Best is trial 11 with value: 0.6616666666666667.\n",
      "[I 2025-06-21 11:16:51,696] Trial 15 finished with value: 0.6516666666666666 and parameters: {'n_layers': 2, 'n_units_l0': 175, 'n_units_l1': 247, 'activation': 'relu', 'alpha': 0.001143177778249445, 'learning_rate_init': 0.021423645245801603, 'solver': 'sgd'}. Best is trial 11 with value: 0.6616666666666667.\n",
      "[I 2025-06-21 11:16:53,969] Trial 16 finished with value: 0.5383333333333333 and parameters: {'n_layers': 2, 'n_units_l0': 146, 'n_units_l1': 211, 'activation': 'relu', 'alpha': 0.011685897468609577, 'learning_rate_init': 0.09931984135448471, 'solver': 'sgd'}. Best is trial 11 with value: 0.6616666666666667.\n",
      "[I 2025-06-21 11:16:56,448] Trial 17 finished with value: 0.6604166666666667 and parameters: {'n_layers': 2, 'n_units_l0': 151, 'n_units_l1': 41, 'activation': 'relu', 'alpha': 0.019999155830750053, 'learning_rate_init': 0.016546744062087476, 'solver': 'sgd'}. Best is trial 11 with value: 0.6616666666666667.\n",
      "[I 2025-06-21 11:16:58,449] Trial 18 finished with value: 0.6495833333333334 and parameters: {'n_layers': 1, 'n_units_l0': 140, 'activation': 'relu', 'alpha': 0.021293540391762813, 'learning_rate_init': 0.010649652994430117, 'solver': 'sgd'}. Best is trial 11 with value: 0.6616666666666667.\n",
      "[I 2025-06-21 11:17:04,173] Trial 19 finished with value: 0.6495833333333333 and parameters: {'n_layers': 2, 'n_units_l0': 210, 'n_units_l1': 108, 'activation': 'relu', 'alpha': 0.05111207377429855, 'learning_rate_init': 0.033385511118554, 'solver': 'sgd'}. Best is trial 11 with value: 0.6616666666666667.\n",
      "[I 2025-06-21 11:17:06,494] Trial 20 finished with value: 0.63125 and parameters: {'n_layers': 2, 'n_units_l0': 160, 'n_units_l1': 54, 'activation': 'relu', 'alpha': 0.0057690754497854825, 'learning_rate_init': 0.010955152819731088, 'solver': 'sgd'}. Best is trial 11 with value: 0.6616666666666667.\n",
      "[I 2025-06-21 11:17:11,392] Trial 21 finished with value: 0.64375 and parameters: {'n_layers': 2, 'n_units_l0': 205, 'n_units_l1': 179, 'activation': 'relu', 'alpha': 0.0937789466604259, 'learning_rate_init': 0.023319282003881784, 'solver': 'sgd'}. Best is trial 11 with value: 0.6616666666666667.\n",
      "[I 2025-06-21 11:17:13,616] Trial 22 finished with value: 0.6033333333333333 and parameters: {'n_layers': 2, 'n_units_l0': 167, 'n_units_l1': 35, 'activation': 'relu', 'alpha': 0.0009477422300155085, 'learning_rate_init': 0.05249529520258123, 'solver': 'sgd'}. Best is trial 11 with value: 0.6616666666666667.\n",
      "[I 2025-06-21 11:17:17,596] Trial 23 finished with value: 0.655 and parameters: {'n_layers': 2, 'n_units_l0': 124, 'n_units_l1': 225, 'activation': 'relu', 'alpha': 0.022092482020585, 'learning_rate_init': 0.016278773407406737, 'solver': 'sgd'}. Best is trial 11 with value: 0.6616666666666667.\n",
      "[I 2025-06-21 11:17:24,559] Trial 24 finished with value: 0.6454166666666665 and parameters: {'n_layers': 2, 'n_units_l0': 201, 'n_units_l1': 127, 'activation': 'relu', 'alpha': 0.0036333348869852693, 'learning_rate_init': 0.04581386351958823, 'solver': 'sgd'}. Best is trial 11 with value: 0.6616666666666667.\n",
      "[I 2025-06-21 11:17:28,071] Trial 25 finished with value: 0.6483333333333333 and parameters: {'n_layers': 2, 'n_units_l0': 155, 'n_units_l1': 172, 'activation': 'relu', 'alpha': 0.000498150497470081, 'learning_rate_init': 0.016952077819276108, 'solver': 'sgd'}. Best is trial 11 with value: 0.6616666666666667.\n",
      "[I 2025-06-21 11:17:34,837] Trial 26 finished with value: 0.6416666666666667 and parameters: {'n_layers': 3, 'n_units_l0': 127, 'n_units_l1': 204, 'n_units_l2': 253, 'activation': 'tanh', 'alpha': 0.001458480419802109, 'learning_rate_init': 0.007757478534374002, 'solver': 'sgd'}. Best is trial 11 with value: 0.6616666666666667.\n",
      "[I 2025-06-21 11:17:42,284] Trial 27 finished with value: 0.6404166666666666 and parameters: {'n_layers': 1, 'n_units_l0': 190, 'activation': 'relu', 'alpha': 0.01220231015388209, 'learning_rate_init': 0.002407615644072292, 'solver': 'sgd'}. Best is trial 11 with value: 0.6616666666666667.\n",
      "[I 2025-06-21 11:17:54,032] Trial 28 finished with value: 0.63375 and parameters: {'n_layers': 2, 'n_units_l0': 219, 'n_units_l1': 93, 'activation': 'relu', 'alpha': 0.027250537206704367, 'learning_rate_init': 0.0012019564201617016, 'solver': 'sgd'}. Best is trial 11 with value: 0.6616666666666667.\n",
      "[I 2025-06-21 11:17:56,729] Trial 29 finished with value: 0.6475 and parameters: {'n_layers': 2, 'n_units_l0': 87, 'n_units_l1': 169, 'activation': 'tanh', 'alpha': 0.008243310529366065, 'learning_rate_init': 0.008991165838561703, 'solver': 'sgd'}. Best is trial 11 with value: 0.6616666666666667.\n",
      "[I 2025-06-21 11:17:58,482] Trial 30 finished with value: 0.6508333333333333 and parameters: {'n_layers': 2, 'n_units_l0': 35, 'n_units_l1': 211, 'activation': 'relu', 'alpha': 0.002024750353981616, 'learning_rate_init': 0.046657606902800665, 'solver': 'sgd'}. Best is trial 11 with value: 0.6616666666666667.\n",
      "[I 2025-06-21 11:18:07,521] Trial 31 finished with value: 0.6387499999999999 and parameters: {'n_layers': 3, 'n_units_l0': 236, 'n_units_l1': 135, 'n_units_l2': 134, 'activation': 'relu', 'alpha': 8.869795067448146e-05, 'learning_rate_init': 0.00036182156736456865, 'solver': 'adam'}. Best is trial 11 with value: 0.6616666666666667.\n",
      "[I 2025-06-21 11:18:22,879] Trial 32 finished with value: 0.6541666666666666 and parameters: {'n_layers': 3, 'n_units_l0': 247, 'n_units_l1': 153, 'n_units_l2': 90, 'activation': 'relu', 'alpha': 0.00012996821378670486, 'learning_rate_init': 0.00010887582733580871, 'solver': 'adam'}. Best is trial 11 with value: 0.6616666666666667.\n",
      "[I 2025-06-21 11:18:29,778] Trial 33 finished with value: 0.6512499999999999 and parameters: {'n_layers': 3, 'n_units_l0': 172, 'n_units_l1': 159, 'n_units_l2': 187, 'activation': 'relu', 'alpha': 1.1112566575877084e-05, 'learning_rate_init': 0.0011733704037813332, 'solver': 'adam'}. Best is trial 11 with value: 0.6616666666666667.\n",
      "[I 2025-06-21 11:18:34,732] Trial 34 finished with value: 0.3333333333333333 and parameters: {'n_layers': 2, 'n_units_l0': 222, 'n_units_l1': 192, 'activation': 'tanh', 'alpha': 0.0003951610956712189, 'learning_rate_init': 0.01429544942312424, 'solver': 'adam'}. Best is trial 11 with value: 0.6616666666666667.\n",
      "[I 2025-06-21 11:18:37,249] Trial 35 finished with value: 0.6420833333333333 and parameters: {'n_layers': 2, 'n_units_l0': 128, 'n_units_l1': 107, 'activation': 'relu', 'alpha': 6.997117782661084e-05, 'learning_rate_init': 0.006687709580778702, 'solver': 'adam'}. Best is trial 11 with value: 0.6616666666666667.\n",
      "[I 2025-06-21 11:18:44,295] Trial 36 finished with value: 0.6279166666666667 and parameters: {'n_layers': 1, 'n_units_l0': 196, 'activation': 'relu', 'alpha': 0.00019966797860339753, 'learning_rate_init': 0.027508845729150015, 'solver': 'adam'}. Best is trial 11 with value: 0.6616666666666667.\n",
      "[I 2025-06-21 11:18:52,219] Trial 37 finished with value: 0.6495833333333334 and parameters: {'n_layers': 3, 'n_units_l0': 181, 'n_units_l1': 66, 'n_units_l2': 176, 'activation': 'relu', 'alpha': 0.03890334601337841, 'learning_rate_init': 0.00035283989288528294, 'solver': 'adam'}. Best is trial 11 with value: 0.6616666666666667.\n",
      "[I 2025-06-21 11:18:55,611] Trial 38 finished with value: 0.6570833333333332 and parameters: {'n_layers': 1, 'n_units_l0': 153, 'activation': 'tanh', 'alpha': 0.09969554495410976, 'learning_rate_init': 0.0031981472259564104, 'solver': 'sgd'}. Best is trial 11 with value: 0.6616666666666667.\n",
      "[I 2025-06-21 11:18:57,158] Trial 39 finished with value: 0.3333333333333333 and parameters: {'n_layers': 2, 'n_units_l0': 114, 'n_units_l1': 138, 'activation': 'relu', 'alpha': 0.0023321807455693403, 'learning_rate_init': 0.058972036474329886, 'solver': 'adam'}. Best is trial 11 with value: 0.6616666666666667.\n",
      "[I 2025-06-21 11:19:06,174] Trial 40 finished with value: 0.6233333333333333 and parameters: {'n_layers': 3, 'n_units_l0': 138, 'n_units_l1': 225, 'n_units_l2': 82, 'activation': 'relu', 'alpha': 0.0005915841784708767, 'learning_rate_init': 0.0006308369350997511, 'solver': 'sgd'}. Best is trial 11 with value: 0.6616666666666667.\n",
      "[I 2025-06-21 11:19:10,723] Trial 41 finished with value: 0.6541666666666667 and parameters: {'n_layers': 1, 'n_units_l0': 152, 'activation': 'tanh', 'alpha': 0.09088441800490442, 'learning_rate_init': 0.00325743442147131, 'solver': 'sgd'}. Best is trial 11 with value: 0.6616666666666667.\n",
      "[I 2025-06-21 11:19:14,902] Trial 42 finished with value: 0.6416666666666666 and parameters: {'n_layers': 1, 'n_units_l0': 165, 'activation': 'tanh', 'alpha': 0.05367857663650797, 'learning_rate_init': 0.0014615229794869302, 'solver': 'sgd'}. Best is trial 11 with value: 0.6616666666666667.\n",
      "[I 2025-06-21 11:19:17,686] Trial 43 finished with value: 0.6520833333333333 and parameters: {'n_layers': 1, 'n_units_l0': 153, 'activation': 'tanh', 'alpha': 0.031979945523310904, 'learning_rate_init': 0.0046406134227451636, 'solver': 'sgd'}. Best is trial 11 with value: 0.6616666666666667.\n",
      "[I 2025-06-21 11:19:32,855] Trial 44 finished with value: 0.5991666666666666 and parameters: {'n_layers': 1, 'n_units_l0': 179, 'activation': 'tanh', 'alpha': 0.018192876354675334, 'learning_rate_init': 0.00020549977838654025, 'solver': 'sgd'}. Best is trial 11 with value: 0.6616666666666667.\n",
      "[I 2025-06-21 11:19:41,258] Trial 45 finished with value: 0.6425000000000001 and parameters: {'n_layers': 2, 'n_units_l0': 192, 'n_units_l1': 122, 'activation': 'tanh', 'alpha': 0.06557652813142902, 'learning_rate_init': 0.0027798811894726937, 'solver': 'sgd'}. Best is trial 11 with value: 0.6616666666666667.\n",
      "[I 2025-06-21 11:19:45,694] Trial 46 finished with value: 0.6666666666666666 and parameters: {'n_layers': 3, 'n_units_l0': 85, 'n_units_l1': 167, 'n_units_l2': 165, 'activation': 'tanh', 'alpha': 3.324043231503551e-05, 'learning_rate_init': 0.03399923963053189, 'solver': 'sgd'}. Best is trial 46 with value: 0.6666666666666666.\n",
      "[I 2025-06-21 11:19:49,351] Trial 47 finished with value: 0.4929166666666667 and parameters: {'n_layers': 3, 'n_units_l0': 79, 'n_units_l1': 168, 'n_units_l2': 176, 'activation': 'relu', 'alpha': 2.6655859038996934e-05, 'learning_rate_init': 0.08694751294441451, 'solver': 'adam'}. Best is trial 46 with value: 0.6666666666666666.\n",
      "[I 2025-06-21 11:19:53,820] Trial 48 finished with value: 0.6458333333333334 and parameters: {'n_layers': 3, 'n_units_l0': 57, 'n_units_l1': 190, 'n_units_l2': 212, 'activation': 'tanh', 'alpha': 1.2634145321281684e-05, 'learning_rate_init': 0.012333698925066017, 'solver': 'sgd'}. Best is trial 46 with value: 0.6666666666666666.\n",
      "[I 2025-06-21 11:19:57,607] Trial 49 finished with value: 0.6570833333333334 and parameters: {'n_layers': 3, 'n_units_l0': 106, 'n_units_l1': 201, 'n_units_l2': 145, 'activation': 'relu', 'alpha': 4.587622237799466e-05, 'learning_rate_init': 0.03731917680633373, 'solver': 'sgd'}. Best is trial 46 with value: 0.6666666666666666.\n",
      "[I 2025-06-21 11:20:00,468] Trial 50 finished with value: 0.6079166666666667 and parameters: {'n_layers': 3, 'n_units_l0': 117, 'n_units_l1': 162, 'n_units_l2': 70, 'activation': 'relu', 'alpha': 1.9486772687930427e-05, 'learning_rate_init': 0.06936532820227558, 'solver': 'sgd'}. Best is trial 46 with value: 0.6666666666666666.\n",
      "[I 2025-06-21 11:20:04,062] Trial 51 finished with value: 0.6470833333333333 and parameters: {'n_layers': 3, 'n_units_l0': 105, 'n_units_l1': 204, 'n_units_l2': 142, 'activation': 'relu', 'alpha': 3.3390644025183494e-05, 'learning_rate_init': 0.032312159891778644, 'solver': 'sgd'}. Best is trial 46 with value: 0.6666666666666666.\n",
      "[I 2025-06-21 11:20:07,162] Trial 52 finished with value: 0.6533333333333333 and parameters: {'n_layers': 3, 'n_units_l0': 86, 'n_units_l1': 178, 'n_units_l2': 115, 'activation': 'relu', 'alpha': 5.6394781839024534e-05, 'learning_rate_init': 0.038781752319144006, 'solver': 'sgd'}. Best is trial 46 with value: 0.6666666666666666.\n",
      "[I 2025-06-21 11:20:10,158] Trial 53 finished with value: 0.6545833333333333 and parameters: {'n_layers': 3, 'n_units_l0': 66, 'n_units_l1': 200, 'n_units_l2': 159, 'activation': 'relu', 'alpha': 0.00011724758516991668, 'learning_rate_init': 0.02068467722428785, 'solver': 'sgd'}. Best is trial 46 with value: 0.6666666666666666.\n",
      "[I 2025-06-21 11:20:13,582] Trial 54 finished with value: 0.6591666666666667 and parameters: {'n_layers': 3, 'n_units_l0': 138, 'n_units_l1': 182, 'n_units_l2': 128, 'activation': 'relu', 'alpha': 0.00034356941123014277, 'learning_rate_init': 0.025656454204988886, 'solver': 'sgd'}. Best is trial 46 with value: 0.6666666666666666.\n",
      "[I 2025-06-21 11:20:16,339] Trial 55 finished with value: 0.6458333333333333 and parameters: {'n_layers': 2, 'n_units_l0': 138, 'n_units_l1': 146, 'activation': 'relu', 'alpha': 0.00036506154190560873, 'learning_rate_init': 0.025850081705853976, 'solver': 'sgd'}. Best is trial 46 with value: 0.6666666666666666.\n",
      "[I 2025-06-21 11:20:23,613] Trial 56 finished with value: 0.6579166666666667 and parameters: {'n_layers': 2, 'n_units_l0': 211, 'n_units_l1': 187, 'activation': 'relu', 'alpha': 0.00020643109759062303, 'learning_rate_init': 0.019428165126807125, 'solver': 'sgd'}. Best is trial 46 with value: 0.6666666666666666.\n",
      "[I 2025-06-21 11:20:26,053] Trial 57 finished with value: 0.6429166666666667 and parameters: {'n_layers': 2, 'n_units_l0': 45, 'n_units_l1': 253, 'activation': 'relu', 'alpha': 0.00030559863728027626, 'learning_rate_init': 0.013947455644863672, 'solver': 'sgd'}. Best is trial 46 with value: 0.6666666666666666.\n",
      "[I 2025-06-21 11:20:29,667] Trial 58 finished with value: 0.65 and parameters: {'n_layers': 2, 'n_units_l0': 162, 'n_units_l1': 180, 'activation': 'relu', 'alpha': 0.0009470156105828635, 'learning_rate_init': 0.00659524619148769, 'solver': 'sgd'}. Best is trial 46 with value: 0.6666666666666666.\n",
      "[I 2025-06-21 11:20:36,974] Trial 59 finished with value: 0.6504166666666666 and parameters: {'n_layers': 3, 'n_units_l0': 256, 'n_units_l1': 159, 'n_units_l2': 211, 'activation': 'relu', 'alpha': 0.0012715616561854064, 'learning_rate_init': 0.009539131045381026, 'solver': 'adam'}. Best is trial 46 with value: 0.6666666666666666.\n",
      "[I 2025-06-21 11:20:39,781] Trial 60 finished with value: 0.6545833333333334 and parameters: {'n_layers': 2, 'n_units_l0': 133, 'n_units_l1': 214, 'activation': 'tanh', 'alpha': 0.0033397474457893127, 'learning_rate_init': 0.026759166192094754, 'solver': 'sgd'}. Best is trial 46 with value: 0.6666666666666666.\n",
      "[I 2025-06-21 11:20:48,205] Trial 61 finished with value: 0.6679166666666667 and parameters: {'n_layers': 2, 'n_units_l0': 211, 'n_units_l1': 187, 'activation': 'relu', 'alpha': 0.00021713798984780008, 'learning_rate_init': 0.01888062749925012, 'solver': 'sgd'}. Best is trial 61 with value: 0.6679166666666667.\n",
      "[I 2025-06-21 11:20:51,986] Trial 62 finished with value: 0.6195833333333334 and parameters: {'n_layers': 2, 'n_units_l0': 245, 'n_units_l1': 176, 'activation': 'relu', 'alpha': 0.0006247389677123906, 'learning_rate_init': 0.016998391000116818, 'solver': 'sgd'}. Best is trial 61 with value: 0.6679166666666667.\n",
      "[I 2025-06-21 11:20:57,762] Trial 63 finished with value: 0.6479166666666667 and parameters: {'n_layers': 2, 'n_units_l0': 171, 'n_units_l1': 185, 'activation': 'relu', 'alpha': 0.00014118353572347485, 'learning_rate_init': 0.05701893799889253, 'solver': 'sgd'}. Best is trial 61 with value: 0.6679166666666667.\n",
      "[I 2025-06-21 11:21:03,008] Trial 64 finished with value: 0.6429166666666666 and parameters: {'n_layers': 3, 'n_units_l0': 227, 'n_units_l1': 140, 'n_units_l2': 111, 'activation': 'relu', 'alpha': 0.00024360901162183668, 'learning_rate_init': 0.04009988146186785, 'solver': 'sgd'}. Best is trial 61 with value: 0.6679166666666667.\n",
      "[I 2025-06-21 11:21:08,764] Trial 65 finished with value: 0.6545833333333333 and parameters: {'n_layers': 3, 'n_units_l0': 212, 'n_units_l1': 32, 'n_units_l2': 62, 'activation': 'relu', 'alpha': 0.0007710026964614652, 'learning_rate_init': 0.022322238261665975, 'solver': 'sgd'}. Best is trial 61 with value: 0.6679166666666667.\n",
      "[I 2025-06-21 11:21:14,693] Trial 66 finished with value: 0.6595833333333333 and parameters: {'n_layers': 2, 'n_units_l0': 201, 'n_units_l1': 223, 'activation': 'relu', 'alpha': 0.00010461089466755388, 'learning_rate_init': 0.030336348282702676, 'solver': 'sgd'}. Best is trial 61 with value: 0.6679166666666667.\n",
      "[I 2025-06-21 11:21:19,073] Trial 67 finished with value: 0.6512500000000001 and parameters: {'n_layers': 2, 'n_units_l0': 186, 'n_units_l1': 234, 'activation': 'relu', 'alpha': 0.00011389300426305142, 'learning_rate_init': 0.03030945693497794, 'solver': 'sgd'}. Best is trial 61 with value: 0.6679166666666667.\n",
      "[I 2025-06-21 11:21:25,009] Trial 68 finished with value: 0.6375 and parameters: {'n_layers': 2, 'n_units_l0': 202, 'n_units_l1': 220, 'activation': 'relu', 'alpha': 0.0016535454524637427, 'learning_rate_init': 0.012208146318822458, 'solver': 'sgd'}. Best is trial 61 with value: 0.6679166666666667.\n",
      "[I 2025-06-21 11:21:29,603] Trial 69 finished with value: 0.6283333333333333 and parameters: {'n_layers': 2, 'n_units_l0': 198, 'n_units_l1': 236, 'activation': 'relu', 'alpha': 8.399540376167351e-05, 'learning_rate_init': 0.06864899668589339, 'solver': 'sgd'}. Best is trial 61 with value: 0.6679166666666667.\n",
      "[I 2025-06-21 11:21:32,591] Trial 70 finished with value: 0.64375 and parameters: {'n_layers': 2, 'n_units_l0': 146, 'n_units_l1': 195, 'activation': 'relu', 'alpha': 0.00016282997254773136, 'learning_rate_init': 0.04611326013203412, 'solver': 'sgd'}. Best is trial 61 with value: 0.6679166666666667.\n",
      "[I 2025-06-21 11:21:40,770] Trial 71 finished with value: 0.6683333333333332 and parameters: {'n_layers': 2, 'n_units_l0': 234, 'n_units_l1': 167, 'activation': 'relu', 'alpha': 0.00040646742853213803, 'learning_rate_init': 0.01785666687162814, 'solver': 'sgd'}. Best is trial 71 with value: 0.6683333333333332.\n",
      "[I 2025-06-21 11:21:46,093] Trial 72 finished with value: 0.64375 and parameters: {'n_layers': 2, 'n_units_l0': 218, 'n_units_l1': 167, 'activation': 'relu', 'alpha': 0.00046500025326999333, 'learning_rate_init': 0.01595477852378551, 'solver': 'sgd'}. Best is trial 71 with value: 0.6683333333333332.\n",
      "[I 2025-06-21 11:21:52,078] Trial 73 finished with value: 0.6583333333333334 and parameters: {'n_layers': 2, 'n_units_l0': 236, 'n_units_l1': 209, 'activation': 'relu', 'alpha': 0.0003388849605055226, 'learning_rate_init': 0.02031015247197438, 'solver': 'sgd'}. Best is trial 71 with value: 0.6683333333333332.\n",
      "[I 2025-06-21 11:21:59,686] Trial 74 finished with value: 0.6604166666666667 and parameters: {'n_layers': 2, 'n_units_l0': 205, 'n_units_l1': 194, 'activation': 'relu', 'alpha': 0.0002851904181428022, 'learning_rate_init': 0.025393522072975492, 'solver': 'sgd'}. Best is trial 71 with value: 0.6683333333333332.\n",
      "[I 2025-06-21 11:22:04,888] Trial 75 finished with value: 0.6675 and parameters: {'n_layers': 2, 'n_units_l0': 207, 'n_units_l1': 219, 'activation': 'relu', 'alpha': 0.00024339708485284517, 'learning_rate_init': 0.03329254755794995, 'solver': 'sgd'}. Best is trial 71 with value: 0.6683333333333332.\n",
      "[I 2025-06-21 11:22:10,943] Trial 76 finished with value: 0.6525000000000001 and parameters: {'n_layers': 2, 'n_units_l0': 229, 'n_units_l1': 197, 'activation': 'relu', 'alpha': 0.00024919952599082064, 'learning_rate_init': 0.00772275605979981, 'solver': 'sgd'}. Best is trial 71 with value: 0.6683333333333332.\n",
      "[I 2025-06-21 11:22:17,909] Trial 77 finished with value: 0.6483333333333333 and parameters: {'n_layers': 2, 'n_units_l0': 206, 'n_units_l1': 172, 'activation': 'tanh', 'alpha': 0.006275662049064307, 'learning_rate_init': 0.017632426698182345, 'solver': 'sgd'}. Best is trial 71 with value: 0.6683333333333332.\n",
      "[I 2025-06-21 11:22:23,529] Trial 78 finished with value: 0.6483333333333332 and parameters: {'n_layers': 2, 'n_units_l0': 193, 'n_units_l1': 51, 'activation': 'relu', 'alpha': 0.0005023157922680659, 'learning_rate_init': 0.01346756475475441, 'solver': 'sgd'}. Best is trial 71 with value: 0.6683333333333332.\n",
      "[I 2025-06-21 11:22:28,413] Trial 79 finished with value: 0.6408333333333334 and parameters: {'n_layers': 2, 'n_units_l0': 179, 'n_units_l1': 89, 'activation': 'relu', 'alpha': 0.015479002759233376, 'learning_rate_init': 0.011276911752004985, 'solver': 'sgd'}. Best is trial 71 with value: 0.6683333333333332.\n",
      "[I 2025-06-21 11:22:34,421] Trial 80 finished with value: 0.6504166666666666 and parameters: {'n_layers': 2, 'n_units_l0': 215, 'n_units_l1': 153, 'activation': 'tanh', 'alpha': 0.00017223714862330187, 'learning_rate_init': 0.03458293704763138, 'solver': 'sgd'}. Best is trial 71 with value: 0.6683333333333332.\n",
      "[I 2025-06-21 11:22:39,768] Trial 81 finished with value: 0.6516666666666666 and parameters: {'n_layers': 2, 'n_units_l0': 207, 'n_units_l1': 218, 'activation': 'relu', 'alpha': 0.00010006653993248395, 'learning_rate_init': 0.043068286348238595, 'solver': 'sgd'}. Best is trial 71 with value: 0.6683333333333332.\n",
      "[I 2025-06-21 11:22:44,440] Trial 82 finished with value: 0.6587500000000001 and parameters: {'n_layers': 2, 'n_units_l0': 223, 'n_units_l1': 230, 'activation': 'relu', 'alpha': 0.0007890969842746562, 'learning_rate_init': 0.030450969022123627, 'solver': 'sgd'}. Best is trial 71 with value: 0.6683333333333332.\n",
      "[I 2025-06-21 11:22:49,228] Trial 83 finished with value: 0.6583333333333334 and parameters: {'n_layers': 2, 'n_units_l0': 186, 'n_units_l1': 208, 'activation': 'relu', 'alpha': 7.626241327006321e-05, 'learning_rate_init': 0.024371856693065807, 'solver': 'sgd'}. Best is trial 71 with value: 0.6683333333333332.\n",
      "[I 2025-06-21 11:22:54,578] Trial 84 finished with value: 0.6449999999999999 and parameters: {'n_layers': 2, 'n_units_l0': 201, 'n_units_l1': 190, 'activation': 'relu', 'alpha': 0.0002272882113044656, 'learning_rate_init': 0.054473634299824845, 'solver': 'sgd'}. Best is trial 71 with value: 0.6683333333333332.\n",
      "[I 2025-06-21 11:22:58,956] Trial 85 finished with value: 0.63 and parameters: {'n_layers': 2, 'n_units_l0': 168, 'n_units_l1': 162, 'activation': 'relu', 'alpha': 5.954186071837927e-05, 'learning_rate_init': 0.019406686362174776, 'solver': 'sgd'}. Best is trial 71 with value: 0.6683333333333332.\n",
      "[I 2025-06-21 11:23:04,628] Trial 86 finished with value: 0.6495833333333334 and parameters: {'n_layers': 2, 'n_units_l0': 235, 'n_units_l1': 244, 'activation': 'relu', 'alpha': 0.00040954042954747567, 'learning_rate_init': 0.015636203546062297, 'solver': 'sgd'}. Best is trial 71 with value: 0.6683333333333332.\n",
      "[I 2025-06-21 11:23:07,458] Trial 87 finished with value: 0.6487499999999999 and parameters: {'n_layers': 2, 'n_units_l0': 157, 'n_units_l1': 110, 'activation': 'relu', 'alpha': 0.0006117353875056105, 'learning_rate_init': 0.02986043557175601, 'solver': 'sgd'}. Best is trial 71 with value: 0.6683333333333332.\n",
      "[I 2025-06-21 11:23:12,002] Trial 88 finished with value: 0.6479166666666666 and parameters: {'n_layers': 2, 'n_units_l0': 174, 'n_units_l1': 226, 'activation': 'tanh', 'alpha': 1.6173916170962624e-05, 'learning_rate_init': 0.03564890791908285, 'solver': 'sgd'}. Best is trial 71 with value: 0.6683333333333332.\n",
      "[I 2025-06-21 11:23:16,302] Trial 89 finished with value: 0.6441666666666667 and parameters: {'n_layers': 2, 'n_units_l0': 194, 'n_units_l1': 131, 'activation': 'relu', 'alpha': 3.1253617918590306e-05, 'learning_rate_init': 0.02282196977970264, 'solver': 'sgd'}. Best is trial 71 with value: 0.6683333333333332.\n",
      "[I 2025-06-21 11:23:22,153] Trial 90 finished with value: 0.6416666666666666 and parameters: {'n_layers': 2, 'n_units_l0': 224, 'n_units_l1': 216, 'activation': 'relu', 'alpha': 0.00016090550715745376, 'learning_rate_init': 0.049298373048789236, 'solver': 'sgd'}. Best is trial 71 with value: 0.6683333333333332.\n",
      "[I 2025-06-21 11:23:24,374] Trial 91 finished with value: 0.6458333333333333 and parameters: {'n_layers': 2, 'n_units_l0': 97, 'n_units_l1': 185, 'activation': 'relu', 'alpha': 0.0002912873255064029, 'learning_rate_init': 0.025892230372833256, 'solver': 'sgd'}. Best is trial 71 with value: 0.6683333333333332.\n",
      "[I 2025-06-21 11:23:27,240] Trial 92 finished with value: 0.6475 and parameters: {'n_layers': 2, 'n_units_l0': 147, 'n_units_l1': 181, 'activation': 'relu', 'alpha': 0.00028924294043275743, 'learning_rate_init': 0.00986728912616006, 'solver': 'sgd'}. Best is trial 71 with value: 0.6683333333333332.\n",
      "[I 2025-06-21 11:23:33,691] Trial 93 finished with value: 0.6487499999999999 and parameters: {'n_layers': 2, 'n_units_l0': 217, 'n_units_l1': 194, 'activation': 'relu', 'alpha': 0.0005387811669978151, 'learning_rate_init': 0.02337567623213952, 'solver': 'sgd'}. Best is trial 71 with value: 0.6683333333333332.\n",
      "[I 2025-06-21 11:23:37,883] Trial 94 finished with value: 0.64625 and parameters: {'n_layers': 2, 'n_units_l0': 182, 'n_units_l1': 174, 'activation': 'relu', 'alpha': 0.0001924983933983848, 'learning_rate_init': 0.018694672669099372, 'solver': 'sgd'}. Best is trial 71 with value: 0.6683333333333332.\n",
      "[I 2025-06-21 11:23:43,605] Trial 95 finished with value: 0.64625 and parameters: {'n_layers': 2, 'n_units_l0': 241, 'n_units_l1': 147, 'activation': 'relu', 'alpha': 0.0003842876743514835, 'learning_rate_init': 0.02784937292703562, 'solver': 'sgd'}. Best is trial 71 with value: 0.6683333333333332.\n",
      "[I 2025-06-21 11:23:46,086] Trial 96 finished with value: 0.6483333333333333 and parameters: {'n_layers': 2, 'n_units_l0': 120, 'n_units_l1': 204, 'activation': 'relu', 'alpha': 0.000921098255047171, 'learning_rate_init': 0.04101311745266439, 'solver': 'sgd'}. Best is trial 71 with value: 0.6683333333333332.\n",
      "[I 2025-06-21 11:23:51,676] Trial 97 finished with value: 0.5595833333333333 and parameters: {'n_layers': 2, 'n_units_l0': 188, 'n_units_l1': 184, 'activation': 'relu', 'alpha': 0.038401551655452275, 'learning_rate_init': 0.08122886439809704, 'solver': 'sgd'}. Best is trial 71 with value: 0.6683333333333332.\n",
      "[I 2025-06-21 11:23:54,962] Trial 98 finished with value: 0.6570833333333332 and parameters: {'n_layers': 2, 'n_units_l0': 162, 'n_units_l1': 164, 'activation': 'tanh', 'alpha': 4.1527275055619005e-05, 'learning_rate_init': 0.03378487591330704, 'solver': 'sgd'}. Best is trial 71 with value: 0.6683333333333332.\n",
      "[I 2025-06-21 11:24:00,236] Trial 99 finished with value: 0.6649999999999999 and parameters: {'n_layers': 2, 'n_units_l0': 197, 'n_units_l1': 155, 'activation': 'relu', 'alpha': 0.009254591932979447, 'learning_rate_init': 0.013946075985054795, 'solver': 'sgd'}. Best is trial 71 with value: 0.6683333333333332.\n"
     ]
    }
   ],
   "source": [
    "study_mlp = optuna.create_study(direction='maximize')\n",
    "study_mlp.optimize(objective_mlp, n_trials=100)\n",
    "\n",
    "best_params_mlp = study_mlp.best_trial.params"
   ]
  },
  {
   "cell_type": "markdown",
   "id": "9e6b2c8b-4eab-49ed-b33c-585a2d9cfd7c",
   "metadata": {},
   "source": [
    "### Dopasowanie finalnego modelu"
   ]
  },
  {
   "cell_type": "code",
   "execution_count": 22,
   "id": "5478dfa6-255b-47a6-84ba-e77de373b24d",
   "metadata": {},
   "outputs": [
    {
     "name": "stdout",
     "output_type": "stream",
     "text": [
      "Test accuracy: 0.69\n"
     ]
    }
   ],
   "source": [
    "final_model_mlp = MLPClassifier(\n",
    "    activation='relu',\n",
    "    alpha=0.00040646742853213803,\n",
    "    learning_rate_init=0.01785666687162814,\n",
    "    solver='sgd',\n",
    "    max_iter=1000,\n",
    "    random_state=42\n",
    ")\n",
    "\n",
    "final_model_mlp.fit(X_train, y_train)\n",
    "\n",
    "y_pred = final_model_mlp.predict(X_test)\n",
    "test_acc_mlp = accuracy_score(y_test, y_pred)\n",
    "print(f\"Test accuracy: {test_acc_mlp:.2f}\")\n"
   ]
  },
  {
   "cell_type": "markdown",
   "id": "a5f2b324-e0fb-4ef6-9d18-1ab49048119e",
   "metadata": {},
   "source": [
    "### Macierz pomyłek dla MLP Classifier"
   ]
  },
  {
   "cell_type": "code",
   "execution_count": 23,
   "id": "df58aef7-94d8-4143-b13f-6e774822eae4",
   "metadata": {},
   "outputs": [
    {
     "data": {
      "image/png": "[encoded data removed]",
      "text/plain": [
       "<Figure size 640x480 with 1 Axes>"
      ]
     },
     "metadata": {},
     "output_type": "display_data"
    }
   ],
   "source": [
    "cm = confusion_matrix(y_test, y_pred)\n",
    "\n",
    "disp = ConfusionMatrixDisplay(confusion_matrix=cm, display_labels=label_encoder.classes_)\n",
    "disp.plot(cmap='Blues', xticks_rotation=45, colorbar=False)\n",
    "plt.title(f\"MLP Classifier \\nAccuracy: {test_acc_mlp:.2f}\")\n",
    "plt.show()"
   ]
  },
  {
   "cell_type": "markdown",
   "id": "63087bc8-dadd-4e6c-a130-7128c549b2f2",
   "metadata": {},
   "source": [
    "## Large Language Model"
   ]
  },
  {
   "cell_type": "markdown",
   "id": "ea1827a4-1fa3-44e9-8475-482ee2b276ca",
   "metadata": {},
   "source": [
    "### Wstępny prompt"
   ]
  },
  {
   "cell_type": "markdown",
   "id": "123eb529-8b9e-4bb3-85e1-dc7d112cdd55",
   "metadata": {},
   "source": [
    "#### Uruchomienie modelu"
   ]
  },
  {
   "cell_type": "markdown",
   "id": "9057117c-2efe-41d4-83f2-c1989fe7e672",
   "metadata": {},
   "source": [
    "##### Należy zaciągnąć model w terminalu przy użyciu `ollama pull llama3`"
   ]
  },
  {
   "cell_type": "code",
   "execution_count": 40,
   "id": "cdcec4fa-d4a9-4e6c-8d98-41b8e62fc066",
   "metadata": {},
   "outputs": [],
   "source": [
    "lm = dspy.LM('ollama_chat/llama3', api_base='http://localhost:11434', api_key='')\n",
    "dspy.configure(lm=lm)"
   ]
  },
  {
   "cell_type": "markdown",
   "id": "bf695391-f8b2-45d7-8661-25484b3dfe9a",
   "metadata": {},
   "source": [
    "#### Zdefinowanie Sygnatury w dspy"
   ]
  },
  {
   "cell_type": "code",
   "execution_count": 41,
   "id": "4b2eb892-b461-4fdc-88d3-75a2402c7c3b",
   "metadata": {},
   "outputs": [],
   "source": [
    "class ClassifyHeadline(dspy.Signature):\n",
    "    \"\"\"Przyporządkuj tekst do jednej z kategorii.\n",
    "    Dodatkowo wytłumacz dlaczego tak postanowiłeś w języku polskim.\n",
    "    Przy wyborze kategorii zwróć uwagę na to w jakim kraju miały miejsce wydażenia lub jakiej narodowości były wspomniane tam osoby.\n",
    "    Jeśli tekst dotyczy wydażeń w polsce wybierz kategorię polska. Jeśli tekst dotyczy wydarzenia z poza polski wybierz świat.\n",
    "    Jeśli tekst dotyczy wydarzenia kulturalnego wybierz kategorię kultura\"\"\"\n",
    "    sentence: str = dspy.InputField(desc=\"The news headline to classify\")\n",
    "    category: Literal[\n",
    "    \"kultura\",\n",
    "    \"polska\",\n",
    "    \"swiat\"\n",
    "    ] = dspy.OutputField(desc=\"The predicted category for the headline\")\n",
    "    reason: str = dspy.OutputField()\n"
   ]
  },
  {
   "cell_type": "markdown",
   "id": "58f41293-a12a-4134-99af-70a973424b75",
   "metadata": {},
   "source": [
    "#### Zdefinowanie Modułu w dspy"
   ]
  },
  {
   "cell_type": "code",
   "execution_count": 42,
   "id": "69f7637e-6160-4d77-943d-adfccb0710b5",
   "metadata": {},
   "outputs": [],
   "source": [
    "class HeadlineClassifier(dspy.Module):\n",
    "    def __init__(self):\n",
    "        super().__init__()\n",
    "        self.classifier = dspy.ChainOfThought(ClassifyHeadline)\n",
    "\n",
    "    def forward(self, sentence):\n",
    "        return self.classifier(sentence=sentence)\n",
    "\n",
    "module = HeadlineClassifier()"
   ]
  },
  {
   "cell_type": "markdown",
   "id": "aee0b6af-cbc7-4ca9-9f8c-ae1372a61507",
   "metadata": {},
   "source": [
    "#### Przygotowanie danych treningowych"
   ]
  },
  {
   "cell_type": "code",
   "execution_count": 43,
   "id": "32fbba35-1512-4dab-8e25-1fd1d9ba7f8c",
   "metadata": {},
   "outputs": [],
   "source": [
    "trainset_df = df.groupby('category').sample(n=100, random_state=42)\n",
    "\n",
    "trainset = [\n",
    "    dspy.Example(sentence=row['sentence'], category=row['category']).with_inputs('sentence')\n",
    "    for _, row in trainset_df.iterrows()\n",
    "]"
   ]
  },
  {
   "cell_type": "markdown",
   "id": "97fa6b2a-ab43-41b9-b231-bcb2522a6541",
   "metadata": {},
   "source": [
    "#### Zdefiniowanie ewaluatoraa"
   ]
  },
  {
   "cell_type": "code",
   "execution_count": 44,
   "id": "042c1382-f1d7-4e15-9bae-232f5064fd82",
   "metadata": {},
   "outputs": [],
   "source": [
    "def validate_category(example, prediction, trace=None):\n",
    "    return prediction.category == example.category"
   ]
  },
  {
   "cell_type": "markdown",
   "id": "fbf80303-1fa7-484b-b492-8663f65c1ec6",
   "metadata": {},
   "source": [
    "#### Ewaluacja na wstępnym prompcie"
   ]
  },
  {
   "cell_type": "code",
   "execution_count": 45,
   "id": "12b24137-b6ad-4b0b-8111-2ca9c4f4e935",
   "metadata": {
    "scrolled": true
   },
   "outputs": [
    {
     "name": "stdout",
     "output_type": "stream",
     "text": [
      "Average Metric: 87.00 / 117 (74.4%):  39%|███▊      | 116/300 [00:00<00:00, 550.69it/s]"
     ]
    },
    {
     "name": "stderr",
     "output_type": "stream",
     "text": [
      "2025/06/21 11:59:07 WARNING dspy.adapters.json_adapter: Failed to use structured output format, falling back to JSON mode.\n"
     ]
    },
    {
     "name": "stdout",
     "output_type": "stream",
     "text": [
      "Average Metric: 203.00 / 300 (67.7%): 100%|██████████| 300/300 [00:00<00:00, 637.38it/s]"
     ]
    },
    {
     "name": "stderr",
     "output_type": "stream",
     "text": [
      "2025/06/21 11:59:07 INFO dspy.evaluate.evaluate: Average Metric: 203 / 300 (67.7%)\n"
     ]
    },
    {
     "name": "stdout",
     "output_type": "stream",
     "text": [
      "\n"
     ]
    },
    {
     "data": {
      "text/html": [
       "<div>\n",
       "<style scoped>\n",
       "    .dataframe tbody tr th:only-of-type {\n",
       "        vertical-align: middle;\n",
       "    }\n",
       "\n",
       "    .dataframe tbody tr th {\n",
       "        vertical-align: top;\n",
       "    }\n",
       "\n",
       "    .dataframe thead th {\n",
       "        text-align: right;\n",
       "    }\n",
       "</style>\n",
       "<table border=\"1\" class=\"dataframe\">\n",
       "  <thead>\n",
       "    <tr style=\"text-align: right;\">\n",
       "      <th></th>\n",
       "      <th>sentence</th>\n",
       "      <th>example_category</th>\n",
       "      <th>reasoning</th>\n",
       "      <th>pred_category</th>\n",
       "      <th>reason</th>\n",
       "      <th>validate_category</th>\n",
       "    </tr>\n",
       "  </thead>\n",
       "  <tbody>\n",
       "    <tr>\n",
       "      <th>0</th>\n",
       "      <td>Szumowska i Englert o filmie \"All Inclusive\". \"To było jak powrót ...</td>\n",
       "      <td>kultura</td>\n",
       "      <td>Filmowa dyskusja Szumowskiej i Englerta o filmie \"All Inclusive\" s...</td>\n",
       "      <td>kultura</td>\n",
       "      <td>W dyskusji Szumowskiej i Englerta dominuje refleksja nad ich własn...</td>\n",
       "      <td>✔️ [True]</td>\n",
       "    </tr>\n",
       "    <tr>\n",
       "      <th>1</th>\n",
       "      <td>Raper Diddy już drugi raz w ciągu tygodnia został pozwany za napaś...</td>\n",
       "      <td>kultura</td>\n",
       "      <td>Tekst dotyczy wydarzenia związkanego z kulturą popularną (rap), a ...</td>\n",
       "      <td>swiat</td>\n",
       "      <td>Wybór kategorii \"świat\" wynika z faktu, że raper Diddy jest ameryk...</td>\n",
       "      <td></td>\n",
       "    </tr>\n",
       "    <tr>\n",
       "      <th>2</th>\n",
       "      <td>W Kulcie przez niemal cztery dekady, stał za \"Arahją\". Nie żyje Ja...</td>\n",
       "      <td>kultura</td>\n",
       "      <td>Tekst opisuje życiorys i śmierć Jana Grudzińskiego, który był zwią...</td>\n",
       "      <td>kultura</td>\n",
       "      <td>Janusz Grudziński był związany z kulturą, co sugeruje, że tekst po...</td>\n",
       "      <td>✔️ [True]</td>\n",
       "    </tr>\n",
       "    <tr>\n",
       "      <th>3</th>\n",
       "      <td>Intelektualna gra Szczepana Twardocha. Recenzja nowej książki \"Pow...</td>\n",
       "      <td>kultura</td>\n",
       "      <td>Recenzja książki to typowy przykład tekstu związkanego z kulturą, ...</td>\n",
       "      <td>kultura</td>\n",
       "      <td>Książka jest polską, a recenzja dotyczy dzieła literackiego, co sp...</td>\n",
       "      <td>✔️ [True]</td>\n",
       "    </tr>\n",
       "    <tr>\n",
       "      <th>4</th>\n",
       "      <td>\"Życie pisze niesamowite scenariusze\". Ostatni odcinek \"Bitwy o go...</td>\n",
       "      <td>kultura</td>\n",
       "      <td>Tekst jest nawiązaniem do świata sztuki, a konkretnie do serialu t...</td>\n",
       "      <td>kultura</td>\n",
       "      <td>W tekście nie ma wzmianek o Polsce lub innych krajach, co sugeruje...</td>\n",
       "      <td>✔️ [True]</td>\n",
       "    </tr>\n",
       "    <tr>\n",
       "      <th>5</th>\n",
       "      <td>Co obejrzeć w Halloween? Dziesięć najlepszych filmów</td>\n",
       "      <td>kultura</td>\n",
       "      <td>Wybór filmów w Halloween to temat kulturalny, który nie jest związ...</td>\n",
       "      <td>kultura</td>\n",
       "      <td>Wybór filmów w Halloween nie ma bezpośredniego związku z Polską an...</td>\n",
       "      <td>✔️ [True]</td>\n",
       "    </tr>\n",
       "    <tr>\n",
       "      <th>6</th>\n",
       "      <td>Gwiazdor \"Miami Vice\" opowiedział o zmaganiach z rakiem. \"Było nap...</td>\n",
       "      <td>kultura</td>\n",
       "      <td>Gwiazdor \"Miami Vice\" opowiedział o swoich zmaganiach z rakiem, co...</td>\n",
       "      <td>kultura</td>\n",
       "      <td>Gwiazdor \"Miami Vice\" opowiedział o swoich zmaganiach z rakiem, co...</td>\n",
       "      <td>✔️ [True]</td>\n",
       "    </tr>\n",
       "    <tr>\n",
       "      <th>7</th>\n",
       "      <td>WOŚP na antenie TVN i TTV jeszcze przed Finałem</td>\n",
       "      <td>kultura</td>\n",
       "      <td>Tekst dotyczy wydarzenia kulturalnego, ponieważ WOŚP to organizacj...</td>\n",
       "      <td>kultura</td>\n",
       "      <td>Wybór kategorii kultura wynika z tego, że tekst dotyczy organizacj...</td>\n",
       "      <td>✔️ [True]</td>\n",
       "    </tr>\n",
       "    <tr>\n",
       "      <th>8</th>\n",
       "      <td>Oscary 2024. Wszystko, co warto wiedzieć o 96. gali wręczenia Nagr...</td>\n",
       "      <td>kultura</td>\n",
       "      <td>Tekst dotyczy wydarzenia kulturalnego, czyli wręczenia Nagród Akad...</td>\n",
       "      <td>kultura</td>\n",
       "      <td>Wybór kategorii \"kultura\" oparty jest na tym, że nagrody Akademii ...</td>\n",
       "      <td>✔️ [True]</td>\n",
       "    </tr>\n",
       "    <tr>\n",
       "      <th>9</th>\n",
       "      <td>\"Warto było zacisnąć zęby\". Marcin Dorociński u boku światowych sław</td>\n",
       "      <td>kultura</td>\n",
       "      <td>Tekst dotyczy wydarzenia kulturalnego, ponieważ wymieniony aktor M...</td>\n",
       "      <td>kultura</td>\n",
       "      <td>Warto było zacisnąć zęby - tytuł artykułu sugeruje, że tekst dotyc...</td>\n",
       "      <td>✔️ [True]</td>\n",
       "    </tr>\n",
       "    <tr>\n",
       "      <th>10</th>\n",
       "      <td>Taylor Swift przekazała hojną darowiznę dla ofiar huraganów w USA</td>\n",
       "      <td>kultura</td>\n",
       "      <td>Taylor Swift jest amerykańską piosenkarką, a darowizna została prz...</td>\n",
       "      <td>swiat</td>\n",
       "      <td>Wybór kategorii \"swiat\" wynika z tego, że wydarzenie miało miejsce...</td>\n",
       "      <td></td>\n",
       "    </tr>\n",
       "    <tr>\n",
       "      <th>11</th>\n",
       "      <td>Nie żyje Terry Hall, wokalista The Specials. W latach 80. ich hity...</td>\n",
       "      <td>kultura</td>\n",
       "      <td>Terry Hall, wokalista The Specials, był ważną postacią w kulturze ...</td>\n",
       "      <td>kultura</td>\n",
       "      <td>Terry Hall's death is a significant cultural event, and his impact...</td>\n",
       "      <td>✔️ [True]</td>\n",
       "    </tr>\n",
       "    <tr>\n",
       "      <th>12</th>\n",
       "      <td>Zespół Bi-2 aresztowany w Tajlandii. Muzycy trzymani \"w potwornych...</td>\n",
       "      <td>kultura</td>\n",
       "      <td>Zespół Bi-2 jest polskim zespołem muzycznym, aresztowanie w Tajlan...</td>\n",
       "      <td>swiat</td>\n",
       "      <td>Wydarzenie miało miejsce poza Polską (Tajlandia) i dotyczy polskie...</td>\n",
       "      <td></td>\n",
       "    </tr>\n",
       "    <tr>\n",
       "      <th>13</th>\n",
       "      <td>Gwizdy podczas występu reprezentantki Izraela. Protesty i zamiesza...</td>\n",
       "      <td>kultura</td>\n",
       "      <td>Tekst dotyczy wydarzenia kulturalnego, konkretnie finału Eurowizji...</td>\n",
       "      <td>kultura</td>\n",
       "      <td>Wybór kategorii kultura wynika z faktu, że tekst dotyczy wydarzeni...</td>\n",
       "      <td>✔️ [True]</td>\n",
       "    </tr>\n",
       "    <tr>\n",
       "      <th>14</th>\n",
       "      <td>Spice Girls znów razem. W pełnym składzie zaśpiewały swój wielki h...</td>\n",
       "      <td>kultura</td>\n",
       "      <td>Spice Girls to zespół muzyczny, który swoją popularność osiągnął w...</td>\n",
       "      <td>kultura</td>\n",
       "      <td>W nagraniu Spice Girls zaśpiewały swój wielki hit, co wskazuje na ...</td>\n",
       "      <td>✔️ [True]</td>\n",
       "    </tr>\n",
       "    <tr>\n",
       "      <th>15</th>\n",
       "      <td>Gdzie i kiedy oglądać koronację Karola III i królowej Kamili? Prog...</td>\n",
       "      <td>kultura</td>\n",
       "      <td>Tekst dotyczy koronacji monarchów, co sugeruje, że jest to wydarze...</td>\n",
       "      <td>kultura</td>\n",
       "      <td>Wybór kategorii \"kultura\" wynika z faktu, że koronacja monarchów j...</td>\n",
       "      <td>✔️ [True]</td>\n",
       "    </tr>\n",
       "    <tr>\n",
       "      <th>16</th>\n",
       "      <td>\"Czas na Show. Drag Me Out\". Sześciu znanych mężczyzn przejdzie ni...</td>\n",
       "      <td>kultura</td>\n",
       "      <td>Tekst dotyczy wydarzenia kulturalnego, ponieważ mowa o metamorfozi...</td>\n",
       "      <td>kultura</td>\n",
       "      <td>Wybór kategorii \"kultura\" wynika z faktu, że tekst dotyczy wydarze...</td>\n",
       "      <td>✔️ [True]</td>\n",
       "    </tr>\n",
       "    <tr>\n",
       "      <th>17</th>\n",
       "      <td>Nie masz pomysłu na świąteczny prezent? Polecamy 10 książek, od kt...</td>\n",
       "      <td>kultura</td>\n",
       "      <td>Tekst sugeruje, że książki są ważnymi wydarzeniami kulturalnymi, k...</td>\n",
       "      <td>kultura</td>\n",
       "      <td>Książki to ważny aspekt kultury, a prezentacja 10 książek sugeruje...</td>\n",
       "      <td>✔️ [True]</td>\n",
       "    </tr>\n",
       "    <tr>\n",
       "      <th>18</th>\n",
       "      <td>Leszek Szaruga nie żyje</td>\n",
       "      <td>kultura</td>\n",
       "      <td>Leszek Szaruga był polskim aktorem, więc jego śmierć jest związana...</td>\n",
       "      <td>polska</td>\n",
       "      <td>W wyborze kategorii \"polska\" wzięto pod uwagę fakt, że Leszek Szar...</td>\n",
       "      <td></td>\n",
       "    </tr>\n",
       "    <tr>\n",
       "      <th>19</th>\n",
       "      <td>\"Mam wrażenie, że tata jest gdzieś z boku\". Poruszające słowa rodz...</td>\n",
       "      <td>kultura</td>\n",
       "      <td>Tekst opisuje wydarzenie związane z rodziną Damięckich, co sugeruj...</td>\n",
       "      <td>polska</td>\n",
       "      <td>Wybór kategorii \"polska\" wynika z tego, że tekst dotyczy wydarzeni...</td>\n",
       "      <td></td>\n",
       "    </tr>\n",
       "    <tr>\n",
       "      <th>20</th>\n",
       "      <td>Byłe tancerki pozywają Lizzo. Zarzucają jej molestowanie i dyskrym...</td>\n",
       "      <td>kultura</td>\n",
       "      <td>Tekst dotyczy wydarzenia kulturalnego, w którym byłe tancerki oska...</td>\n",
       "      <td>kultura</td>\n",
       "      <td>Wybór kategorii \"kultura\" wynika z faktu, że tekst dotyczy oskarże...</td>\n",
       "      <td>✔️ [True]</td>\n",
       "    </tr>\n",
       "    <tr>\n",
       "      <th>21</th>\n",
       "      <td>Gwiazdy \"Seksu w wielkim mieście\" uczciły 25 lat hitowej produkcji...</td>\n",
       "      <td>kultura</td>\n",
       "      <td>Tekst dotyczy wydarzenia kulturalnego, ponieważ jest to uroczystoś...</td>\n",
       "      <td>kultura</td>\n",
       "      <td>W wyborze kategorii kultura uwzględniono fakt, że tekst dotyczy ur...</td>\n",
       "      <td>✔️ [True]</td>\n",
       "    </tr>\n",
       "    <tr>\n",
       "      <th>22</th>\n",
       "      <td>Alwida Antonina Bajor nie żyje</td>\n",
       "      <td>kultura</td>\n",
       "      <td>Alwida Antonina Bajor była polską aktorką, dlatego tekst dotyczy w...</td>\n",
       "      <td>polska</td>\n",
       "      <td>Wybór kategorii \"polska\" wynikał z faktu, że Alwida Antonina Bajor...</td>\n",
       "      <td></td>\n",
       "    </tr>\n",
       "    <tr>\n",
       "      <th>23</th>\n",
       "      <td>Agnieszka Holland: haniebna i kłamliwa kampania nienawiści, która ...</td>\n",
       "      <td>kultura</td>\n",
       "      <td>Agnieszka Holland to polska reżyserka, więc tekst dotyczy wydarzen...</td>\n",
       "      <td>polska</td>\n",
       "      <td>Agnieszka Holland to znana polska reżyserka, a tekst dotyczy jej k...</td>\n",
       "      <td></td>\n",
       "    </tr>\n",
       "    <tr>\n",
       "      <th>24</th>\n",
       "      <td>Stworzą multimedialną operę o fenomenie odbudowy Warszawy. \"Nikt d...</td>\n",
       "      <td>kultura</td>\n",
       "      <td>Tekst dotyczy tworzenia nowej formy sztuki, opery, która opowiada ...</td>\n",
       "      <td>kultura</td>\n",
       "      <td>Wybór kategorii \"kultura\" wynika z tym, że tekst dotyczy tworzenia...</td>\n",
       "      <td>✔️ [True]</td>\n",
       "    </tr>\n",
       "    <tr>\n",
       "      <th>25</th>\n",
       "      <td>Ozzy Osbourne o walce o zdrowie i szansach powrotu na scenę</td>\n",
       "      <td>kultura</td>\n",
       "      <td>Ozzy Osbourne, jeden z najbardziej znanych muzyków heavy metalowyc...</td>\n",
       "      <td>kultura</td>\n",
       "      <td>Wszystko to dlatego, że tekst dotyczy wydarzenia związkanego z muz...</td>\n",
       "      <td>✔️ [True]</td>\n",
       "    </tr>\n",
       "    <tr>\n",
       "      <th>26</th>\n",
       "      <td>Naomi Campbell po raz drugi została mamą. \"Nigdy nie jest za późno...</td>\n",
       "      <td>kultura</td>\n",
       "      <td>Naomi Campbell, znana modelka, ma nowego dziecka. Wydarzenie to je...</td>\n",
       "      <td>kultura</td>\n",
       "      <td>Wybór kategorii \"kultura\" wynika z faktu, że Naomi Campbell jest m...</td>\n",
       "      <td>✔️ [True]</td>\n",
       "    </tr>\n",
       "    <tr>\n",
       "      <th>27</th>\n",
       "      <td>\"Artyści tacy jak Jerzy Stuhr nigdy nie odchodzą\"</td>\n",
       "      <td>kultura</td>\n",
       "      <td>Tekst dotyczy artyści, którzy są związani z kulturą i sztuką. Jerz...</td>\n",
       "      <td>kultura</td>\n",
       "      <td>Artyści są ważnymi postaciami w kulturze i sztuce. Jerzy Stuhr to ...</td>\n",
       "      <td>✔️ [True]</td>\n",
       "    </tr>\n",
       "    <tr>\n",
       "      <th>28</th>\n",
       "      <td>Pamela Anderson twierdzi, że Tim Allen się przed nią obnażył. Miał...</td>\n",
       "      <td>kultura</td>\n",
       "      <td>Pamela Anderson i Tim Allen to znane postacie z branży filmowej, a...</td>\n",
       "      <td>kultura</td>\n",
       "      <td>Wynika to z faktu, że Pamela Anderson i Tim Allen to znane postaci...</td>\n",
       "      <td>✔️ [True]</td>\n",
       "    </tr>\n",
       "    <tr>\n",
       "      <th>29</th>\n",
       "      <td>Spielberg komplementuje Cruise'a: uratowałeś tyłek całemu Hollywood</td>\n",
       "      <td>kultura</td>\n",
       "      <td>Steven Spielberg, znany reżyser filmowy, komplementuje Tom Cruise'...</td>\n",
       "      <td>kultura</td>\n",
       "      <td>Wypowiedź Spielberga dotyczy wydarzeń związanych z przemianą Holly...</td>\n",
       "      <td>✔️ [True]</td>\n",
       "    </tr>\n",
       "  </tbody>\n",
       "</table>\n",
       "</div>"
      ],
      "text/plain": [
       "                                                                 sentence  \\\n",
       "0   Szumowska i Englert o filmie \"All Inclusive\". \"To było jak powrót ...   \n",
       "1   Raper Diddy już drugi raz w ciągu tygodnia został pozwany za napaś...   \n",
       "2   W Kulcie przez niemal cztery dekady, stał za \"Arahją\". Nie żyje Ja...   \n",
       "3   Intelektualna gra Szczepana Twardocha. Recenzja nowej książki \"Pow...   \n",
       "4   \"Życie pisze niesamowite scenariusze\". Ostatni odcinek \"Bitwy o go...   \n",
       "5                 Co obejrzeć w Halloween? Dziesięć najlepszych filmów      \n",
       "6   Gwiazdor \"Miami Vice\" opowiedział o zmaganiach z rakiem. \"Było nap...   \n",
       "7                         WOŚP na antenie TVN i TTV jeszcze przed Finałem   \n",
       "8   Oscary 2024. Wszystko, co warto wiedzieć o 96. gali wręczenia Nagr...   \n",
       "9    \"Warto było zacisnąć zęby\". Marcin Dorociński u boku światowych sław   \n",
       "10      Taylor Swift przekazała hojną darowiznę dla ofiar huraganów w USA   \n",
       "11  Nie żyje Terry Hall, wokalista The Specials. W latach 80. ich hity...   \n",
       "12  Zespół Bi-2 aresztowany w Tajlandii. Muzycy trzymani \"w potwornych...   \n",
       "13  Gwizdy podczas występu reprezentantki Izraela. Protesty i zamiesza...   \n",
       "14  Spice Girls znów razem. W pełnym składzie zaśpiewały swój wielki h...   \n",
       "15  Gdzie i kiedy oglądać koronację Karola III i królowej Kamili? Prog...   \n",
       "16  \"Czas na Show. Drag Me Out\". Sześciu znanych mężczyzn przejdzie ni...   \n",
       "17  Nie masz pomysłu na świąteczny prezent? Polecamy 10 książek, od kt...   \n",
       "18                                                Leszek Szaruga nie żyje   \n",
       "19  \"Mam wrażenie, że tata jest gdzieś z boku\". Poruszające słowa rodz...   \n",
       "20  Byłe tancerki pozywają Lizzo. Zarzucają jej molestowanie i dyskrym...   \n",
       "21  Gwiazdy \"Seksu w wielkim mieście\" uczciły 25 lat hitowej produkcji...   \n",
       "22                                         Alwida Antonina Bajor nie żyje   \n",
       "23  Agnieszka Holland: haniebna i kłamliwa kampania nienawiści, która ...   \n",
       "24  Stworzą multimedialną operę o fenomenie odbudowy Warszawy. \"Nikt d...   \n",
       "25            Ozzy Osbourne o walce o zdrowie i szansach powrotu na scenę   \n",
       "26  Naomi Campbell po raz drugi została mamą. \"Nigdy nie jest za późno...   \n",
       "27                      \"Artyści tacy jak Jerzy Stuhr nigdy nie odchodzą\"   \n",
       "28  Pamela Anderson twierdzi, że Tim Allen się przed nią obnażył. Miał...   \n",
       "29    Spielberg komplementuje Cruise'a: uratowałeś tyłek całemu Hollywood   \n",
       "\n",
       "   example_category  \\\n",
       "0           kultura   \n",
       "1           kultura   \n",
       "2           kultura   \n",
       "3           kultura   \n",
       "4           kultura   \n",
       "5           kultura   \n",
       "6           kultura   \n",
       "7           kultura   \n",
       "8           kultura   \n",
       "9           kultura   \n",
       "10          kultura   \n",
       "11          kultura   \n",
       "12          kultura   \n",
       "13          kultura   \n",
       "14          kultura   \n",
       "15          kultura   \n",
       "16          kultura   \n",
       "17          kultura   \n",
       "18          kultura   \n",
       "19          kultura   \n",
       "20          kultura   \n",
       "21          kultura   \n",
       "22          kultura   \n",
       "23          kultura   \n",
       "24          kultura   \n",
       "25          kultura   \n",
       "26          kultura   \n",
       "27          kultura   \n",
       "28          kultura   \n",
       "29          kultura   \n",
       "\n",
       "                                                                reasoning  \\\n",
       "0   Filmowa dyskusja Szumowskiej i Englerta o filmie \"All Inclusive\" s...   \n",
       "1   Tekst dotyczy wydarzenia związkanego z kulturą popularną (rap), a ...   \n",
       "2   Tekst opisuje życiorys i śmierć Jana Grudzińskiego, który był zwią...   \n",
       "3   Recenzja książki to typowy przykład tekstu związkanego z kulturą, ...   \n",
       "4   Tekst jest nawiązaniem do świata sztuki, a konkretnie do serialu t...   \n",
       "5   Wybór filmów w Halloween to temat kulturalny, który nie jest związ...   \n",
       "6   Gwiazdor \"Miami Vice\" opowiedział o swoich zmaganiach z rakiem, co...   \n",
       "7   Tekst dotyczy wydarzenia kulturalnego, ponieważ WOŚP to organizacj...   \n",
       "8   Tekst dotyczy wydarzenia kulturalnego, czyli wręczenia Nagród Akad...   \n",
       "9   Tekst dotyczy wydarzenia kulturalnego, ponieważ wymieniony aktor M...   \n",
       "10  Taylor Swift jest amerykańską piosenkarką, a darowizna została prz...   \n",
       "11  Terry Hall, wokalista The Specials, był ważną postacią w kulturze ...   \n",
       "12  Zespół Bi-2 jest polskim zespołem muzycznym, aresztowanie w Tajlan...   \n",
       "13  Tekst dotyczy wydarzenia kulturalnego, konkretnie finału Eurowizji...   \n",
       "14  Spice Girls to zespół muzyczny, który swoją popularność osiągnął w...   \n",
       "15  Tekst dotyczy koronacji monarchów, co sugeruje, że jest to wydarze...   \n",
       "16  Tekst dotyczy wydarzenia kulturalnego, ponieważ mowa o metamorfozi...   \n",
       "17  Tekst sugeruje, że książki są ważnymi wydarzeniami kulturalnymi, k...   \n",
       "18  Leszek Szaruga był polskim aktorem, więc jego śmierć jest związana...   \n",
       "19  Tekst opisuje wydarzenie związane z rodziną Damięckich, co sugeruj...   \n",
       "20  Tekst dotyczy wydarzenia kulturalnego, w którym byłe tancerki oska...   \n",
       "21  Tekst dotyczy wydarzenia kulturalnego, ponieważ jest to uroczystoś...   \n",
       "22  Alwida Antonina Bajor była polską aktorką, dlatego tekst dotyczy w...   \n",
       "23  Agnieszka Holland to polska reżyserka, więc tekst dotyczy wydarzen...   \n",
       "24  Tekst dotyczy tworzenia nowej formy sztuki, opery, która opowiada ...   \n",
       "25  Ozzy Osbourne, jeden z najbardziej znanych muzyków heavy metalowyc...   \n",
       "26  Naomi Campbell, znana modelka, ma nowego dziecka. Wydarzenie to je...   \n",
       "27  Tekst dotyczy artyści, którzy są związani z kulturą i sztuką. Jerz...   \n",
       "28  Pamela Anderson i Tim Allen to znane postacie z branży filmowej, a...   \n",
       "29  Steven Spielberg, znany reżyser filmowy, komplementuje Tom Cruise'...   \n",
       "\n",
       "   pred_category  \\\n",
       "0        kultura   \n",
       "1          swiat   \n",
       "2        kultura   \n",
       "3        kultura   \n",
       "4        kultura   \n",
       "5        kultura   \n",
       "6        kultura   \n",
       "7        kultura   \n",
       "8        kultura   \n",
       "9        kultura   \n",
       "10         swiat   \n",
       "11       kultura   \n",
       "12         swiat   \n",
       "13       kultura   \n",
       "14       kultura   \n",
       "15       kultura   \n",
       "16       kultura   \n",
       "17       kultura   \n",
       "18        polska   \n",
       "19        polska   \n",
       "20       kultura   \n",
       "21       kultura   \n",
       "22        polska   \n",
       "23        polska   \n",
       "24       kultura   \n",
       "25       kultura   \n",
       "26       kultura   \n",
       "27       kultura   \n",
       "28       kultura   \n",
       "29       kultura   \n",
       "\n",
       "                                                                   reason  \\\n",
       "0   W dyskusji Szumowskiej i Englerta dominuje refleksja nad ich własn...   \n",
       "1   Wybór kategorii \"świat\" wynika z faktu, że raper Diddy jest ameryk...   \n",
       "2   Janusz Grudziński był związany z kulturą, co sugeruje, że tekst po...   \n",
       "3   Książka jest polską, a recenzja dotyczy dzieła literackiego, co sp...   \n",
       "4   W tekście nie ma wzmianek o Polsce lub innych krajach, co sugeruje...   \n",
       "5   Wybór filmów w Halloween nie ma bezpośredniego związku z Polską an...   \n",
       "6   Gwiazdor \"Miami Vice\" opowiedział o swoich zmaganiach z rakiem, co...   \n",
       "7   Wybór kategorii kultura wynika z tego, że tekst dotyczy organizacj...   \n",
       "8   Wybór kategorii \"kultura\" oparty jest na tym, że nagrody Akademii ...   \n",
       "9   Warto było zacisnąć zęby - tytuł artykułu sugeruje, że tekst dotyc...   \n",
       "10  Wybór kategorii \"swiat\" wynika z tego, że wydarzenie miało miejsce...   \n",
       "11  Terry Hall's death is a significant cultural event, and his impact...   \n",
       "12  Wydarzenie miało miejsce poza Polską (Tajlandia) i dotyczy polskie...   \n",
       "13  Wybór kategorii kultura wynika z faktu, że tekst dotyczy wydarzeni...   \n",
       "14  W nagraniu Spice Girls zaśpiewały swój wielki hit, co wskazuje na ...   \n",
       "15  Wybór kategorii \"kultura\" wynika z faktu, że koronacja monarchów j...   \n",
       "16  Wybór kategorii \"kultura\" wynika z faktu, że tekst dotyczy wydarze...   \n",
       "17  Książki to ważny aspekt kultury, a prezentacja 10 książek sugeruje...   \n",
       "18  W wyborze kategorii \"polska\" wzięto pod uwagę fakt, że Leszek Szar...   \n",
       "19  Wybór kategorii \"polska\" wynika z tego, że tekst dotyczy wydarzeni...   \n",
       "20  Wybór kategorii \"kultura\" wynika z faktu, że tekst dotyczy oskarże...   \n",
       "21  W wyborze kategorii kultura uwzględniono fakt, że tekst dotyczy ur...   \n",
       "22  Wybór kategorii \"polska\" wynikał z faktu, że Alwida Antonina Bajor...   \n",
       "23  Agnieszka Holland to znana polska reżyserka, a tekst dotyczy jej k...   \n",
       "24  Wybór kategorii \"kultura\" wynika z tym, że tekst dotyczy tworzenia...   \n",
       "25  Wszystko to dlatego, że tekst dotyczy wydarzenia związkanego z muz...   \n",
       "26  Wybór kategorii \"kultura\" wynika z faktu, że Naomi Campbell jest m...   \n",
       "27  Artyści są ważnymi postaciami w kulturze i sztuce. Jerzy Stuhr to ...   \n",
       "28  Wynika to z faktu, że Pamela Anderson i Tim Allen to znane postaci...   \n",
       "29  Wypowiedź Spielberga dotyczy wydarzeń związanych z przemianą Holly...   \n",
       "\n",
       "   validate_category  \n",
       "0          ✔️ [True]  \n",
       "1                     \n",
       "2          ✔️ [True]  \n",
       "3          ✔️ [True]  \n",
       "4          ✔️ [True]  \n",
       "5          ✔️ [True]  \n",
       "6          ✔️ [True]  \n",
       "7          ✔️ [True]  \n",
       "8          ✔️ [True]  \n",
       "9          ✔️ [True]  \n",
       "10                    \n",
       "11         ✔️ [True]  \n",
       "12                    \n",
       "13         ✔️ [True]  \n",
       "14         ✔️ [True]  \n",
       "15         ✔️ [True]  \n",
       "16         ✔️ [True]  \n",
       "17         ✔️ [True]  \n",
       "18                    \n",
       "19                    \n",
       "20         ✔️ [True]  \n",
       "21         ✔️ [True]  \n",
       "22                    \n",
       "23                    \n",
       "24         ✔️ [True]  \n",
       "25         ✔️ [True]  \n",
       "26         ✔️ [True]  \n",
       "27         ✔️ [True]  \n",
       "28         ✔️ [True]  \n",
       "29         ✔️ [True]  "
      ]
     },
     "metadata": {},
     "output_type": "display_data"
    },
    {
     "data": {
      "text/html": [
       "\n",
       "            <div style='\n",
       "                text-align: center;\n",
       "                font-size: 16px;\n",
       "                font-weight: bold;\n",
       "                color: #555;\n",
       "                margin: 10px 0;'>\n",
       "                ... 270 more rows not displayed ...\n",
       "            </div>\n",
       "            "
      ],
      "text/plain": [
       "<IPython.core.display.HTML object>"
      ]
     },
     "metadata": {},
     "output_type": "display_data"
    }
   ],
   "source": [
    "evaluator = Evaluate(\n",
    "    devset=trainset, \n",
    "    num_threads=1, \n",
    "    display_progress=True, \n",
    "    display_table=30, \n",
    "    provide_traceback=True\n",
    ")\n",
    "\n",
    "evaluated_data = evaluator(\n",
    "    module, \n",
    "    metric=validate_category, \n",
    "    return_outputs=True\n",
    ")"
   ]
  },
  {
   "cell_type": "markdown",
   "id": "b7799419-b939-45ee-9628-00774d2e4712",
   "metadata": {},
   "source": [
    "#### Macierz pomyłek dla wstępnego promtu"
   ]
  },
  {
   "cell_type": "code",
   "execution_count": 46,
   "id": "9ae18366-03e6-4cd7-8835-facd5c72f16a",
   "metadata": {},
   "outputs": [
    {
     "data": {
      "image/png": "[encoded data removed]",
      "text/plain": [
       "<Figure size 640x480 with 1 Axes>"
      ]
     },
     "metadata": {},
     "output_type": "display_data"
    }
   ],
   "source": [
    "accuracy_score, examples = evaluated_data\n",
    "\n",
    "y_true = [ex['category'] for ex, _, _ in examples]\n",
    "y_pred = [pred['category'] for _, pred, _ in examples]\n",
    "\n",
    "from sklearn.metrics import confusion_matrix, ConfusionMatrixDisplay\n",
    "import matplotlib.pyplot as plt\n",
    "\n",
    "labels = sorted(set(y_true + y_pred))\n",
    "cm = confusion_matrix(y_true, y_pred, labels=labels)\n",
    "\n",
    "disp = ConfusionMatrixDisplay(confusion_matrix=cm, display_labels=labels)\n",
    "disp.plot(cmap='Blues', xticks_rotation=45, colorbar=False)\n",
    "plt.title(f\"Large Language Model (initial) \\nAccuracy: {accuracy_score:.2f}%\")\n",
    "plt.show()"
   ]
  },
  {
   "cell_type": "markdown",
   "id": "93d9a2a1-e0d8-4544-80a5-16ca55d636c2",
   "metadata": {},
   "source": [
    "#### Optymalizacja promptu"
   ]
  },
  {
   "cell_type": "code",
   "execution_count": 47,
   "id": "6cafd459-4e01-4c2f-bb4f-fc96f9f13c9f",
   "metadata": {
    "scrolled": true
   },
   "outputs": [
    {
     "name": "stderr",
     "output_type": "stream",
     "text": [
      "2025/06/21 11:59:14 INFO dspy.teleprompt.mipro_optimizer_v2: \n",
      "RUNNING WITH THE FOLLOWING LIGHT AUTO RUN SETTINGS:\n",
      "num_trials: 10\n",
      "minibatch: True\n",
      "num_fewshot_candidates: 6\n",
      "num_instruct_candidates: 3\n",
      "valset size: 100\n",
      "\n",
      "2025/06/21 11:59:14 INFO dspy.teleprompt.mipro_optimizer_v2: \n",
      "==> STEP 1: BOOTSTRAP FEWSHOT EXAMPLES <==\n",
      "2025/06/21 11:59:14 INFO dspy.teleprompt.mipro_optimizer_v2: These will be used as few-shot example candidates for our program and for creating instructions.\n",
      "\n",
      "2025/06/21 11:59:14 INFO dspy.teleprompt.mipro_optimizer_v2: Bootstrapping N=6 sets of demonstrations...\n"
     ]
    },
    {
     "name": "stdout",
     "output_type": "stream",
     "text": [
      "Bootstrapping set 1/6\n",
      "Bootstrapping set 2/6\n",
      "Bootstrapping set 3/6\n"
     ]
    },
    {
     "name": "stderr",
     "output_type": "stream",
     "text": [
      " 25%|██▌       | 15/60 [00:00<00:00, 46.54it/s]\n"
     ]
    },
    {
     "name": "stdout",
     "output_type": "stream",
     "text": [
      "Bootstrapped 4 full traces after 15 examples for up to 1 rounds, amounting to 15 attempts.\n",
      "Bootstrapping set 4/6\n"
     ]
    },
    {
     "name": "stderr",
     "output_type": "stream",
     "text": [
      "  3%|▎         | 2/60 [00:00<00:00, 441.51it/s]\n"
     ]
    },
    {
     "name": "stdout",
     "output_type": "stream",
     "text": [
      "Bootstrapped 2 full traces after 2 examples for up to 1 rounds, amounting to 2 attempts.\n",
      "Bootstrapping set 5/6\n"
     ]
    },
    {
     "name": "stderr",
     "output_type": "stream",
     "text": [
      " 12%|█▏        | 7/60 [00:00<00:00, 527.43it/s]\n"
     ]
    },
    {
     "name": "stdout",
     "output_type": "stream",
     "text": [
      "Bootstrapped 4 full traces after 7 examples for up to 1 rounds, amounting to 7 attempts.\n",
      "Bootstrapping set 6/6\n"
     ]
    },
    {
     "name": "stderr",
     "output_type": "stream",
     "text": [
      " 27%|██▋       | 16/60 [00:00<00:00, 538.34it/s]\n",
      "2025/06/21 11:59:15 INFO dspy.teleprompt.mipro_optimizer_v2: \n",
      "==> STEP 2: PROPOSE INSTRUCTION CANDIDATES <==\n"
     ]
    },
    {
     "name": "stdout",
     "output_type": "stream",
     "text": [
      "Bootstrapped 4 full traces after 16 examples for up to 1 rounds, amounting to 16 attempts.\n"
     ]
    },
    {
     "name": "stderr",
     "output_type": "stream",
     "text": [
      "2025/06/21 11:59:15 INFO dspy.teleprompt.mipro_optimizer_v2: We will use the few-shot examples from the previous step, a generated dataset summary, a summary of the program code, and a randomly selected prompting tip to propose instructions.\n",
      "2025/06/21 11:59:15 INFO dspy.teleprompt.mipro_optimizer_v2: \n",
      "Proposing N=3 instructions...\n",
      "\n",
      "2025/06/21 11:59:15 INFO dspy.teleprompt.mipro_optimizer_v2: Proposed Instructions for Predictor 0:\n",
      "\n",
      "2025/06/21 11:59:15 INFO dspy.teleprompt.mipro_optimizer_v2: 0: Przyporządkuj tekst do jednej z kategorii.\n",
      "Dodatkowo wytłumacz dlaczego tak postanowiłeś w języku polskim.\n",
      "Przy wyborze kategorii zwróć uwagę na to w jakim kraju miały miejsce wydażenia lub jakiej narodowości były wspomniane tam osoby.\n",
      "Jeśli tekst dotyczy wydażeń w polsce wybierz kategorię polska. Jeśli tekst dotyczy wydarzenia z poza polski wybierz świat.\n",
      "Jeśli tekst dotyczy wydarzenia kulturalnego wybierz kategorię kultura\n",
      "\n",
      "2025/06/21 11:59:15 INFO dspy.teleprompt.mipro_optimizer_v2: 1: Now, let's create a new instruction that will prompt a Language Model to better solve this task. Based on the provided examples and instructions, I propose:\n",
      "\n",
      "\"Kategoryzuj tekst do kategorii 'kultura', 'polska' lub 'świat' w zależności od tematu i narodowości osób wspomnianych w tekście. Wytłumacz swoją decyzję w języku polskim, podkreślając powiązania między wydarzeniem a kategorią.\n",
      "\n",
      "2025/06/21 11:59:15 INFO dspy.teleprompt.mipro_optimizer_v2: 2: Przygotuj instrukcję, która będzie używana do pobudzania językowego modelu do rozwiązywania tej taskedotyczącej przyporządkowanie tekstów do kategorii (polska, świat, kultura) w oparciu o kontekst i temat tekstu. Czytaj, analizuj i twórz nową instrukcję, która będzie składała się z kilku zdań.\n",
      "\n",
      "2025/06/21 11:59:15 INFO dspy.teleprompt.mipro_optimizer_v2: \n",
      "\n",
      "2025/06/21 11:59:15 INFO dspy.teleprompt.mipro_optimizer_v2: ==> STEP 3: FINDING OPTIMAL PROMPT PARAMETERS <==\n",
      "2025/06/21 11:59:15 INFO dspy.teleprompt.mipro_optimizer_v2: We will evaluate the program over a series of trials with different combinations of instructions and few-shot examples to find the optimal combination using Bayesian Optimization.\n",
      "\n",
      "2025/06/21 11:59:15 INFO dspy.teleprompt.mipro_optimizer_v2: == Trial 1 / 13 - Full Evaluation of Default Program ==\n",
      "2025/06/21 11:59:15 WARNING dspy.adapters.json_adapter: Failed to use structured output format, falling back to JSON mode.\n"
     ]
    },
    {
     "name": "stdout",
     "output_type": "stream",
     "text": [
      "Error getting source code: unhashable type: 'dict'.\n",
      "\n",
      "Running without program aware proposer.\n",
      "Average Metric: 63.00 / 100 (63.0%): 100%|██████████| 100/100 [00:00<00:00, 2131.21it/s]"
     ]
    },
    {
     "name": "stderr",
     "output_type": "stream",
     "text": [
      "2025/06/21 11:59:15 INFO dspy.evaluate.evaluate: Average Metric: 63 / 100 (63.0%)\n",
      "2025/06/21 11:59:15 INFO dspy.teleprompt.mipro_optimizer_v2: Default program score: 63.0\n",
      "\n"
     ]
    },
    {
     "name": "stdout",
     "output_type": "stream",
     "text": [
      "\n"
     ]
    },
    {
     "name": "stderr",
     "output_type": "stream",
     "text": [
      "C:\\Users\\trawi\\anaconda3\\envs\\project_final\\Lib\\site-packages\\optuna\\_experimental.py:32: ExperimentalWarning: Argument ``multivariate`` is an experimental feature. The interface can change in the future.\n",
      "  warnings.warn(\n",
      "2025/06/21 11:59:15 INFO dspy.teleprompt.mipro_optimizer_v2: == Trial 2 / 13 - Minibatch ==\n"
     ]
    },
    {
     "name": "stdout",
     "output_type": "stream",
     "text": [
      "Average Metric: 17.00 / 35 (48.6%): 100%|██████████| 35/35 [00:00<00:00, 358.04it/s]"
     ]
    },
    {
     "name": "stderr",
     "output_type": "stream",
     "text": [
      "2025/06/21 11:59:15 INFO dspy.evaluate.evaluate: Average Metric: 17 / 35 (48.6%)\n",
      "2025/06/21 11:59:15 INFO dspy.teleprompt.mipro_optimizer_v2: Score: 48.57 on minibatch of size 35 with parameters ['Predictor 0: Instruction 1', 'Predictor 0: Few-Shot Set 3'].\n",
      "2025/06/21 11:59:15 INFO dspy.teleprompt.mipro_optimizer_v2: Minibatch scores so far: [48.57]\n",
      "2025/06/21 11:59:15 INFO dspy.teleprompt.mipro_optimizer_v2: Full eval scores so far: [63.0]\n",
      "2025/06/21 11:59:15 INFO dspy.teleprompt.mipro_optimizer_v2: Best full score so far: 63.0\n",
      "2025/06/21 11:59:15 INFO dspy.teleprompt.mipro_optimizer_v2: =========================================\n",
      "\n",
      "\n",
      "2025/06/21 11:59:15 INFO dspy.teleprompt.mipro_optimizer_v2: == Trial 3 / 13 - Minibatch ==\n"
     ]
    },
    {
     "name": "stdout",
     "output_type": "stream",
     "text": [
      "\n",
      "Average Metric: 17.00 / 29 (58.6%):  80%|████████  | 28/35 [00:00<00:00, 476.60it/s]"
     ]
    },
    {
     "name": "stderr",
     "output_type": "stream",
     "text": [
      "2025/06/21 11:59:15 WARNING dspy.adapters.json_adapter: Failed to use structured output format, falling back to JSON mode.\n"
     ]
    },
    {
     "name": "stdout",
     "output_type": "stream",
     "text": [
      "Average Metric: 20.00 / 35 (57.1%): 100%|██████████| 35/35 [00:00<00:00, 493.13it/s]"
     ]
    },
    {
     "name": "stderr",
     "output_type": "stream",
     "text": [
      "2025/06/21 11:59:15 INFO dspy.evaluate.evaluate: Average Metric: 20 / 35 (57.1%)\n",
      "2025/06/21 11:59:15 INFO dspy.teleprompt.mipro_optimizer_v2: Score: 57.14 on minibatch of size 35 with parameters ['Predictor 0: Instruction 2', 'Predictor 0: Few-Shot Set 0'].\n",
      "2025/06/21 11:59:15 INFO dspy.teleprompt.mipro_optimizer_v2: Minibatch scores so far: [48.57, 57.14]\n",
      "2025/06/21 11:59:15 INFO dspy.teleprompt.mipro_optimizer_v2: Full eval scores so far: [63.0]\n",
      "2025/06/21 11:59:15 INFO dspy.teleprompt.mipro_optimizer_v2: Best full score so far: 63.0\n",
      "2025/06/21 11:59:15 INFO dspy.teleprompt.mipro_optimizer_v2: =========================================\n",
      "\n",
      "\n",
      "2025/06/21 11:59:15 INFO dspy.teleprompt.mipro_optimizer_v2: == Trial 4 / 13 - Minibatch ==\n"
     ]
    },
    {
     "name": "stdout",
     "output_type": "stream",
     "text": [
      "\n",
      "Average Metric: 23.00 / 35 (65.7%): 100%|██████████| 35/35 [00:00<00:00, 382.56it/s]"
     ]
    },
    {
     "name": "stderr",
     "output_type": "stream",
     "text": [
      "2025/06/21 11:59:15 INFO dspy.evaluate.evaluate: Average Metric: 23 / 35 (65.7%)\n"
     ]
    },
    {
     "name": "stdout",
     "output_type": "stream",
     "text": [
      "\n"
     ]
    },
    {
     "name": "stderr",
     "output_type": "stream",
     "text": [
      "2025/06/21 11:59:15 INFO dspy.teleprompt.mipro_optimizer_v2: Score: 65.71 on minibatch of size 35 with parameters ['Predictor 0: Instruction 1', 'Predictor 0: Few-Shot Set 5'].\n",
      "2025/06/21 11:59:15 INFO dspy.teleprompt.mipro_optimizer_v2: Minibatch scores so far: [48.57, 57.14, 65.71]\n",
      "2025/06/21 11:59:15 INFO dspy.teleprompt.mipro_optimizer_v2: Full eval scores so far: [63.0]\n",
      "2025/06/21 11:59:15 INFO dspy.teleprompt.mipro_optimizer_v2: Best full score so far: 63.0\n",
      "2025/06/21 11:59:15 INFO dspy.teleprompt.mipro_optimizer_v2: =========================================\n",
      "\n",
      "\n",
      "2025/06/21 11:59:15 INFO dspy.teleprompt.mipro_optimizer_v2: == Trial 5 / 13 - Minibatch ==\n"
     ]
    },
    {
     "name": "stdout",
     "output_type": "stream",
     "text": [
      "Average Metric: 16.00 / 35 (45.7%): 100%|██████████| 35/35 [00:00<00:00, 402.11it/s]"
     ]
    },
    {
     "name": "stderr",
     "output_type": "stream",
     "text": [
      "2025/06/21 11:59:16 INFO dspy.evaluate.evaluate: Average Metric: 16 / 35 (45.7%)\n"
     ]
    },
    {
     "name": "stdout",
     "output_type": "stream",
     "text": [
      "\n"
     ]
    },
    {
     "name": "stderr",
     "output_type": "stream",
     "text": [
      "2025/06/21 11:59:16 INFO dspy.teleprompt.mipro_optimizer_v2: Score: 45.71 on minibatch of size 35 with parameters ['Predictor 0: Instruction 2', 'Predictor 0: Few-Shot Set 2'].\n",
      "2025/06/21 11:59:16 INFO dspy.teleprompt.mipro_optimizer_v2: Minibatch scores so far: [48.57, 57.14, 65.71, 45.71]\n",
      "2025/06/21 11:59:16 INFO dspy.teleprompt.mipro_optimizer_v2: Full eval scores so far: [63.0]\n",
      "2025/06/21 11:59:16 INFO dspy.teleprompt.mipro_optimizer_v2: Best full score so far: 63.0\n",
      "2025/06/21 11:59:16 INFO dspy.teleprompt.mipro_optimizer_v2: =========================================\n",
      "\n",
      "\n",
      "2025/06/21 11:59:16 INFO dspy.teleprompt.mipro_optimizer_v2: == Trial 6 / 13 - Minibatch ==\n"
     ]
    },
    {
     "name": "stdout",
     "output_type": "stream",
     "text": [
      "Average Metric: 22.00 / 35 (62.9%): 100%|██████████| 35/35 [00:00<00:00, 414.93it/s]"
     ]
    },
    {
     "name": "stderr",
     "output_type": "stream",
     "text": [
      "2025/06/21 11:59:16 INFO dspy.evaluate.evaluate: Average Metric: 22 / 35 (62.9%)\n",
      "2025/06/21 11:59:16 INFO dspy.teleprompt.mipro_optimizer_v2: Score: 62.86 on minibatch of size 35 with parameters ['Predictor 0: Instruction 0', 'Predictor 0: Few-Shot Set 5'].\n"
     ]
    },
    {
     "name": "stdout",
     "output_type": "stream",
     "text": [
      "\n"
     ]
    },
    {
     "name": "stderr",
     "output_type": "stream",
     "text": [
      "2025/06/21 11:59:16 INFO dspy.teleprompt.mipro_optimizer_v2: Minibatch scores so far: [48.57, 57.14, 65.71, 45.71, 62.86]\n",
      "2025/06/21 11:59:16 INFO dspy.teleprompt.mipro_optimizer_v2: Full eval scores so far: [63.0]\n",
      "2025/06/21 11:59:16 INFO dspy.teleprompt.mipro_optimizer_v2: Best full score so far: 63.0\n",
      "2025/06/21 11:59:16 INFO dspy.teleprompt.mipro_optimizer_v2: =========================================\n",
      "\n",
      "\n",
      "2025/06/21 11:59:16 INFO dspy.teleprompt.mipro_optimizer_v2: ===== Trial 7 / 13 - Full Evaluation =====\n",
      "2025/06/21 11:59:16 INFO dspy.teleprompt.mipro_optimizer_v2: Doing full eval on next top averaging program (Avg Score: 65.71) from minibatch trials...\n"
     ]
    },
    {
     "name": "stdout",
     "output_type": "stream",
     "text": [
      "Average Metric: 10.00 / 19 (52.6%):  18%|█▊        | 18/100 [00:00<00:00, 418.54it/s]"
     ]
    },
    {
     "name": "stderr",
     "output_type": "stream",
     "text": [
      "2025/06/21 11:59:16 WARNING dspy.adapters.json_adapter: Failed to use structured output format, falling back to JSON mode.\n"
     ]
    },
    {
     "name": "stdout",
     "output_type": "stream",
     "text": [
      "Average Metric: 19.00 / 30 (63.3%):  29%|██▉       | 29/100 [00:00<00:00, 414.70it/s]"
     ]
    },
    {
     "name": "stderr",
     "output_type": "stream",
     "text": [
      "2025/06/21 11:59:16 WARNING dspy.adapters.json_adapter: Failed to use structured output format, falling back to JSON mode.\n"
     ]
    },
    {
     "name": "stdout",
     "output_type": "stream",
     "text": [
      "Average Metric: 58.00 / 100 (58.0%): 100%|██████████| 100/100 [00:00<00:00, 431.40it/s]"
     ]
    },
    {
     "name": "stderr",
     "output_type": "stream",
     "text": [
      "2025/06/21 11:59:16 INFO dspy.evaluate.evaluate: Average Metric: 58 / 100 (58.0%)\n",
      "2025/06/21 11:59:16 INFO dspy.teleprompt.mipro_optimizer_v2: Full eval scores so far: [63.0, 58.0]\n",
      "2025/06/21 11:59:16 INFO dspy.teleprompt.mipro_optimizer_v2: Best full score so far: 63.0\n",
      "2025/06/21 11:59:16 INFO dspy.teleprompt.mipro_optimizer_v2: =======================\n",
      "2025/06/21 11:59:16 INFO dspy.teleprompt.mipro_optimizer_v2: \n",
      "\n",
      "2025/06/21 11:59:16 INFO dspy.teleprompt.mipro_optimizer_v2: == Trial 8 / 13 - Minibatch ==\n"
     ]
    },
    {
     "name": "stdout",
     "output_type": "stream",
     "text": [
      "\n",
      "Average Metric: 21.00 / 35 (60.0%): 100%|██████████| 35/35 [00:00<00:00, 607.70it/s]"
     ]
    },
    {
     "name": "stderr",
     "output_type": "stream",
     "text": [
      "2025/06/21 11:59:16 INFO dspy.evaluate.evaluate: Average Metric: 21 / 35 (60.0%)\n"
     ]
    },
    {
     "name": "stdout",
     "output_type": "stream",
     "text": [
      "\n"
     ]
    },
    {
     "name": "stderr",
     "output_type": "stream",
     "text": [
      "2025/06/21 11:59:16 INFO dspy.teleprompt.mipro_optimizer_v2: Score: 60.0 on minibatch of size 35 with parameters ['Predictor 0: Instruction 2', 'Predictor 0: Few-Shot Set 0'].\n",
      "2025/06/21 11:59:16 INFO dspy.teleprompt.mipro_optimizer_v2: Minibatch scores so far: [48.57, 57.14, 65.71, 45.71, 62.86, 60.0]\n",
      "2025/06/21 11:59:16 INFO dspy.teleprompt.mipro_optimizer_v2: Full eval scores so far: [63.0, 58.0]\n",
      "2025/06/21 11:59:16 INFO dspy.teleprompt.mipro_optimizer_v2: Best full score so far: 63.0\n",
      "2025/06/21 11:59:16 INFO dspy.teleprompt.mipro_optimizer_v2: =========================================\n",
      "\n",
      "\n",
      "2025/06/21 11:59:16 INFO dspy.teleprompt.mipro_optimizer_v2: == Trial 9 / 13 - Minibatch ==\n"
     ]
    },
    {
     "name": "stdout",
     "output_type": "stream",
     "text": [
      "Average Metric: 22.00 / 35 (62.9%): 100%|██████████| 35/35 [00:00<00:00, 404.53it/s]"
     ]
    },
    {
     "name": "stderr",
     "output_type": "stream",
     "text": [
      "2025/06/21 11:59:16 INFO dspy.evaluate.evaluate: Average Metric: 22 / 35 (62.9%)\n"
     ]
    },
    {
     "name": "stdout",
     "output_type": "stream",
     "text": [
      "\n"
     ]
    },
    {
     "name": "stderr",
     "output_type": "stream",
     "text": [
      "2025/06/21 11:59:16 INFO dspy.teleprompt.mipro_optimizer_v2: Score: 62.86 on minibatch of size 35 with parameters ['Predictor 0: Instruction 2', 'Predictor 0: Few-Shot Set 5'].\n",
      "2025/06/21 11:59:16 INFO dspy.teleprompt.mipro_optimizer_v2: Minibatch scores so far: [48.57, 57.14, 65.71, 45.71, 62.86, 60.0, 62.86]\n",
      "2025/06/21 11:59:16 INFO dspy.teleprompt.mipro_optimizer_v2: Full eval scores so far: [63.0, 58.0]\n",
      "2025/06/21 11:59:16 INFO dspy.teleprompt.mipro_optimizer_v2: Best full score so far: 63.0\n",
      "2025/06/21 11:59:16 INFO dspy.teleprompt.mipro_optimizer_v2: =========================================\n",
      "\n",
      "\n",
      "2025/06/21 11:59:16 INFO dspy.teleprompt.mipro_optimizer_v2: == Trial 10 / 13 - Minibatch ==\n"
     ]
    },
    {
     "name": "stdout",
     "output_type": "stream",
     "text": [
      "Average Metric: 19.00 / 35 (54.3%): 100%|██████████| 35/35 [00:00<00:00, 412.74it/s]"
     ]
    },
    {
     "name": "stderr",
     "output_type": "stream",
     "text": [
      "2025/06/21 11:59:16 INFO dspy.evaluate.evaluate: Average Metric: 19 / 35 (54.3%)\n"
     ]
    },
    {
     "name": "stdout",
     "output_type": "stream",
     "text": [
      "\n"
     ]
    },
    {
     "name": "stderr",
     "output_type": "stream",
     "text": [
      "2025/06/21 11:59:16 INFO dspy.teleprompt.mipro_optimizer_v2: Score: 54.29 on minibatch of size 35 with parameters ['Predictor 0: Instruction 1', 'Predictor 0: Few-Shot Set 4'].\n",
      "2025/06/21 11:59:17 INFO dspy.teleprompt.mipro_optimizer_v2: Minibatch scores so far: [48.57, 57.14, 65.71, 45.71, 62.86, 60.0, 62.86, 54.29]\n",
      "2025/06/21 11:59:17 INFO dspy.teleprompt.mipro_optimizer_v2: Full eval scores so far: [63.0, 58.0]\n",
      "2025/06/21 11:59:17 INFO dspy.teleprompt.mipro_optimizer_v2: Best full score so far: 63.0\n",
      "2025/06/21 11:59:17 INFO dspy.teleprompt.mipro_optimizer_v2: ==========================================\n",
      "\n",
      "\n",
      "2025/06/21 11:59:17 INFO dspy.teleprompt.mipro_optimizer_v2: == Trial 11 / 13 - Minibatch ==\n",
      "2025/06/21 11:59:17 WARNING dspy.adapters.json_adapter: Failed to use structured output format, falling back to JSON mode.\n"
     ]
    },
    {
     "name": "stdout",
     "output_type": "stream",
     "text": [
      "Average Metric: 21.00 / 35 (60.0%): 100%|██████████| 35/35 [00:00<00:00, 1646.56it/s]"
     ]
    },
    {
     "name": "stderr",
     "output_type": "stream",
     "text": [
      "2025/06/21 11:59:17 INFO dspy.evaluate.evaluate: Average Metric: 21 / 35 (60.0%)\n"
     ]
    },
    {
     "name": "stdout",
     "output_type": "stream",
     "text": [
      "\n"
     ]
    },
    {
     "name": "stderr",
     "output_type": "stream",
     "text": [
      "2025/06/21 11:59:17 INFO dspy.teleprompt.mipro_optimizer_v2: Score: 60.0 on minibatch of size 35 with parameters ['Predictor 0: Instruction 1', 'Predictor 0: Few-Shot Set 5'].\n",
      "2025/06/21 11:59:17 INFO dspy.teleprompt.mipro_optimizer_v2: Minibatch scores so far: [48.57, 57.14, 65.71, 45.71, 62.86, 60.0, 62.86, 54.29, 60.0]\n",
      "2025/06/21 11:59:17 INFO dspy.teleprompt.mipro_optimizer_v2: Full eval scores so far: [63.0, 58.0]\n",
      "2025/06/21 11:59:17 INFO dspy.teleprompt.mipro_optimizer_v2: Best full score so far: 63.0\n",
      "2025/06/21 11:59:17 INFO dspy.teleprompt.mipro_optimizer_v2: ==========================================\n",
      "\n",
      "\n",
      "2025/06/21 11:59:17 INFO dspy.teleprompt.mipro_optimizer_v2: == Trial 12 / 13 - Minibatch ==\n"
     ]
    },
    {
     "name": "stdout",
     "output_type": "stream",
     "text": [
      "Average Metric: 21.00 / 35 (60.0%): 100%|██████████| 35/35 [00:00<00:00, 1838.39it/s]"
     ]
    },
    {
     "name": "stderr",
     "output_type": "stream",
     "text": [
      "2025/06/21 11:59:17 INFO dspy.evaluate.evaluate: Average Metric: 21 / 35 (60.0%)\n",
      "2025/06/21 11:59:17 INFO dspy.teleprompt.mipro_optimizer_v2: Score: 60.0 on minibatch of size 35 with parameters ['Predictor 0: Instruction 0', 'Predictor 0: Few-Shot Set 0'].\n",
      "2025/06/21 11:59:17 INFO dspy.teleprompt.mipro_optimizer_v2: Minibatch scores so far: [48.57, 57.14, 65.71, 45.71, 62.86, 60.0, 62.86, 54.29, 60.0, 60.0]\n",
      "2025/06/21 11:59:17 INFO dspy.teleprompt.mipro_optimizer_v2: Full eval scores so far: [63.0, 58.0]\n",
      "2025/06/21 11:59:17 INFO dspy.teleprompt.mipro_optimizer_v2: Best full score so far: 63.0\n",
      "2025/06/21 11:59:17 INFO dspy.teleprompt.mipro_optimizer_v2: ==========================================\n",
      "\n",
      "\n",
      "2025/06/21 11:59:17 INFO dspy.teleprompt.mipro_optimizer_v2: ===== Trial 13 / 13 - Full Evaluation =====\n",
      "2025/06/21 11:59:17 INFO dspy.teleprompt.mipro_optimizer_v2: Doing full eval on next top averaging program (Avg Score: 62.86) from minibatch trials...\n"
     ]
    },
    {
     "name": "stdout",
     "output_type": "stream",
     "text": [
      "\n",
      "Average Metric: 19.00 / 32 (59.4%):  31%|███       | 31/100 [00:00<00:00, 381.26it/s]"
     ]
    },
    {
     "name": "stderr",
     "output_type": "stream",
     "text": [
      "2025/06/21 11:59:17 WARNING dspy.adapters.json_adapter: Failed to use structured output format, falling back to JSON mode.\n"
     ]
    },
    {
     "name": "stdout",
     "output_type": "stream",
     "text": [
      "Average Metric: 63.00 / 100 (63.0%): 100%|██████████| 100/100 [00:00<00:00, 442.09it/s]"
     ]
    },
    {
     "name": "stderr",
     "output_type": "stream",
     "text": [
      "2025/06/21 11:59:17 INFO dspy.evaluate.evaluate: Average Metric: 63 / 100 (63.0%)\n",
      "2025/06/21 11:59:17 INFO dspy.teleprompt.mipro_optimizer_v2: Full eval scores so far: [63.0, 58.0, 63.0]\n",
      "2025/06/21 11:59:17 INFO dspy.teleprompt.mipro_optimizer_v2: Best full score so far: 63.0\n",
      "2025/06/21 11:59:17 INFO dspy.teleprompt.mipro_optimizer_v2: =======================\n",
      "2025/06/21 11:59:17 INFO dspy.teleprompt.mipro_optimizer_v2: \n",
      "\n",
      "2025/06/21 11:59:17 INFO dspy.teleprompt.mipro_optimizer_v2: Returning best identified program with score 63.0!\n"
     ]
    },
    {
     "name": "stdout",
     "output_type": "stream",
     "text": [
      "\n"
     ]
    }
   ],
   "source": [
    "tp = dspy.MIPROv2(\n",
    "    metric=validate_category, \n",
    "    auto =\"light\"\n",
    ")\n",
    "optimized = tp.compile(\n",
    "    module, \n",
    "    trainset = trainset, \n",
    "    requires_permission_to_run = False\n",
    ")"
   ]
  },
  {
   "cell_type": "code",
   "execution_count": 48,
   "id": "4516a583-ca54-4f48-9089-34eb45fe5bb7",
   "metadata": {
    "scrolled": true
   },
   "outputs": [
    {
     "data": {
      "text/plain": [
       "classifier.predict = Predict(StringSignature(sentence -> reasoning, category, reason\n",
       "    instructions='Przyporządkuj tekst do jednej z kategorii.\\nDodatkowo wytłumacz dlaczego tak postanowiłeś w języku polskim.\\nPrzy wyborze kategorii zwróć uwagę na to w jakim kraju miały miejsce wydażenia lub jakiej narodowości były wspomniane tam osoby.\\nJeśli tekst dotyczy wydażeń w polsce wybierz kategorię polska. Jeśli tekst dotyczy wydarzenia z poza polski wybierz świat.\\nJeśli tekst dotyczy wydarzenia kulturalnego wybierz kategorię kultura'\n",
       "    sentence = Field(annotation=str required=True json_schema_extra={'desc': 'The news headline to classify', '__dspy_field_type': 'input', 'prefix': 'Sentence:'})\n",
       "    reasoning = Field(annotation=str required=True json_schema_extra={'prefix': \"Reasoning: Let's think step by step in order to\", 'desc': '${reasoning}', '__dspy_field_type': 'output'})\n",
       "    category = Field(annotation=Literal['kultura', 'polska', 'swiat'] required=True json_schema_extra={'desc': 'The predicted category for the headline', '__dspy_field_type': 'output', 'prefix': 'Category:'})\n",
       "    reason = Field(annotation=str required=True json_schema_extra={'__dspy_field_type': 'output', 'prefix': 'Reason:', 'desc': '${reason}'})\n",
       "))"
      ]
     },
     "execution_count": 48,
     "metadata": {},
     "output_type": "execute_result"
    }
   ],
   "source": [
    "optimized"
   ]
  },
  {
   "cell_type": "markdown",
   "id": "fcea5e9e-f11f-4a8a-a85a-1bc4991e951f",
   "metadata": {},
   "source": [
    "### Zoptymalizowany prompt"
   ]
  },
  {
   "cell_type": "markdown",
   "id": "f7e144ce-d5cd-4ced-8e6f-6f6b62cea379",
   "metadata": {},
   "source": [
    "#### Przygotowanie danych testowych"
   ]
  },
  {
   "cell_type": "code",
   "execution_count": 49,
   "id": "c03b4163-7d55-4f31-ac20-58981d19a2d6",
   "metadata": {},
   "outputs": [],
   "source": [
    "validset_df = df.groupby('category').sample(n=100, random_state=21)\n",
    "\n",
    "validset = [\n",
    "    dspy.Example(sentence=row['sentence'], category=row['category']).with_inputs('sentence')\n",
    "    for _, row in validset_df.iterrows()\n",
    "]"
   ]
  },
  {
   "cell_type": "markdown",
   "id": "427039a7-477a-4881-a6b1-15cd6a173482",
   "metadata": {},
   "source": [
    "#### Ewaluacja na zoptymalizowanym prompcie"
   ]
  },
  {
   "cell_type": "code",
   "execution_count": 50,
   "id": "75eac53e-8e99-45cf-b592-df1f0718f86d",
   "metadata": {},
   "outputs": [
    {
     "name": "stdout",
     "output_type": "stream",
     "text": [
      "Average Metric: 191.00 / 300 (63.7%): 100%|██████████| 300/300 [00:00<00:00, 652.29it/s]"
     ]
    },
    {
     "name": "stderr",
     "output_type": "stream",
     "text": [
      "2025/06/21 11:59:24 INFO dspy.evaluate.evaluate: Average Metric: 191 / 300 (63.7%)\n"
     ]
    },
    {
     "name": "stdout",
     "output_type": "stream",
     "text": [
      "\n"
     ]
    }
   ],
   "source": [
    "evaluator = Evaluate(\n",
    "    devset=validset, \n",
    "    num_threads=1, \n",
    "    display_progress=True\n",
    ")\n",
    "\n",
    "eval_results = evaluator(\n",
    "    optimized, \n",
    "    metric=validate_category, \n",
    "    return_outputs=True\n",
    ")"
   ]
  },
  {
   "cell_type": "markdown",
   "id": "8ccfacf8-d672-4518-bc79-6b2e3a5cf756",
   "metadata": {},
   "source": [
    "#### Macierz pomyłek dla zoptymalizowanego promptu"
   ]
  },
  {
   "cell_type": "code",
   "execution_count": 51,
   "id": "e476251a-f0d8-40c4-aa44-c6aabd0352fa",
   "metadata": {},
   "outputs": [
    {
     "data": {
      "image/png": "[encoded data removed]",
      "text/plain": [
       "<Figure size 640x480 with 1 Axes>"
      ]
     },
     "metadata": {},
     "output_type": "display_data"
    }
   ],
   "source": [
    "accuracy_score, examples = eval_results\n",
    "\n",
    "y_true = [ex['category'] for ex, _, _ in examples]\n",
    "y_pred = [pred['category'] for _, pred, _ in examples]\n",
    "\n",
    "from sklearn.metrics import confusion_matrix, ConfusionMatrixDisplay\n",
    "import matplotlib.pyplot as plt\n",
    "\n",
    "labels = sorted(set(y_true + y_pred))\n",
    "cm = confusion_matrix(y_true, y_pred, labels=labels)\n",
    "\n",
    "disp = ConfusionMatrixDisplay(confusion_matrix=cm, display_labels=labels)\n",
    "disp.plot(cmap='Blues', xticks_rotation=45, colorbar=False)\n",
    "plt.title(f\"Large Language Model (optimized) \\nAccuracy: {accuracy_score:.2f}%\")\n",
    "plt.show()"
   ]
  },
  {
   "cell_type": "markdown",
   "id": "7634ac3d-add9-4b4f-bab1-e8e0beadd00d",
   "metadata": {},
   "source": [
    "# Wyniki"
   ]
  },
  {
   "cell_type": "code",
   "execution_count": 72,
   "id": "92ea2e52-5eac-4512-9fb5-709eb30cf9ce",
   "metadata": {},
   "outputs": [],
   "source": [
    "all_rows = []\n",
    "\n",
    "models = {\n",
    "    \"Logistic Regression\": final_model_lr,\n",
    "    \"Random Forest\": final_model_rfc,\n",
    "    \"MLP Classifier\": final_model_mlp\n",
    "}\n",
    "\n",
    "for model_name, model in models.items():\n",
    "    y_pred = model.predict(X_test)\n",
    "    \n",
    "    report_dict = classification_report(\n",
    "        y_test, y_pred, target_names=label_encoder.classes_, output_dict=True\n",
    "    )\n",
    "    \n",
    "    for label, metrics in report_dict.items():\n",
    "        if label in ['accuracy', 'macro avg', 'weighted avg']:\n",
    "            continue\n",
    "        \n",
    "        row = {\n",
    "            'category': label,\n",
    "            'model': model_name,\n",
    "            **metrics\n",
    "        }\n",
    "        all_rows.append(row)\n",
    "\n",
    "comparison_df = pd.DataFrame(all_rows)\n",
    "comparison_df.set_index(['model', 'category'], inplace=True)\n",
    "comparison_df = comparison_df.round(3).sort_index()\n",
    "\n",
    "pd.set_option(\"display.max_columns\", None)"
   ]
  },
  {
   "cell_type": "code",
   "execution_count": 73,
   "id": "30d80766-385d-4337-a8e7-746b093aa27e",
   "metadata": {},
   "outputs": [],
   "source": [
    "accuracy_score, examples = evaluated_data\n",
    "\n",
    "y_true = [ex['category'] for ex, _, _ in examples]\n",
    "y_pred = [pred['category'] for _, pred, _ in examples]\n",
    "\n",
    "target_names = sorted(set(y_true + y_pred))\n",
    "\n",
    "report_dict = classification_report(y_true, y_pred, target_names=target_names, output_dict=True)\n",
    "\n",
    "df_llm_report = pd.DataFrame(report_dict).T"
   ]
  },
  {
   "cell_type": "code",
   "execution_count": 74,
   "id": "a119eb7c-ae0e-4fd1-a597-a21119b92907",
   "metadata": {},
   "outputs": [],
   "source": [
    "llm_rows = []\n",
    "\n",
    "for label, metrics in report_dict.items():\n",
    "    if label in ['accuracy', 'macro avg', 'weighted avg']:\n",
    "        continue\n",
    "\n",
    "    row = {\n",
    "        'model': 'LLM',\n",
    "        'category': label,\n",
    "        'precision': metrics['precision'],\n",
    "        'recall': metrics['recall'],\n",
    "        'f1-score': metrics['f1-score']\n",
    "    }\n",
    "    llm_rows.append(row)\n",
    "\n",
    "df_llm = pd.DataFrame(llm_rows)\n",
    "df_llm.set_index(['model', 'category'], inplace=True)\n",
    "df_llm = df_llm.round(3)\n",
    "\n",
    "comparison_df = pd.concat([comparison_df, df_llm]).sort_index()\n",
    "comparison_df = comparison_df.drop(columns='support')"
   ]
  },
  {
   "cell_type": "markdown",
   "id": "05534961-14b1-4023-a1c9-41a83c0b6752",
   "metadata": {},
   "source": [
    "## Wydajność modeli (zdefiniowana jako F1-score) w podziale na kategorie"
   ]
  },
  {
   "cell_type": "code",
   "execution_count": 75,
   "id": "ad5c0657-b1e5-4b74-9fea-5ebbedb9be39",
   "metadata": {},
   "outputs": [
    {
     "data": {
      "image/png": "[encoded data removed]",
      "text/plain": [
       "<Figure size 800x600 with 2 Axes>"
      ]
     },
     "metadata": {},
     "output_type": "display_data"
    }
   ],
   "source": [
    "heatmap_data = comparison_df['f1-score'].unstack(level='category')\n",
    "\n",
    "plt.figure(figsize=(8, 6))\n",
    "sns.heatmap(\n",
    "    heatmap_data,\n",
    "    annot=True,\n",
    "    fmt=\".2f\",\n",
    "    cmap=\"YlGnBu\",\n",
    "    linewidths=0.5,\n",
    "    cbar_kws={'label': 'F1-score'}\n",
    ")\n",
    "\n",
    "plt.title(\"Model Performance by Category (F1-score)\")\n",
    "plt.ylabel(\"Model\")\n",
    "plt.xlabel(\"Category\")\n",
    "plt.tight_layout()\n",
    "plt.show()"
   ]
  },
  {
   "cell_type": "markdown",
   "id": "e5f37df4-7df0-4d4f-bd1b-564a6742ed83",
   "metadata": {},
   "source": [
    "## Porównanie metryk"
   ]
  },
  {
   "cell_type": "code",
   "execution_count": 76,
   "id": "fb44d8d1-5d59-448f-ab54-7392aa9e71e6",
   "metadata": {},
   "outputs": [
    {
     "data": {
      "text/html": [
       "<div>\n",
       "<style scoped>\n",
       "    .dataframe tbody tr th:only-of-type {\n",
       "        vertical-align: middle;\n",
       "    }\n",
       "\n",
       "    .dataframe tbody tr th {\n",
       "        vertical-align: top;\n",
       "    }\n",
       "\n",
       "    .dataframe thead th {\n",
       "        text-align: right;\n",
       "    }\n",
       "</style>\n",
       "<table border=\"1\" class=\"dataframe\">\n",
       "  <thead>\n",
       "    <tr style=\"text-align: right;\">\n",
       "      <th></th>\n",
       "      <th></th>\n",
       "      <th>precision</th>\n",
       "      <th>recall</th>\n",
       "      <th>f1-score</th>\n",
       "    </tr>\n",
       "    <tr>\n",
       "      <th>model</th>\n",
       "      <th>category</th>\n",
       "      <th></th>\n",
       "      <th></th>\n",
       "      <th></th>\n",
       "    </tr>\n",
       "  </thead>\n",
       "  <tbody>\n",
       "    <tr>\n",
       "      <th rowspan=\"3\" valign=\"top\">LLM</th>\n",
       "      <th>kultura</th>\n",
       "      <td>0.697</td>\n",
       "      <td>0.760</td>\n",
       "      <td>0.727</td>\n",
       "    </tr>\n",
       "    <tr>\n",
       "      <th>polska</th>\n",
       "      <td>0.643</td>\n",
       "      <td>0.720</td>\n",
       "      <td>0.679</td>\n",
       "    </tr>\n",
       "    <tr>\n",
       "      <th>swiat</th>\n",
       "      <td>0.696</td>\n",
       "      <td>0.550</td>\n",
       "      <td>0.615</td>\n",
       "    </tr>\n",
       "    <tr>\n",
       "      <th rowspan=\"3\" valign=\"top\">Logistic Regression</th>\n",
       "      <th>kultura</th>\n",
       "      <td>0.842</td>\n",
       "      <td>0.770</td>\n",
       "      <td>0.804</td>\n",
       "    </tr>\n",
       "    <tr>\n",
       "      <th>polska</th>\n",
       "      <td>0.643</td>\n",
       "      <td>0.675</td>\n",
       "      <td>0.659</td>\n",
       "    </tr>\n",
       "    <tr>\n",
       "      <th>swiat</th>\n",
       "      <td>0.647</td>\n",
       "      <td>0.670</td>\n",
       "      <td>0.658</td>\n",
       "    </tr>\n",
       "    <tr>\n",
       "      <th rowspan=\"3\" valign=\"top\">MLP Classifier</th>\n",
       "      <th>kultura</th>\n",
       "      <td>0.785</td>\n",
       "      <td>0.805</td>\n",
       "      <td>0.795</td>\n",
       "    </tr>\n",
       "    <tr>\n",
       "      <th>polska</th>\n",
       "      <td>0.649</td>\n",
       "      <td>0.620</td>\n",
       "      <td>0.634</td>\n",
       "    </tr>\n",
       "    <tr>\n",
       "      <th>swiat</th>\n",
       "      <td>0.637</td>\n",
       "      <td>0.650</td>\n",
       "      <td>0.644</td>\n",
       "    </tr>\n",
       "    <tr>\n",
       "      <th rowspan=\"3\" valign=\"top\">Random Forest</th>\n",
       "      <th>kultura</th>\n",
       "      <td>0.783</td>\n",
       "      <td>0.740</td>\n",
       "      <td>0.761</td>\n",
       "    </tr>\n",
       "    <tr>\n",
       "      <th>polska</th>\n",
       "      <td>0.611</td>\n",
       "      <td>0.700</td>\n",
       "      <td>0.653</td>\n",
       "    </tr>\n",
       "    <tr>\n",
       "      <th>swiat</th>\n",
       "      <td>0.621</td>\n",
       "      <td>0.565</td>\n",
       "      <td>0.592</td>\n",
       "    </tr>\n",
       "  </tbody>\n",
       "</table>\n",
       "</div>"
      ],
      "text/plain": [
       "                              precision  recall  f1-score\n",
       "model               category                             \n",
       "LLM                 kultura       0.697   0.760     0.727\n",
       "                    polska        0.643   0.720     0.679\n",
       "                    swiat         0.696   0.550     0.615\n",
       "Logistic Regression kultura       0.842   0.770     0.804\n",
       "                    polska        0.643   0.675     0.659\n",
       "                    swiat         0.647   0.670     0.658\n",
       "MLP Classifier      kultura       0.785   0.805     0.795\n",
       "                    polska        0.649   0.620     0.634\n",
       "                    swiat         0.637   0.650     0.644\n",
       "Random Forest       kultura       0.783   0.740     0.761\n",
       "                    polska        0.611   0.700     0.653\n",
       "                    swiat         0.621   0.565     0.592"
      ]
     },
     "execution_count": 76,
     "metadata": {},
     "output_type": "execute_result"
    }
   ],
   "source": [
    "comparison_df"
   ]
  },
  {
   "cell_type": "markdown",
   "id": "9b086a96-36a6-4360-8d6b-0bd9a86c4a44",
   "metadata": {},
   "source": [
    "## Podsumowanie"
   ]
  },
  {
   "cell_type": "markdown",
   "id": "453da556-76f3-4b6e-8099-48f721802ba5",
   "metadata": {},
   "source": [
    "1. **Kategorie**\n",
    "\n",
    "> Najłatwiejszą do odgadnięcia kategorią dla każdego modelu okazała się Kultura.\n",
    "> \n",
    "> Wynikać to może z tego, że Kultura ma bardzo charakterystyczny słownik i frazy\n",
    "> \n",
    "> (np. nazwiska artystów, tytuły filmów, wydarzenia kulturalne, słowa kluczowe jak „wystawa”, „premiera”, „teatr”),\n",
    "> \n",
    "> które są łatwe do wychwycenia przez model.\n",
    "\n",
    "> Każdy z użytych modeli gorzej poradził sobie z odróżnieniem kategorii Polska i Świat.\n",
    ">\n",
    "> Wynikać to może z tego, że obie te kategorie mogą obejmować bardzo różnorodne tematy:\n",
    ">\n",
    "> polityka, gospodarka, społeczeństwo, sport itp.\n",
    ">\n",
    "> Granice między wiadomościami o Polsce i o Świecie mogą być rozmyte \n",
    ">\n",
    "> np. wydarzenia polityczne lub gospodarcze mające zasięg międzynarodowy lub dotyczące Polski w kontekście światowym.\n",
    "   \n",
    "2. **Modele**\n",
    "\n",
    "> Regresja Logistyczna osiągnęła najlepsze i najstabilniejsze wyniki, co sugeruje, że prosty model liniowy dobrze pasuje do danych i cech.\n",
    ">\n",
    "> MLP i Lasy Losowe uzyskały zbliżone wyniki do Regresji Logistycznej, ale mogą potrzebować dalszej optymalizacji.\n",
    ">\n",
    "> LLM (o dziwo!) uzyskał najsłabsze wyniki.\n",
    ">\n",
    "> Model LLaMA 3 jest głównie trenowany na dużych zbiorach tekstów w języku angielskim (ale również innych językach).\n",
    ">\n",
    "> Słabe wyniki tego modelu mogą sugerować potrzebę dodatkowego fine-tuningu na polskich tekstach."
   ]
  }
 ],
 "metadata": {
  "kernelspec": {
   "display_name": "Python 3 (ipykernel)",
   "language": "python",
   "name": "python3"
  },
  "language_info": {
   "codemirror_mode": {
    "name": "ipython",
    "version": 3
   },
   "file_extension": ".py",
   "mimetype": "text/x-python",
   "name": "python",
   "nbconvert_exporter": "python",
   "pygments_lexer": "ipython3",
   "version": "3.12.7"
  }
 },
 "nbformat": 4,
 "nbformat_minor": 5
}
